{
 "cells": [
  {
   "cell_type": "markdown",
   "metadata": {},
   "source": [
    "# Introduction\n",
    "\n",
    "***Iteration and Loop***: Iteration means executing the same block of code over and over, potentially many times. A programming structure that implements iteration is called a loop.\n",
    "\n",
    "In programming, there are two types of iteration, indefinite and definite:\n",
    "\n",
    "- With **indefinite iteration**, the number of times the loop is executed isn’t specified explicitly in advance. Rather, the designated block is executed repeatedly as long as some condition is met.\n",
    "\n",
    "- With **definite iteration**, the number of times the designated block will be executed is specified explicitly at the time the loop starts."
   ]
  },
  {
   "cell_type": "markdown",
   "metadata": {},
   "source": [
    "# While loop\n",
    "- Used for indefinite iteration\n",
    "- Keep executing a block of code while the given expression evaluates to ```True```\n",
    "- Usually the code block in the body of the while loop somehow changes the conditional expression so that it will eventually become false, otherwise while loop will keep executing forever.\n"
   ]
  },
  {
   "cell_type": "code",
   "execution_count": 3,
   "metadata": {},
   "outputs": [
    {
     "name": "stdout",
     "output_type": "stream",
     "text": [
      "10\n",
      "9\n",
      "8\n",
      "7\n",
      "6\n",
      "5\n",
      "4\n",
      "3\n",
      "2\n",
      "1\n"
     ]
    }
   ],
   "source": [
    "n = 10\n",
    "while n > 0:\n",
    "    print(n)\n",
    "    n-=1"
   ]
  },
  {
   "cell_type": "code",
   "execution_count": 6,
   "metadata": {},
   "outputs": [
    {
     "name": "stdout",
     "output_type": "stream",
     "text": [
      "9\n",
      "8\n",
      "7\n",
      "6\n",
      "5\n",
      "4\n",
      "3\n",
      "2\n",
      "1\n",
      "0\n"
     ]
    }
   ],
   "source": [
    "n = 10\n",
    "while n > 0:\n",
    "    n-=1\n",
    "    print(n)"
   ]
  },
  {
   "cell_type": "code",
   "execution_count": 7,
   "metadata": {},
   "outputs": [
    {
     "name": "stdout",
     "output_type": "stream",
     "text": [
      "7\n",
      "6\n",
      "5\n",
      "4\n",
      "3\n",
      "2\n",
      "1\n"
     ]
    }
   ],
   "source": [
    "a = [1,2,3,4,5,6,7]\n",
    "while a:\n",
    "    print(a.pop())"
   ]
  },
  {
   "cell_type": "markdown",
   "metadata": {},
   "source": [
    "### While with else"
   ]
  },
  {
   "cell_type": "code",
   "execution_count": 8,
   "metadata": {},
   "outputs": [
    {
     "name": "stdout",
     "output_type": "stream",
     "text": [
      "10\n",
      "9\n",
      "8\n",
      "7\n",
      "6\n",
      "5\n",
      "4\n",
      "3\n",
      "2\n",
      "1\n",
      "Finished.\n"
     ]
    }
   ],
   "source": [
    "n = 10\n",
    "while n > 0:\n",
    "    print(n)\n",
    "    n -= 1\n",
    "else:\n",
    "    print('Finished.')"
   ]
  },
  {
   "cell_type": "markdown",
   "metadata": {},
   "source": [
    "# For loop\n",
    "- used for finite number of iterations known ahead of time.\n",
    "- used for iterating over a sequence (a list, a tuple, a dictionary, a set, or a string).\n"
   ]
  },
  {
   "cell_type": "code",
   "execution_count": 27,
   "metadata": {},
   "outputs": [
    {
     "ename": "SyntaxError",
     "evalue": "invalid syntax (766642730.py, line 2)",
     "output_type": "error",
     "traceback": [
      "\u001b[1;36m  Cell \u001b[1;32mIn [27], line 2\u001b[1;36m\u001b[0m\n\u001b[1;33m    for (i = 1; i <= 10; i+=1):\u001b[0m\n\u001b[1;37m           ^\u001b[0m\n\u001b[1;31mSyntaxError\u001b[0m\u001b[1;31m:\u001b[0m invalid syntax\n"
     ]
    }
   ],
   "source": [
    "# There is no three expression loop available in python\n",
    "for (i = 1; i <= 10; i+=1):\n",
    "    print(i)"
   ]
  },
  {
   "cell_type": "code",
   "execution_count": 25,
   "metadata": {},
   "outputs": [
    {
     "name": "stdout",
     "output_type": "stream",
     "text": [
      "-5\n",
      "-4\n",
      "-3\n",
      "-2\n",
      "-1\n",
      "0\n",
      "1\n",
      "2\n",
      "3\n",
      "4\n"
     ]
    }
   ],
   "source": [
    "for x in range(-5,5):\n",
    "  print(x)"
   ]
  },
  {
   "cell_type": "code",
   "execution_count": 12,
   "metadata": {},
   "outputs": [
    {
     "name": "stdout",
     "output_type": "stream",
     "text": [
      "1\n",
      "a\n",
      "True\n",
      "[10, 20, 30]\n"
     ]
    }
   ],
   "source": [
    "a = [1,'a',True,[10,20,30]]\n",
    "for x in a:\n",
    "  print(x)"
   ]
  },
  {
   "cell_type": "code",
   "execution_count": 15,
   "metadata": {},
   "outputs": [
    {
     "name": "stdout",
     "output_type": "stream",
     "text": [
      "1 2\n",
      "3 4\n",
      "5 6\n"
     ]
    }
   ],
   "source": [
    "# Iterating ove a list of tuples\n",
    "for i, j in [(1, 2), (3, 4), (5, 6)]:\n",
    "    print(i, j)"
   ]
  },
  {
   "cell_type": "code",
   "execution_count": 23,
   "metadata": {},
   "outputs": [
    {
     "name": "stdout",
     "output_type": "stream",
     "text": [
      "dict_keys(['foo', 'bar', 'baz'])\n",
      "dict_values([1, 2, 3])\n",
      "dict_items([('foo', 1), ('bar', 2), ('baz', 3)])\n",
      "Print keys:\n",
      "foo\n",
      "bar\n",
      "baz\n",
      "Print values:\n",
      "1\n",
      "2\n",
      "3\n",
      "Print key-value pairs:\n",
      "foo 1\n",
      "bar 2\n",
      "baz 3\n",
      "k = foo , v = 1\n",
      "k = bar , v = 2\n",
      "k = baz , v = 3\n"
     ]
    }
   ],
   "source": [
    "# Iterating over a dictionary\n",
    "d = {'foo': 1, 'bar': 2, 'baz': 3}\n",
    "print(d.keys())\n",
    "print(d.values())\n",
    "print(d.items())\n",
    "\n",
    "print(\"Print keys:\")\n",
    "for k in d.keys():\n",
    "    print(k)\n",
    "\n",
    "print(\"Print values:\")\n",
    "for v in d.values():\n",
    "    print(v)\n",
    "\n",
    "print(\"Print key-value pairs:\")\n",
    "\n",
    "for k in d:\n",
    "    print(k,d[k])\n",
    "\n",
    "for k, v in d.items():\n",
    "    print('k =', k, ', v =', v)"
   ]
  },
  {
   "cell_type": "markdown",
   "metadata": {},
   "source": [
    "### For loop with else"
   ]
  },
  {
   "cell_type": "code",
   "execution_count": 26,
   "metadata": {},
   "outputs": [
    {
     "name": "stdout",
     "output_type": "stream",
     "text": [
      "0\n",
      "1\n",
      "2\n",
      "3\n",
      "4\n",
      "5\n",
      "6\n",
      "7\n",
      "8\n",
      "9\n",
      "Done.\n"
     ]
    }
   ],
   "source": [
    "for i in range(10):\n",
    "    print(i)\n",
    "else:\n",
    "    print('Done.')  # Will execute"
   ]
  },
  {
   "cell_type": "markdown",
   "metadata": {},
   "source": [
    "# Nested loop\n",
    "\n"
   ]
  },
  {
   "cell_type": "code",
   "execution_count": 1,
   "metadata": {},
   "outputs": [
    {
     "name": "stdout",
     "output_type": "stream",
     "text": [
      "red apple\n",
      "red banana\n",
      "red cherry\n",
      "big apple\n",
      "big banana\n",
      "big cherry\n",
      "tasty apple\n",
      "tasty banana\n",
      "tasty cherry\n"
     ]
    }
   ],
   "source": [
    "adj = [\"red\", \"big\", \"tasty\"]\n",
    "fruits = [\"apple\", \"banana\", \"cherry\"]\n",
    "\n",
    "for x in adj:\n",
    "  for y in fruits:\n",
    "    print(x, y)"
   ]
  },
  {
   "cell_type": "code",
   "execution_count": 6,
   "metadata": {},
   "outputs": [
    {
     "name": "stdout",
     "output_type": "stream",
     "text": [
      "[1, 1, 1]\n",
      "[2, 2, 2]\n",
      "[3, 3, 3]\n",
      "1\n",
      "1\n",
      "1\n",
      "2\n",
      "2\n",
      "2\n",
      "3\n",
      "3\n",
      "3\n",
      "[1, 1, 1]\n",
      "[2, 2, 2]\n",
      "[3, 3, 3]\n",
      "1\n",
      "1\n",
      "1\n",
      "2\n",
      "2\n",
      "2\n",
      "3\n",
      "3\n",
      "3\n"
     ]
    }
   ],
   "source": [
    "matrix = [[1,1,1],[2,2,2],[3,3,3]]\n",
    "\n",
    "# Example 1\n",
    "for i in matrix:\n",
    "    print(i)\n",
    "\n",
    "for i in matrix:\n",
    "    for j in i:\n",
    "        print(j)\n",
    "\n",
    "\n",
    "# Example 2\n",
    "for i in range(len(matrix)):\n",
    "    print(matrix[i])\n",
    "\n",
    "n = range(len(matrix))\n",
    "for i in n:\n",
    "    for j in n:\n",
    "        print(matrix[i][j])"
   ]
  },
  {
   "cell_type": "markdown",
   "metadata": {},
   "source": []
  },
  {
   "cell_type": "markdown",
   "metadata": {},
   "source": [
    "# Break control statement\n",
    "- To stop the loop midway. Break will exit out of the loop and execution control goes to the next line after the loop."
   ]
  },
  {
   "cell_type": "code",
   "execution_count": 8,
   "metadata": {},
   "outputs": [
    {
     "name": "stdout",
     "output_type": "stream",
     "text": [
      "2\n",
      "4\n",
      "6\n"
     ]
    }
   ],
   "source": [
    "evens = [2,4,6,8]\n",
    "for x in evens:\n",
    "  print(x)\n",
    "  if x == 6:\n",
    "    break"
   ]
  },
  {
   "cell_type": "markdown",
   "metadata": {},
   "source": [
    "# Continue statement"
   ]
  },
  {
   "cell_type": "code",
   "execution_count": 9,
   "metadata": {},
   "outputs": [
    {
     "name": "stdout",
     "output_type": "stream",
     "text": [
      "2\n",
      "4\n",
      "8\n"
     ]
    }
   ],
   "source": [
    "evens = [2,4,6,8]\n",
    "for x in evens:\n",
    "  if x == 6:\n",
    "    continue\n",
    "  print(x)"
   ]
  },
  {
   "cell_type": "markdown",
   "metadata": {},
   "source": [
    "# Pass statement\n",
    "The pass statement does nothing. It can be used when a statement is required syntactically but the program requires no action.\n"
   ]
  },
  {
   "cell_type": "code",
   "execution_count": 11,
   "metadata": {},
   "outputs": [
    {
     "ename": "IndentationError",
     "evalue": "expected an indented block (76088217.py, line 2)",
     "output_type": "error",
     "traceback": [
      "\u001b[1;36m  Cell \u001b[1;32mIn [11], line 2\u001b[1;36m\u001b[0m\n\u001b[1;33m    \u001b[0m\n\u001b[1;37m    ^\u001b[0m\n\u001b[1;31mIndentationError\u001b[0m\u001b[1;31m:\u001b[0m expected an indented block\n"
     ]
    }
   ],
   "source": [
    "if(True):\n",
    "    "
   ]
  },
  {
   "cell_type": "code",
   "execution_count": 12,
   "metadata": {},
   "outputs": [],
   "source": [
    "if(True):\n",
    "    pass"
   ]
  },
  {
   "cell_type": "code",
   "execution_count": 13,
   "metadata": {},
   "outputs": [],
   "source": [
    "for i in range(10):\n",
    "    pass"
   ]
  }
 ],
 "metadata": {
  "kernelspec": {
   "display_name": "Python 3.9.6 64-bit",
   "language": "python",
   "name": "python3"
  },
  "language_info": {
   "codemirror_mode": {
    "name": "ipython",
    "version": 3
   },
   "file_extension": ".py",
   "mimetype": "text/x-python",
   "name": "python",
   "nbconvert_exporter": "python",
   "pygments_lexer": "ipython3",
   "version": "3.9.6"
  },
  "orig_nbformat": 4,
  "vscode": {
   "interpreter": {
    "hash": "81794d4967e6c3204c66dcd87b604927b115b27c00565d3d43f05ba2f3a2cb0d"
   }
  }
 },
 "nbformat": 4,
 "nbformat_minor": 2
}
