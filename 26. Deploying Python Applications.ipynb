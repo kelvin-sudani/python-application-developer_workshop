{
 "cells": [
  {
   "cell_type": "markdown",
   "metadata": {},
   "source": [
    "# Pip\n",
    "- It is a package manager for python\n",
    "- JavaScript uses npm for package management, Ruby uses gem, and the .NET platform uses NuGet. \n",
    "- In Python, pip has become the standard package manager.\n",
    "Python’s installers have included pip since versions 3.4 and 2.7.9, for Python 3 and Python 2, respectively."
   ]
  },
  {
   "cell_type": "markdown",
   "metadata": {},
   "source": [
    "### Verify pip installation\n",
    "- run $`where pip` in CMD(not powershell) for windows\n",
    "- run $`pip -V` to see the version number"
   ]
  },
  {
   "cell_type": "markdown",
   "metadata": {},
   "source": [
    "To display the packages installed in your environment:\n",
    "$`python -m pip list`"
   ]
  },
  {
   "cell_type": "markdown",
   "metadata": {},
   "source": [
    "## Use:\n",
    "A cheatsheet: https://opensource.com/sites/default/files/gated-content/cheat_sheet_pip.pdf\n",
    "\n",
    "##### to install a package:\n",
    "\n",
    "$`pip install <pkg name>`\n",
    "\n",
    "$`pip install /home/user/src/requests`\n",
    "\n",
    "##### Specific version:\n",
    "\n",
    "$`pip install requests==2.22.0`\n",
    "\n",
    "$`pip install requests>=2.22.0,<3`  => within a specified range\n",
    "\n",
    "$`pip install requests!=2.21.0` => avoid a specific version\n",
    "\n",
    "##### Upgrade:\n",
    "\n",
    "$`pip list --outdated`\n",
    "\n",
    "$`pip install -U fastapi`"
   ]
  },
  {
   "cell_type": "markdown",
   "metadata": {},
   "source": [
    "### Requirement file\n",
    "When you share your Python project with other developers, you may want them to use the same versions of external packages that you’re using. Maybe a specific version of a package contains a new feature that you rely on, or the version of a package that you’re using is incompatible with former versions.\n",
    "\n",
    "Python uses requirements.txt for this purpose:\n",
    "\n",
    "to generate a requirements file:\n",
    "\n",
    "$`pip freeze > requirements.txt`\n",
    "\n",
    "to use a requirement file:\n",
    "\n",
    "$`pip install -r requirements.txt`"
   ]
  },
  {
   "cell_type": "markdown",
   "metadata": {},
   "source": [
    "# Virtual Environment\n",
    "<!-- TODO -->\n",
    "Python “Virtual Environments” allow Python packages to be installed in an isolated location for a particular application, rather than being installed globally. \n",
    "\n",
    "Currently, there are two common tools for creating Python virtual environments:\n",
    "\n",
    "- venv is available by default in Python 3.3 and later, and installs pip and setuptools into created virtual environments in Python 3.4 and later.\n",
    "\n",
    "- virtualenv needs to be installed separately, but supports Python 2.7+ and Python 3.3+, and pip, setuptools and wheel are always installed into created virtual environments by default (regardless of Python version).\n",
    "\n"
   ]
  },
  {
   "cell_type": "markdown",
   "metadata": {},
   "source": [
    "# Relocatable virtual environments\n",
    "<!-- TODO -->\n"
   ]
  },
  {
   "cell_type": "markdown",
   "metadata": {},
   "source": [
    "# The init.py files\n",
    "<!-- TODO -->\n",
    "\n"
   ]
  },
  {
   "cell_type": "markdown",
   "metadata": {},
   "source": [
    "# The setup.py file\n",
    "<!-- TODO -->\n",
    "The root directory of a package that has to be distributed contains a setup.py script. It defines all metadata.\n",
    "\n",
    "the minimum content for this file is as follows:\n",
    "```\n",
    "from setuptools import setup \n",
    " \n",
    "setup( \n",
    "    name='mypackage', \n",
    ") \n",
    "```"
   ]
  },
  {
   "cell_type": "code",
   "execution_count": null,
   "metadata": {},
   "outputs": [],
   "source": []
  },
  {
   "cell_type": "markdown",
   "metadata": {},
   "source": [
    "# Software deployment in Python\n",
    "<!-- TODO -->\n",
    "The packaging flow: https://packaging.python.org/en/latest/flow/"
   ]
  },
  {
   "cell_type": "markdown",
   "metadata": {},
   "source": [
    "### Poetry\n",
    "A python package that aims to provide a more predictable and convenient environment for working with the Python packaging ecosystem.\n",
    "`$ pip install poetry`\n",
    "\n",
    "Poetry can be used to:\n",
    "- Create new Python projects together with virtual environments\n",
    "- Initialize existing projects with a virtual environment\n",
    "- Manage project dependencies\n",
    "- Package libraries"
   ]
  },
  {
   "cell_type": "markdown",
   "metadata": {},
   "source": [
    "$`poetry new my-project`"
   ]
  }
 ],
 "metadata": {
  "kernelspec": {
   "display_name": "Python 3.9.6 64-bit",
   "language": "python",
   "name": "python3"
  },
  "language_info": {
   "codemirror_mode": {
    "name": "ipython",
    "version": 3
   },
   "file_extension": ".py",
   "mimetype": "text/x-python",
   "name": "python",
   "nbconvert_exporter": "python",
   "pygments_lexer": "ipython3",
   "version": "3.9.6"
  },
  "orig_nbformat": 4,
  "vscode": {
   "interpreter": {
    "hash": "81794d4967e6c3204c66dcd87b604927b115b27c00565d3d43f05ba2f3a2cb0d"
   }
  }
 },
 "nbformat": 4,
 "nbformat_minor": 2
}
