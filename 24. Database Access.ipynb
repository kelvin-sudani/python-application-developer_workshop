{
 "cells": [
  {
   "cell_type": "markdown",
   "metadata": {},
   "source": [
    "# Sqlite databases\n"
   ]
  },
  {
   "cell_type": "code",
   "execution_count": 14,
   "metadata": {},
   "outputs": [
    {
     "name": "stdout",
     "output_type": "stream",
     "text": [
      "[('John Doe', 'j_doe', 'john.doe@gmail.com'), ('Jimmy Johns', 'j_johns', 'jimmy.johns@gmail.com'), ('Mike Smith', 'm_smith', 'mike.smith@gmail.com')]\n"
     ]
    }
   ],
   "source": [
    "import sqlite3\n",
    "connection = sqlite3.connect(\"Users.db\")\n",
    "cursor = connection.cursor()\n",
    "cursor.execute('''\n",
    "CREATE TABLE IF NOT EXISTS Users \n",
    "(Name TEXT, Username TEXT, Email TEXT)\n",
    "''')\n",
    "cursor.execute(\"INSERT INTO Users VALUES ('John Doe','j_doe','john.doe@gmail.com')\")\n",
    "\n",
    "data = [('Jimmy Johns', 'j_johns', 'jimmy.johns@gmail.com'),\n",
    "        ('Mike Smith', 'm_smith', 'mike.smith@gmail.com')]\n",
    "cursor.executemany('INSERT INTO Users VALUES (?,?,?)', data)\n",
    "cursor.execute(\"SELECT * FROM Users\")\n",
    "# print(cursor.fetchone())\n",
    "# print(cursor.fetchmany(2))\n",
    "print(cursor.fetchall())\n",
    "connection.commit()\n",
    "connection.close()\n",
    "\n"
   ]
  },
  {
   "cell_type": "markdown",
   "metadata": {},
   "source": [
    "# MySQL databases\n",
    "\n"
   ]
  },
  {
   "cell_type": "code",
   "execution_count": 17,
   "metadata": {},
   "outputs": [
    {
     "name": "stdout",
     "output_type": "stream",
     "text": [
      "('demodatabase',)\n",
      "('information_schema',)\n",
      "('mysql',)\n",
      "('performance_schema',)\n",
      "('sakila',)\n",
      "('sys',)\n",
      "('world',)\n",
      "===> Show Tables:\n",
      "('users',)\n"
     ]
    }
   ],
   "source": [
    "import mysql.connector\n",
    "# help(mysql.connector.connect)\n",
    "\n",
    "db = mysql.connector.connect(\n",
    "    host = \"localhost\",\n",
    "    user=\"root\",\n",
    "    passwd=\"root\",\n",
    "    database = \"demodatabase\"\n",
    ")\n",
    "\n",
    "cur = db.cursor()\n",
    "cur.execute(\"SHOW DATABASES\")\n",
    "\n",
    "for d in cur:\n",
    "    print(d)\n",
    "# cur.execute(\"CREATE DATABASE demodatabase\")\n",
    "cur.execute(\"DROP TABLE users\")\n",
    "cur.execute(\"CREATE TABLE users (id INT AUTO_INCREMENT PRIMARY KEY, name VARCHAR(255), email VARCHAR(255))\")\n",
    "\n",
    "cur.execute(\"SHOW TABLES\")\n",
    "print(\"===> Show Tables:\")\n",
    "for t in cur:\n",
    "  print(t)\n",
    "\n",
    "cmd = \"INSERT INTO users (name, email) VALUES (%s, %s)\"\n",
    "\n",
    "cur.execute(cmd, (\"John\", \"john.doe@gmail.com\"))\n",
    "\n",
    "val = [\n",
    "    (\"Jim\", \"jim.smith@gmail.com\"),\n",
    "    (\"Alice\", \"alice1234@gmail.com\"),\n",
    "    (\"Bob\", \"bob1234@gmail.com\"),\n",
    "]\n",
    "\n",
    "cur.executemany(cmd, val)\n",
    "\n",
    "db.commit()\n"
   ]
  }
 ],
 "metadata": {
  "kernelspec": {
   "display_name": "Python 3.9.13 ('base')",
   "language": "python",
   "name": "python3"
  },
  "language_info": {
   "codemirror_mode": {
    "name": "ipython",
    "version": 3
   },
   "file_extension": ".py",
   "mimetype": "text/x-python",
   "name": "python",
   "nbconvert_exporter": "python",
   "pygments_lexer": "ipython3",
   "version": "3.9.13"
  },
  "orig_nbformat": 4,
  "vscode": {
   "interpreter": {
    "hash": "263a779546e3323939f0a6c5b94e451ea2667ccea8e03be3a1738938a98b785d"
   }
  }
 },
 "nbformat": 4,
 "nbformat_minor": 2
}
