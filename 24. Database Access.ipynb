{
 "cells": [
  {
   "cell_type": "markdown",
   "metadata": {},
   "source": [
    "# Sqlite databases\n"
   ]
  },
  {
   "cell_type": "code",
   "execution_count": 14,
   "metadata": {},
   "outputs": [
    {
     "name": "stdout",
     "output_type": "stream",
     "text": [
      "[('John Doe', 'j_doe', 'john.doe@gmail.com'), ('Jimmy Johns', 'j_johns', 'jimmy.johns@gmail.com'), ('Mike Smith', 'm_smith', 'mike.smith@gmail.com')]\n"
     ]
    }
   ],
   "source": [
    "import sqlite3\n",
    "connection = sqlite3.connect(\"Users.db\")\n",
    "cursor = connection.cursor()\n",
    "cursor.execute('''\n",
    "CREATE TABLE IF NOT EXISTS Users \n",
    "(Name TEXT, Username TEXT, Email TEXT)\n",
    "''')\n",
    "cursor.execute(\"INSERT INTO Users VALUES ('John Doe','j_doe','john.doe@gmail.com')\")\n",
    "\n",
    "data = [('Jimmy Johns', 'j_johns', 'jimmy.johns@gmail.com'),\n",
    "        ('Mike Smith', 'm_smith', 'mike.smith@gmail.com')]\n",
    "cursor.executemany('INSERT INTO Users VALUES (?,?,?)', data)\n",
    "cursor.execute(\"SELECT * FROM Users\")\n",
    "# print(cursor.fetchone())\n",
    "# print(cursor.fetchmany(2))\n",
    "print(cursor.fetchall())\n",
    "connection.commit()\n",
    "connection.close()\n",
    "\n"
   ]
  },
  {
   "cell_type": "markdown",
   "metadata": {},
   "source": [
    "# MySQL databases"
   ]
  }
 ],
 "metadata": {
  "kernelspec": {
   "display_name": "Python 3.9.6 64-bit",
   "language": "python",
   "name": "python3"
  },
  "language_info": {
   "codemirror_mode": {
    "name": "ipython",
    "version": 3
   },
   "file_extension": ".py",
   "mimetype": "text/x-python",
   "name": "python",
   "nbconvert_exporter": "python",
   "pygments_lexer": "ipython3",
   "version": "3.9.6"
  },
  "orig_nbformat": 4,
  "vscode": {
   "interpreter": {
    "hash": "81794d4967e6c3204c66dcd87b604927b115b27c00565d3d43f05ba2f3a2cb0d"
   }
  }
 },
 "nbformat": 4,
 "nbformat_minor": 2
}
