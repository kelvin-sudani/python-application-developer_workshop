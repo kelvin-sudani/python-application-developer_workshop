{
 "cells": [
  {
   "cell_type": "markdown",
   "metadata": {},
   "source": [
    "# Sqlite databases\n"
   ]
  },
  {
   "cell_type": "code",
   "execution_count": 14,
   "metadata": {},
   "outputs": [
    {
     "name": "stdout",
     "output_type": "stream",
     "text": [
      "[('John Doe', 'j_doe', 'john.doe@gmail.com'), ('Jimmy Johns', 'j_johns', 'jimmy.johns@gmail.com'), ('Mike Smith', 'm_smith', 'mike.smith@gmail.com')]\n"
     ]
    }
   ],
   "source": [
    "import sqlite3\n",
    "connection = sqlite3.connect(\"Users.db\")\n",
    "cursor = connection.cursor()\n",
    "cursor.execute('''\n",
    "CREATE TABLE IF NOT EXISTS Users \n",
    "(Name TEXT, Username TEXT, Email TEXT)\n",
    "''')\n",
    "cursor.execute(\"INSERT INTO Users VALUES ('John Doe','j_doe','john.doe@gmail.com')\")\n",
    "\n",
    "data = [('Jimmy Johns', 'j_johns', 'jimmy.johns@gmail.com'),\n",
    "        ('Mike Smith', 'm_smith', 'mike.smith@gmail.com')]\n",
    "cursor.executemany('INSERT INTO Users VALUES (?,?,?)', data)\n",
    "cursor.execute(\"SELECT * FROM Users\")\n",
    "# print(cursor.fetchone())\n",
    "# print(cursor.fetchmany(2))\n",
    "print(cursor.fetchall())\n",
    "connection.commit()\n",
    "connection.close()\n",
    "\n"
   ]
  },
  {
   "cell_type": "markdown",
   "metadata": {},
   "source": [
    "# MySQL databases\n",
    "<!-- TODO -->\n"
   ]
  },
  {
   "cell_type": "code",
   "execution_count": 3,
   "metadata": {},
   "outputs": [
    {
     "ename": "ModuleNotFoundError",
     "evalue": "No module named 'mysql'",
     "output_type": "error",
     "traceback": [
      "\u001b[1;31m---------------------------------------------------------------------------\u001b[0m",
      "\u001b[1;31mModuleNotFoundError\u001b[0m                       Traceback (most recent call last)",
      "Cell \u001b[1;32mIn [3], line 1\u001b[0m\n\u001b[1;32m----> 1\u001b[0m \u001b[39mimport\u001b[39;00m \u001b[39mmysql\u001b[39;00m\u001b[39m.\u001b[39;00m\u001b[39mconnector\u001b[39;00m\n\u001b[0;32m      2\u001b[0m help(mysql\u001b[39m.\u001b[39mconnector\u001b[39m.\u001b[39mconnect)\n",
      "\u001b[1;31mModuleNotFoundError\u001b[0m: No module named 'mysql'"
     ]
    }
   ],
   "source": [
    "import mysql.connector\n",
    "help(mysql.connector.connect)\n"
   ]
  },
  {
   "cell_type": "code",
   "execution_count": null,
   "metadata": {},
   "outputs": [],
   "source": [
    "conn = mysql.connector.connect(user='', password='',\n",
    "                               host='',\n",
    "                               database='user', port=3306)\n",
    "cur = conn.cur()\n",
    "\n",
    "cur.execute(\"SQL\")\n",
    "\n",
    "conn.commit()\n",
    "conn.rollback()\n",
    "conn.close()"
   ]
  }
 ],
 "metadata": {
  "kernelspec": {
   "display_name": "Python 3.9.13 ('base')",
   "language": "python",
   "name": "python3"
  },
  "language_info": {
   "codemirror_mode": {
    "name": "ipython",
    "version": 3
   },
   "file_extension": ".py",
   "mimetype": "text/x-python",
   "name": "python",
   "nbconvert_exporter": "python",
   "pygments_lexer": "ipython3",
   "version": "3.9.13"
  },
  "orig_nbformat": 4,
  "vscode": {
   "interpreter": {
    "hash": "263a779546e3323939f0a6c5b94e451ea2667ccea8e03be3a1738938a98b785d"
   }
  }
 },
 "nbformat": 4,
 "nbformat_minor": 2
}
