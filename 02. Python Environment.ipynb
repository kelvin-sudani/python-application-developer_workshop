{
 "cells": [
  {
   "cell_type": "markdown",
   "metadata": {},
   "source": [
    "# Local Environment Setup\n",
    "Python is an interpreted language, which reduces the edit-test-debug cycle because there's no compilation step required. In order to run Python apps, you need a runtime environment/interpreter to execute the code.\n",
    "\n",
    "Note:\n",
    "\n",
    "Most Python implementations partially compile scripts, turning the source code into byte code, which can run on any supported platform. This partial compile is done to improve performance for subsequent runs of the script and happens automatically. You can also generate a \"compiled\" version of the script and distribute an app without providing the full source code."
   ]
  },
  {
   "cell_type": "markdown",
   "metadata": {},
   "source": [
    "# Downloads and Installations\n",
    "https://www.python.org/downloads/\n",
    "\n",
    "https://www.anaconda.com/products/distribution\n",
    "\n",
    "### Online (No Setup Required)\n",
    "https://replit.com/\n",
    "\n",
    "https://jupyter.org/try-jupyter/lab/\n",
    "\n",
    "https://jupyter.org/try-jupyter/retro/notebooks/?path=notebooks/Intro.ipynb\n"
   ]
  },
  {
   "cell_type": "markdown",
   "metadata": {},
   "source": [
    "# Setting up Environment Path (Only if $python --version doesn't work)\n",
    "The PATH environment variable specifies the directories to be searched to find a command.\n",
    "If you add installation path of Python to the PATH variable then you or any program that uses python doesn't have to specify the full path of the python installation each time.\n",
    "If you cannot run command: ```python --version``` on a terminal then that means your OS cannot find where python is installed. You have to find the path where you have installed the python and then add this the PATH environmental variable."
   ]
  }
 ],
 "metadata": {
  "kernelspec": {
   "display_name": "Python 3.9.6 64-bit",
   "language": "python",
   "name": "python3"
  },
  "language_info": {
   "name": "python",
   "version": "3.9.6"
  },
  "orig_nbformat": 4,
  "vscode": {
   "interpreter": {
    "hash": "81794d4967e6c3204c66dcd87b604927b115b27c00565d3d43f05ba2f3a2cb0d"
   }
  }
 },
 "nbformat": 4,
 "nbformat_minor": 2
}
