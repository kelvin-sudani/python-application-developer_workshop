{
 "cells": [
  {
   "cell_type": "markdown",
   "metadata": {},
   "source": [
    "# Intoduction to Functions"
   ]
  },
  {
   "cell_type": "code",
   "execution_count": 3,
   "metadata": {},
   "outputs": [
    {
     "name": "stdout",
     "output_type": "stream",
     "text": [
      "Hello, World!\n"
     ]
    }
   ],
   "source": [
    "def hello():\n",
    "    print('Hello, World!')\n",
    "\n",
    "hello()"
   ]
  },
  {
   "cell_type": "code",
   "execution_count": 4,
   "metadata": {},
   "outputs": [
    {
     "name": "stdout",
     "output_type": "stream",
     "text": [
      "Hello, Bob\n",
      "Hello, Sam\n"
     ]
    }
   ],
   "source": [
    "# Pass single argument to a function\n",
    "def hello(name):\n",
    "    print('Hello,', name)\n",
    "\n",
    "hello('Bob')\n",
    "hello('Sam')\n"
   ]
  },
  {
   "cell_type": "code",
   "execution_count": 5,
   "metadata": {},
   "outputs": [
    {
     "name": "stdout",
     "output_type": "stream",
     "text": [
      "Bob is a developer\n"
     ]
    }
   ],
   "source": [
    "# Pass two arguments\n",
    "def func(name, job):\n",
    "    print(name, 'is a', job)\n",
    "\n",
    "func('Bob', 'developer')"
   ]
  },
  {
   "cell_type": "markdown",
   "metadata": {},
   "source": [
    "# Pass by reference and value"
   ]
  },
  {
   "cell_type": "code",
   "execution_count": 12,
   "metadata": {},
   "outputs": [
    {
     "name": "stdout",
     "output_type": "stream",
     "text": [
      "=====> Before: Value outside the function:  [10, 20] 0 NA {'name': 'Bob', 'age': 25, 'job': 'Dev', 'city': 'New York', 'email': 'bob@web.com'} ['a', 0, True] {'a': 'abcd', 'n': 1000, 'bool': True}\n",
      "=====> Value inside the function:  [10, 20, [11, 12, 13, 14, 15]] 100 abcdefg {'name': 'Jim', 'age': 20, 'job': 'Sales', 'city': 'New York', 'email': 'bob@web.com'} [1, 1, 1, 1] {'1': 1, '2': 2}\n",
      "=====> After: Value outside the function:  [10, 20, [11, 12, 13, 14, 15]] 0 NA {'name': 'Jim', 'age': 20, 'job': 'Sales', 'city': 'New York', 'email': 'bob@web.com'} ['a', 0, True] {'a': 'abcd', 'n': 1000, 'bool': True}\n"
     ]
    }
   ],
   "source": [
    "# Python uses something called pass -by-assignment(Pass-by-Object, Pass-byObject-Reference, Pass-by-Sharing)\n",
    "# A Python function can’t change the value of an argument by reassigning the corresponding parameter to something else, since that new assignment statement essentially binds that name to a new object.\n",
    "def change(list, n, str, D, r_list, r_dict):\n",
    "    list.append([11, 12, 13, 14, 15])\n",
    "    n+=100\n",
    "    str = \"abcdefg\"\n",
    "    D['name'] = \"Jim\"\n",
    "    D['age'] = 20\n",
    "    D['job'] = \"Sales\"\n",
    "    r_list = [1,1,1,1,]\n",
    "    r_dict = {'1':1,'2':2}\n",
    "    print(\"=====> Value inside the function: \",\n",
    "          list, n, str, D, r_list, r_dict)\n",
    "    return\n",
    "\n",
    "n = 0\n",
    "str = \"NA\"\n",
    "list = [10, 20]\n",
    "D = {'name': 'Bob',\n",
    "     'age': 25,\n",
    "     'job': 'Dev',\n",
    "     'city': 'New York',\n",
    "     'email': 'bob@web.com'}\n",
    "r_list = ['a',0,True] ## reassignment won't change the outside value\n",
    "# reassignment won't change the outside value\n",
    "r_dict = {'a': 'abcd', 'n': 1000, 'bool': True}\n",
    "\n",
    "print(\"=====> Before: Value outside the function: \",\n",
    "      list, n, str, D, r_list, r_dict)\n",
    "change(list,n,str, D, r_list, r_dict)\n",
    "print(\"=====> After: Value outside the function: \",\n",
    "      list, n, str, D, r_list, r_dict)\n"
   ]
  },
  {
   "cell_type": "markdown",
   "metadata": {},
   "source": [
    "# Function Arguments"
   ]
  },
  {
   "cell_type": "markdown",
   "metadata": {},
   "source": [
    "# Scope of variables\n"
   ]
  },
  {
   "cell_type": "markdown",
   "metadata": {},
   "source": [
    "### Local Scope\n",
    "A variable declared within a function has a LOCAL SCOPE. It is accessible from the point at which it is declared until the end of the function, and exists for as long as the function is executing."
   ]
  },
  {
   "cell_type": "code",
   "execution_count": 6,
   "metadata": {},
   "outputs": [
    {
     "name": "stdout",
     "output_type": "stream",
     "text": [
      "42\n"
     ]
    }
   ],
   "source": [
    "def myfunc():\n",
    "    x = 42      # local scope x\n",
    "    print(x)\n",
    "\n",
    "myfunc()  "
   ]
  },
  {
   "cell_type": "code",
   "execution_count": 7,
   "metadata": {},
   "outputs": [
    {
     "ename": "NameError",
     "evalue": "name 'x' is not defined",
     "output_type": "error",
     "traceback": [
      "\u001b[1;31m---------------------------------------------------------------------------\u001b[0m",
      "\u001b[1;31mNameError\u001b[0m                                 Traceback (most recent call last)",
      "Cell \u001b[1;32mIn [7], line 5\u001b[0m\n\u001b[0;32m      2\u001b[0m     x \u001b[39m=\u001b[39m \u001b[39m42\u001b[39m      \u001b[39m# local scope x\u001b[39;00m\n\u001b[0;32m      4\u001b[0m myfunc()\n\u001b[1;32m----> 5\u001b[0m \u001b[39mprint\u001b[39m(x)\n",
      "\u001b[1;31mNameError\u001b[0m: name 'x' is not defined"
     ]
    }
   ],
   "source": [
    "def myfunc():\n",
    "    x = 42      # local scope x\n",
    "\n",
    "myfunc()\n",
    "print(x) "
   ]
  },
  {
   "cell_type": "markdown",
   "metadata": {},
   "source": [
    "### Global Scope\n",
    "A variable declared outside all functions has a GLOBAL SCOPE. It is accessible throughout the file, and also inside any file which imports that file."
   ]
  },
  {
   "cell_type": "code",
   "execution_count": 9,
   "metadata": {},
   "outputs": [
    {
     "name": "stdout",
     "output_type": "stream",
     "text": [
      "42\n",
      "42\n"
     ]
    }
   ],
   "source": [
    "x = 42          # global scope x\n",
    "\n",
    "def myfunc():\n",
    "    print(x)    # x is 42 inside def\n",
    "\n",
    "myfunc()\n",
    "print(x)        # x is 42 outside def"
   ]
  },
  {
   "cell_type": "markdown",
   "metadata": {},
   "source": [
    "### Modifying Globals Inside a Function\n",
    "Although you can access global variables inside or outside of a function, you cannot modify it inside a function."
   ]
  },
  {
   "cell_type": "code",
   "execution_count": 10,
   "metadata": {},
   "outputs": [
    {
     "name": "stdout",
     "output_type": "stream",
     "text": [
      "0\n",
      "42\n"
     ]
    }
   ],
   "source": [
    "x = 42          # global scope x\n",
    "def myfunc():\n",
    "    x = 0\n",
    "    print(x)    # local x is 0\n",
    "\n",
    "myfunc()\n",
    "print(x)        # global x is still 42\n",
    "\n",
    "## Here, the value of global variable x didn’t change. \n",
    "# Because Python created a new local variable named x; \n",
    "# which disappears when the function ends, and has no effect on the global variable."
   ]
  },
  {
   "cell_type": "markdown",
   "metadata": {},
   "source": [
    "To access the global variable rather than the local one, you need to explicitly declare x global, using the global keyword."
   ]
  },
  {
   "cell_type": "code",
   "execution_count": 11,
   "metadata": {},
   "outputs": [
    {
     "name": "stdout",
     "output_type": "stream",
     "text": [
      "0\n",
      "0\n"
     ]
    }
   ],
   "source": [
    "x = 42          # global scope x\n",
    "def myfunc():\n",
    "    global x    # declare x global\n",
    "    x = 0\n",
    "    print(x)    # global x is now 0\n",
    "\n",
    "myfunc()\n",
    "print(x)        # x is 0"
   ]
  },
  {
   "cell_type": "markdown",
   "metadata": {},
   "source": [
    "Another example:"
   ]
  },
  {
   "cell_type": "code",
   "execution_count": 12,
   "metadata": {},
   "outputs": [
    {
     "ename": "UnboundLocalError",
     "evalue": "local variable 'x' referenced before assignment",
     "output_type": "error",
     "traceback": [
      "\u001b[1;31m---------------------------------------------------------------------------\u001b[0m",
      "\u001b[1;31mUnboundLocalError\u001b[0m                         Traceback (most recent call last)",
      "Cell \u001b[1;32mIn [12], line 7\u001b[0m\n\u001b[0;32m      4\u001b[0m     x \u001b[39m=\u001b[39m x \u001b[39m+\u001b[39m \u001b[39m1\u001b[39m   \u001b[39m# raises UnboundLocalError\u001b[39;00m\n\u001b[0;32m      5\u001b[0m     \u001b[39mprint\u001b[39m(x)\n\u001b[1;32m----> 7\u001b[0m myfunc()\n",
      "Cell \u001b[1;32mIn [12], line 4\u001b[0m, in \u001b[0;36mmyfunc\u001b[1;34m()\u001b[0m\n\u001b[0;32m      3\u001b[0m \u001b[39mdef\u001b[39;00m \u001b[39mmyfunc\u001b[39m():\n\u001b[1;32m----> 4\u001b[0m     x \u001b[39m=\u001b[39m x \u001b[39m+\u001b[39m \u001b[39m1\u001b[39m   \u001b[39m# raises UnboundLocalError\u001b[39;00m\n\u001b[0;32m      5\u001b[0m     \u001b[39mprint\u001b[39m(x)\n",
      "\u001b[1;31mUnboundLocalError\u001b[0m: local variable 'x' referenced before assignment"
     ]
    }
   ],
   "source": [
    "x = 42          # global scope x\n",
    "\n",
    "def myfunc():\n",
    "    x = x + 1   # raises UnboundLocalError\n",
    "    print(x)\n",
    "\n",
    "myfunc()"
   ]
  },
  {
   "cell_type": "markdown",
   "metadata": {},
   "source": [
    "Fix for above example:"
   ]
  },
  {
   "cell_type": "code",
   "execution_count": 13,
   "metadata": {},
   "outputs": [
    {
     "name": "stdout",
     "output_type": "stream",
     "text": [
      "43\n",
      "43\n"
     ]
    }
   ],
   "source": [
    "x = 42          # global scope x\n",
    "\n",
    "def myfunc():\n",
    "    global x\n",
    "    x = x + 1   # global x is now 43\n",
    "    print(x)\n",
    "\n",
    "myfunc()\n",
    "print(x)        # x is 43"
   ]
  },
  {
   "cell_type": "markdown",
   "metadata": {},
   "source": [
    "### Enclosing Scope\n"
   ]
  },
  {
   "cell_type": "code",
   "execution_count": 14,
   "metadata": {},
   "outputs": [
    {
     "name": "stdout",
     "output_type": "stream",
     "text": [
      "0\n",
      "42\n"
     ]
    }
   ],
   "source": [
    "# enclosing function\n",
    "def f1():\n",
    "    x = 42\n",
    "    # nested function\n",
    "    def f2():\n",
    "        x = 0\n",
    "        print(x)    # x is 0\n",
    "    f2()\n",
    "    print(x)        # x is still 42\n",
    "    \n",
    "f1()\n",
    "## "
   ]
  },
  {
   "cell_type": "markdown",
   "metadata": {},
   "source": [
    "In above example, the value of existing variable x didn’t change. \n",
    "Because Python created a new local variable named x that shadows the variable in the outer scope.\n",
    "Preventing that behavior is where the ```nonlocal``` keyword comes in."
   ]
  },
  {
   "cell_type": "code",
   "execution_count": null,
   "metadata": {},
   "outputs": [],
   "source": [
    "# enclosing function\n",
    "def f1():\n",
    "    x = 42\n",
    "    # nested function\n",
    "    def f2():\n",
    "        nonlocal x\n",
    "        x = 0\n",
    "        print(x)    # x is now 0\n",
    "    f2()\n",
    "    print(x)        # x remains 0\n",
    "    \n",
    "f1()"
   ]
  },
  {
   "cell_type": "markdown",
   "metadata": {},
   "source": [
    "The x inside the nested function now refers to the x outside the function, so changing x inside the function changes the x outside it.\n",
    "\n",
    "The usage of nonlocal is very similar to that of global, except that the former is primarily used in nested methods."
   ]
  },
  {
   "cell_type": "markdown",
   "metadata": {},
   "source": [
    "## Types of Arguments:\n",
    "- Positional Arguments\n",
    "- Default Arguments\n",
    "- Keyword Arguments\n",
    "- Arbitrary Argument Lists:\n",
    "  - Variable Length Positional Arguments (*args)\n",
    "  - Variable Length Keyword Arguments (**kwargs)"
   ]
  },
  {
   "cell_type": "markdown",
   "metadata": {},
   "source": [
    "## Positional Arguments"
   ]
  },
  {
   "cell_type": "code",
   "execution_count": 15,
   "metadata": {},
   "outputs": [
    {
     "name": "stdout",
     "output_type": "stream",
     "text": [
      "Bob is a developer\n"
     ]
    }
   ],
   "source": [
    "def func(name, job):\n",
    "    print(name, 'is a', job)\n",
    "\n",
    "func('Bob', 'developer')"
   ]
  },
  {
   "cell_type": "code",
   "execution_count": 16,
   "metadata": {},
   "outputs": [
    {
     "name": "stdout",
     "output_type": "stream",
     "text": [
      "developer is a Bob\n"
     ]
    }
   ],
   "source": [
    "# Order matters in positional arguments:\n",
    "def func(name, job):\n",
    "    print(name, 'is a', job)\n",
    "\n",
    "func('developer', 'Bob')"
   ]
  },
  {
   "cell_type": "markdown",
   "metadata": {},
   "source": [
    "## Default Argument Values\n"
   ]
  },
  {
   "cell_type": "code",
   "execution_count": 18,
   "metadata": {},
   "outputs": [
    {
     "name": "stdout",
     "output_type": "stream",
     "text": [
      "Bob is a manager\n",
      "Bob is a developer\n"
     ]
    }
   ],
   "source": [
    "# Set default value 'developer' to a 'job' parameter\n",
    "def func(name, job='developer'):\n",
    "    print(name, 'is a', job)\n",
    "\n",
    "func('Bob', 'manager')\n",
    "# Prints Bob is a manager\n",
    "\n",
    "func('Bob')\n",
    "# Prints Bob is a developer"
   ]
  },
  {
   "cell_type": "markdown",
   "metadata": {},
   "source": [
    "## Keyword Arguments\n"
   ]
  },
  {
   "cell_type": "code",
   "execution_count": 17,
   "metadata": {},
   "outputs": [
    {
     "name": "stdout",
     "output_type": "stream",
     "text": [
      "Bob is a developer\n",
      "Bob is a developer\n"
     ]
    }
   ],
   "source": [
    "# Keyword arguments can be put in any order\n",
    "def func(name, job):\n",
    "    print(name, 'is a', job)\n",
    "\n",
    "func(name='Bob', job='developer')\n",
    "# Prints Bob is a developer\n",
    "\n",
    "func(job='developer', name='Bob')\n",
    "# Prints Bob is a developer"
   ]
  },
  {
   "cell_type": "markdown",
   "metadata": {},
   "source": [
    "## Arbitrary Argument Lists\n"
   ]
  },
  {
   "cell_type": "markdown",
   "metadata": {},
   "source": [
    "### *args"
   ]
  },
  {
   "cell_type": "code",
   "execution_count": 20,
   "metadata": {},
   "outputs": [
    {
     "name": "stdout",
     "output_type": "stream",
     "text": [
      "(1, 54, 60, 8, 98, 12) <class 'tuple'>\n"
     ]
    }
   ],
   "source": [
    "def print_arguments(*args):\n",
    "    print(args, type(args))\n",
    "\n",
    "print_arguments(1, 54, 60, 8, 98, 12)\n",
    "# Prints (1, 54, 60, 8, 98, 12)"
   ]
  },
  {
   "cell_type": "markdown",
   "metadata": {},
   "source": [
    "### **kwargs"
   ]
  },
  {
   "cell_type": "code",
   "execution_count": 22,
   "metadata": {},
   "outputs": [
    {
     "name": "stdout",
     "output_type": "stream",
     "text": [
      "{'name': 'Bob', 'age': 25, 'job': 'dev'} <class 'dict'>\n"
     ]
    }
   ],
   "source": [
    "def print_arguments(**kwargs):\n",
    "    print(kwargs, type(kwargs))\n",
    "\n",
    "print_arguments(name='Bob', age=25, job='dev')\n",
    "# Prints {'name': 'Bob', 'age': 25, 'job': 'dev'}"
   ]
  },
  {
   "cell_type": "markdown",
   "metadata": {},
   "source": [
    "# Unpacking Argument Lists\n",
    "https://www.scaler.com/topics/python/packing-and-unpacking-in-python/\n",
    "\n"
   ]
  },
  {
   "cell_type": "markdown",
   "metadata": {},
   "source": [
    "# Lambda Expressions\n"
   ]
  },
  {
   "cell_type": "markdown",
   "metadata": {},
   "source": [
    "# Documentation Strings\n"
   ]
  },
  {
   "cell_type": "code",
   "execution_count": null,
   "metadata": {},
   "outputs": [],
   "source": []
  }
 ],
 "metadata": {
  "kernelspec": {
   "display_name": "Python 3.9.6 64-bit",
   "language": "python",
   "name": "python3"
  },
  "language_info": {
   "codemirror_mode": {
    "name": "ipython",
    "version": 3
   },
   "file_extension": ".py",
   "mimetype": "text/x-python",
   "name": "python",
   "nbconvert_exporter": "python",
   "pygments_lexer": "ipython3",
   "version": "3.9.6"
  },
  "orig_nbformat": 4,
  "vscode": {
   "interpreter": {
    "hash": "81794d4967e6c3204c66dcd87b604927b115b27c00565d3d43f05ba2f3a2cb0d"
   }
  }
 },
 "nbformat": 4,
 "nbformat_minor": 2
}
