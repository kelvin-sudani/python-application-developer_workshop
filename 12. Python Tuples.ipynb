{
 "cells": [
  {
   "cell_type": "markdown",
   "metadata": {},
   "source": [
    "# Basic tuple operations\n",
    "- Tuples are ordered. They maintain a left-to-right positional ordering\n",
    "- Accessed by index – Items in a tuple can be accessed using an index\n",
    "- Tuples can contain any sort of object – It can be numbers, strings, lists and even other tuples."
   ]
  },
  {
   "cell_type": "code",
   "execution_count": 29,
   "metadata": {},
   "outputs": [
    {
     "name": "stdout",
     "output_type": "stream",
     "text": [
      "('red', 'green', 'blue')  length =>  3\n",
      "(1, 'abc', 1.23, True)  length =>  4\n",
      "()  length =>  0\n",
      "(1, 'abc', 1.23, True)  length =>  4\n",
      "('red', ('green', 'blue'), 'yellow')  length =>  3\n"
     ]
    }
   ],
   "source": [
    "# Create a tuple\n",
    "\n",
    "# A tuple of integers\n",
    "T = (1, 2, 3)\n",
    "\n",
    "# A tuple of strings\n",
    "T = ('red', 'green', 'blue')\n",
    "print(T,\" length => \",len(T))\n",
    "\n",
    "# A tuple with mixed datatypes\n",
    "T = (1, 'abc', 1.23, True)\n",
    "print(T,\" length => \",len(T))\n",
    "\n",
    "# An empty tuple\n",
    "T = ()\n",
    "print(T,\" length => \",len(T))\n",
    "\n",
    "\n",
    "# A tuple without parentheses\n",
    "T = 1, 'abc', 1.23, True\n",
    "print(T,\" length => \",len(T))\n",
    "\n",
    "\n",
    "#nested tuple\n",
    "T = ('red', ('green', 'blue'), 'yellow')\n",
    "print(T,\" length => \",len(T))\n",
    "\n"
   ]
  },
  {
   "cell_type": "markdown",
   "metadata": {},
   "source": [
    "### Singleton Tuple\n",
    "add a trailing comma when you only have one item in a tuple."
   ]
  },
  {
   "cell_type": "code",
   "execution_count": 3,
   "metadata": {},
   "outputs": [
    {
     "name": "stdout",
     "output_type": "stream",
     "text": [
      "<class 'tuple'>\n",
      "<class 'int'>\n"
     ]
    }
   ],
   "source": [
    "T = (4,)\n",
    "print(type(T))\n",
    "\n",
    "# Not a tuple if you don't add a trailing comma\n",
    "T = (4)\n",
    "print(type(T))"
   ]
  },
  {
   "cell_type": "markdown",
   "metadata": {},
   "source": [
    "### Convert other data types to a tuple"
   ]
  },
  {
   "cell_type": "code",
   "execution_count": 4,
   "metadata": {},
   "outputs": [
    {
     "name": "stdout",
     "output_type": "stream",
     "text": [
      "(1, 2, 3)\n",
      "('a', 'b', 'c')\n"
     ]
    }
   ],
   "source": [
    "# Convert a list to a tuple\n",
    "T = tuple([1, 2, 3])\n",
    "print(T)\n",
    "\n",
    "# Convert a string to a tuple\n",
    "T = tuple('abc')\n",
    "print(T)"
   ]
  },
  {
   "cell_type": "markdown",
   "metadata": {},
   "source": [
    "# Indexing and slicing"
   ]
  },
  {
   "cell_type": "markdown",
   "metadata": {},
   "source": [
    "### Access items"
   ]
  },
  {
   "cell_type": "code",
   "execution_count": 13,
   "metadata": {},
   "outputs": [
    {
     "name": "stdout",
     "output_type": "stream",
     "text": [
      "red\n",
      "blue\n",
      "black\n",
      "yellow\n"
     ]
    }
   ],
   "source": [
    "T = ('red', 'green', 'blue', 'yellow', 'black')\n",
    "\n",
    "print(T[0])\n",
    "print(T[2])\n",
    "print(T[-1])\n",
    "print(T[-2])"
   ]
  },
  {
   "cell_type": "markdown",
   "metadata": {},
   "source": [
    "#### Slicing"
   ]
  },
  {
   "cell_type": "code",
   "execution_count": 15,
   "metadata": {},
   "outputs": [
    {
     "name": "stdout",
     "output_type": "stream",
     "text": [
      "('blue', 'yellow', 'black')\n",
      "('red', 'green', 'blue', 'yellow', 'black')\n",
      "('blue', 'yellow', 'black')\n",
      "('yellow',)\n",
      "('red', 'green', 'blue', 'yellow')\n"
     ]
    }
   ],
   "source": [
    "print(T[2:5])\n",
    "print(T[:5])\n",
    "print(T[2:])\n",
    "print(T[3:-1])\n",
    "print(T[-5:-1])"
   ]
  },
  {
   "cell_type": "markdown",
   "metadata": {},
   "source": [
    "# More Basic Operations"
   ]
  },
  {
   "cell_type": "markdown",
   "metadata": {},
   "source": [
    "## Change a tuple\n",
    "Tuples are immutable (unchangeable). Once a tuple is created, it cannot be modified."
   ]
  },
  {
   "cell_type": "code",
   "execution_count": 16,
   "metadata": {},
   "outputs": [
    {
     "ename": "TypeError",
     "evalue": "'tuple' object does not support item assignment",
     "output_type": "error",
     "traceback": [
      "\u001b[1;31m---------------------------------------------------------------------------\u001b[0m",
      "\u001b[1;31mTypeError\u001b[0m                                 Traceback (most recent call last)",
      "Cell \u001b[1;32mIn [16], line 2\u001b[0m\n\u001b[0;32m      1\u001b[0m T \u001b[39m=\u001b[39m (\u001b[39m'\u001b[39m\u001b[39mred\u001b[39m\u001b[39m'\u001b[39m, \u001b[39m'\u001b[39m\u001b[39mgreen\u001b[39m\u001b[39m'\u001b[39m, \u001b[39m'\u001b[39m\u001b[39mblue\u001b[39m\u001b[39m'\u001b[39m)\n\u001b[1;32m----> 2\u001b[0m T[\u001b[39m0\u001b[39;49m] \u001b[39m=\u001b[39m \u001b[39m'\u001b[39m\u001b[39mblack\u001b[39m\u001b[39m'\u001b[39m\n",
      "\u001b[1;31mTypeError\u001b[0m: 'tuple' object does not support item assignment"
     ]
    }
   ],
   "source": [
    "T = ('red', 'green', 'blue')\n",
    "T[0] = 'black'"
   ]
  },
  {
   "cell_type": "markdown",
   "metadata": {},
   "source": [
    "The tuple immutability is applicable only to the top level of the tuple itself, not to its contents. For example, a list inside a tuple can be changed as usual."
   ]
  },
  {
   "cell_type": "code",
   "execution_count": 17,
   "metadata": {},
   "outputs": [
    {
     "name": "stdout",
     "output_type": "stream",
     "text": [
      "(1, ['xx', 3], 4)\n"
     ]
    }
   ],
   "source": [
    "T = (1, [2, 3], 4)\n",
    "T[1][0] = 'xx'\n",
    "print(T)"
   ]
  },
  {
   "cell_type": "markdown",
   "metadata": {},
   "source": [
    "There some ways to change a tuple:\n",
    "- convert a tuple into a list, then modify a list and then convert it back to a tuple\n",
    "- add a tuple to a tuple"
   ]
  },
  {
   "cell_type": "code",
   "execution_count": 49,
   "metadata": {},
   "outputs": [
    {
     "name": "stdout",
     "output_type": "stream",
     "text": [
      "before:  ('apple', 'banana', 'cherry')\n",
      "after:  ('apple', 'banana', 'cherry', 'orange')\n"
     ]
    }
   ],
   "source": [
    "# Add an item\n",
    "a_tuple = (\"apple\", \"banana\", \"cherry\")\n",
    "print(\"before: \",a_tuple)\n",
    "y = list(a_tuple)\n",
    "y.append(\"orange\")\n",
    "a_tuple = tuple(y)\n",
    "print(\"after: \",a_tuple)"
   ]
  },
  {
   "cell_type": "code",
   "execution_count": 42,
   "metadata": {},
   "outputs": [
    {
     "name": "stdout",
     "output_type": "stream",
     "text": [
      "('apple', 'banana', 'cherry')\n",
      "('apple', 'banana', 'cherry', 'orange')\n"
     ]
    }
   ],
   "source": [
    "a_tuple = (\"apple\", \"banana\", \"cherry\")\n",
    "print(a_tuple)\n",
    "\n",
    "y = (\"orange\",)\n",
    "a_tuple += y\n",
    "\n",
    "print(a_tuple)"
   ]
  },
  {
   "cell_type": "markdown",
   "metadata": {},
   "source": [
    "## Delete a Tuple"
   ]
  },
  {
   "cell_type": "markdown",
   "metadata": {},
   "source": [
    "You cannot delete any item from a tuple. However, you can delete the tuple completely with del keyword."
   ]
  },
  {
   "cell_type": "code",
   "execution_count": 25,
   "metadata": {},
   "outputs": [
    {
     "name": "stdout",
     "output_type": "stream",
     "text": [
      "('red', 'green', 'blue')\n"
     ]
    },
    {
     "ename": "NameError",
     "evalue": "name 'T' is not defined",
     "output_type": "error",
     "traceback": [
      "\u001b[1;31m---------------------------------------------------------------------------\u001b[0m",
      "\u001b[1;31mNameError\u001b[0m                                 Traceback (most recent call last)",
      "Cell \u001b[1;32mIn [25], line 4\u001b[0m\n\u001b[0;32m      2\u001b[0m \u001b[39mprint\u001b[39m(T)\n\u001b[0;32m      3\u001b[0m \u001b[39mdel\u001b[39;00m T\n\u001b[1;32m----> 4\u001b[0m \u001b[39mprint\u001b[39m(T)\n",
      "\u001b[1;31mNameError\u001b[0m: name 'T' is not defined"
     ]
    }
   ],
   "source": [
    "T = ('red', 'green', 'blue')\n",
    "print(T)\n",
    "del T\n",
    "print(T)"
   ]
  },
  {
   "cell_type": "markdown",
   "metadata": {},
   "source": [
    "Similar to adding an item you can convert a tuple into a list then remove an item and then convert it back to a tuple."
   ]
  },
  {
   "cell_type": "code",
   "execution_count": 50,
   "metadata": {},
   "outputs": [
    {
     "name": "stdout",
     "output_type": "stream",
     "text": [
      "before:  ('apple', 'banana', 'cherry')\n",
      "after:  ('banana', 'cherry')\n"
     ]
    }
   ],
   "source": [
    "# Remove an item\n",
    "a_tuple = (\"apple\", \"banana\", \"cherry\")\n",
    "print(\"before: \",a_tuple)\n",
    "y = list(a_tuple)\n",
    "y.remove(\"apple\")\n",
    "a_tuple = tuple(y)\n",
    "print(\"after: \",a_tuple)"
   ]
  },
  {
   "cell_type": "markdown",
   "metadata": {},
   "source": [
    "## Concatenation & Repetition"
   ]
  },
  {
   "cell_type": "code",
   "execution_count": 26,
   "metadata": {},
   "outputs": [
    {
     "name": "stdout",
     "output_type": "stream",
     "text": [
      "('red', 'green', 'blue', 1, 2, 3)\n",
      "('red', 'red', 'red')\n"
     ]
    }
   ],
   "source": [
    "# Concatenate\n",
    "T = ('red', 'green', 'blue') + (1, 2, 3)\n",
    "print(T)\n",
    "\n",
    "\n",
    "# Replicate\n",
    "T = ('red',) * 3\n",
    "print(T)"
   ]
  },
  {
   "cell_type": "markdown",
   "metadata": {},
   "source": [
    "## Check if item exists in a tuple"
   ]
  },
  {
   "cell_type": "code",
   "execution_count": 30,
   "metadata": {},
   "outputs": [
    {
     "name": "stdout",
     "output_type": "stream",
     "text": [
      "yes\n",
      "yes\n"
     ]
    }
   ],
   "source": [
    "# Check for presence\n",
    "T = ('red', 'green', 'blue')\n",
    "if 'red' in T:\n",
    "    print('yes')\n",
    "\n",
    "# Check for absence\n",
    "T = ('red', 'green', 'blue')\n",
    "if 'yellow' not in T:\n",
    "    print('yes')"
   ]
  },
  {
   "cell_type": "markdown",
   "metadata": {},
   "source": [
    "## Iterate through a tuple"
   ]
  },
  {
   "cell_type": "code",
   "execution_count": 31,
   "metadata": {},
   "outputs": [
    {
     "name": "stdout",
     "output_type": "stream",
     "text": [
      "red\n",
      "green\n",
      "blue\n"
     ]
    }
   ],
   "source": [
    "T = ('red', 'green', 'blue')\n",
    "for item in T:\n",
    "    print(item)"
   ]
  },
  {
   "cell_type": "markdown",
   "metadata": {},
   "source": [
    "## Sorting"
   ]
  },
  {
   "cell_type": "code",
   "execution_count": 32,
   "metadata": {},
   "outputs": [
    {
     "name": "stdout",
     "output_type": "stream",
     "text": [
      "('aa', 'bb', 'cc', 'dd')\n"
     ]
    }
   ],
   "source": [
    "# Option 1: Use the built-in sorted() method that accepts any sequence object.\n",
    "T = ('cc', 'aa', 'dd', 'bb')\n",
    "print(tuple(sorted(T)))"
   ]
  },
  {
   "cell_type": "code",
   "execution_count": 33,
   "metadata": {},
   "outputs": [
    {
     "name": "stdout",
     "output_type": "stream",
     "text": [
      "('aa', 'bb', 'cc', 'dd')\n"
     ]
    }
   ],
   "source": [
    "# Option 2: Convert a tuple into a list, then sort and then convert it back to a tuple\n",
    "T = ('cc', 'aa', 'dd', 'bb')\n",
    "tmp = list(T)    # convert tuple to list\n",
    "tmp.sort()       # sort list\n",
    "T = tuple(tmp)   # convert list to tuple\n",
    "print(T)   \n"
   ]
  },
  {
   "cell_type": "markdown",
   "metadata": {},
   "source": [
    "## Tuple Unpacking"
   ]
  },
  {
   "cell_type": "code",
   "execution_count": 9,
   "metadata": {},
   "outputs": [
    {
     "name": "stdout",
     "output_type": "stream",
     "text": [
      "red\n",
      "green\n",
      "blue\n",
      "cyan\n"
     ]
    }
   ],
   "source": [
    "T = ('red', 'green', 'blue', 'cyan')\n",
    "(a, b, c, d) = T\n",
    "\n",
    "print(a)\n",
    "print(b)\n",
    "print(c)\n",
    "print(d)\n"
   ]
  },
  {
   "cell_type": "code",
   "execution_count": 11,
   "metadata": {},
   "outputs": [
    {
     "ename": "ValueError",
     "evalue": "too many values to unpack (expected 2)",
     "output_type": "error",
     "traceback": [
      "\u001b[1;31m---------------------------------------------------------------------------\u001b[0m",
      "\u001b[1;31mValueError\u001b[0m                                Traceback (most recent call last)",
      "Cell \u001b[1;32mIn [11], line 4\u001b[0m\n\u001b[0;32m      1\u001b[0m \u001b[39m# Common errors in tuple unpacking\u001b[39;00m\n\u001b[0;32m      3\u001b[0m T \u001b[39m=\u001b[39m (\u001b[39m'\u001b[39m\u001b[39mred\u001b[39m\u001b[39m'\u001b[39m, \u001b[39m'\u001b[39m\u001b[39mgreen\u001b[39m\u001b[39m'\u001b[39m, \u001b[39m'\u001b[39m\u001b[39mblue\u001b[39m\u001b[39m'\u001b[39m, \u001b[39m'\u001b[39m\u001b[39mcyan\u001b[39m\u001b[39m'\u001b[39m)\n\u001b[1;32m----> 4\u001b[0m (a, b) \u001b[39m=\u001b[39m T\n",
      "\u001b[1;31mValueError\u001b[0m: too many values to unpack (expected 2)"
     ]
    }
   ],
   "source": [
    "# Common errors in tuple unpacking\n",
    "\n",
    "T = ('red', 'green', 'blue', 'cyan')\n",
    "(a, b) = T\n"
   ]
  },
  {
   "cell_type": "code",
   "execution_count": 10,
   "metadata": {},
   "outputs": [
    {
     "ename": "ValueError",
     "evalue": "not enough values to unpack (expected 4, got 3)",
     "output_type": "error",
     "traceback": [
      "\u001b[1;31m---------------------------------------------------------------------------\u001b[0m",
      "\u001b[1;31mValueError\u001b[0m                                Traceback (most recent call last)",
      "Cell \u001b[1;32mIn [10], line 2\u001b[0m\n\u001b[0;32m      1\u001b[0m T \u001b[39m=\u001b[39m (\u001b[39m'\u001b[39m\u001b[39mred\u001b[39m\u001b[39m'\u001b[39m, \u001b[39m'\u001b[39m\u001b[39mgreen\u001b[39m\u001b[39m'\u001b[39m, \u001b[39m'\u001b[39m\u001b[39mblue\u001b[39m\u001b[39m'\u001b[39m)\n\u001b[1;32m----> 2\u001b[0m (a, b, c, d) \u001b[39m=\u001b[39m T\n",
      "\u001b[1;31mValueError\u001b[0m: not enough values to unpack (expected 4, got 3)"
     ]
    }
   ],
   "source": [
    "\n",
    "T = ('red', 'green', 'blue')\n",
    "(a, b, c, d) = T"
   ]
  },
  {
   "cell_type": "markdown",
   "metadata": {},
   "source": [
    "# Built-in functions"
   ]
  },
  {
   "cell_type": "markdown",
   "metadata": {},
   "source": [
    "### Count:\n",
    "Returns the count of specified item in the tuple"
   ]
  },
  {
   "cell_type": "code",
   "execution_count": 36,
   "metadata": {},
   "outputs": [
    {
     "name": "stdout",
     "output_type": "stream",
     "text": [
      "2\n",
      "0\n"
     ]
    }
   ],
   "source": [
    "T = ('red', 'green', 'blue','red')\n",
    "print(T.count('red'))\n",
    "print(T.count('orange'))"
   ]
  },
  {
   "cell_type": "markdown",
   "metadata": {},
   "source": [
    "### Index"
   ]
  },
  {
   "cell_type": "code",
   "execution_count": 37,
   "metadata": {},
   "outputs": [
    {
     "name": "stdout",
     "output_type": "stream",
     "text": [
      "0\n"
     ]
    },
    {
     "ename": "ValueError",
     "evalue": "tuple.index(x): x not in tuple",
     "output_type": "error",
     "traceback": [
      "\u001b[1;31m---------------------------------------------------------------------------\u001b[0m",
      "\u001b[1;31mValueError\u001b[0m                                Traceback (most recent call last)",
      "Cell \u001b[1;32mIn [37], line 3\u001b[0m\n\u001b[0;32m      1\u001b[0m T \u001b[39m=\u001b[39m (\u001b[39m'\u001b[39m\u001b[39mred\u001b[39m\u001b[39m'\u001b[39m, \u001b[39m'\u001b[39m\u001b[39mgreen\u001b[39m\u001b[39m'\u001b[39m, \u001b[39m'\u001b[39m\u001b[39mblue\u001b[39m\u001b[39m'\u001b[39m,\u001b[39m'\u001b[39m\u001b[39mred\u001b[39m\u001b[39m'\u001b[39m)\n\u001b[0;32m      2\u001b[0m \u001b[39mprint\u001b[39m(T\u001b[39m.\u001b[39mindex(\u001b[39m'\u001b[39m\u001b[39mred\u001b[39m\u001b[39m'\u001b[39m))\n\u001b[1;32m----> 3\u001b[0m \u001b[39mprint\u001b[39m(T\u001b[39m.\u001b[39;49mindex(\u001b[39m'\u001b[39;49m\u001b[39morange\u001b[39;49m\u001b[39m'\u001b[39;49m))\n",
      "\u001b[1;31mValueError\u001b[0m: tuple.index(x): x not in tuple"
     ]
    }
   ],
   "source": [
    "T = ('red', 'green', 'blue','red')\n",
    "print(T.index('red'))\n",
    "print(T.index('orange'))"
   ]
  }
 ],
 "metadata": {
  "kernelspec": {
   "display_name": "Python 3.9.6 64-bit",
   "language": "python",
   "name": "python3"
  },
  "language_info": {
   "codemirror_mode": {
    "name": "ipython",
    "version": 3
   },
   "file_extension": ".py",
   "mimetype": "text/x-python",
   "name": "python",
   "nbconvert_exporter": "python",
   "pygments_lexer": "ipython3",
   "version": "3.9.6"
  },
  "orig_nbformat": 4,
  "vscode": {
   "interpreter": {
    "hash": "81794d4967e6c3204c66dcd87b604927b115b27c00565d3d43f05ba2f3a2cb0d"
   }
  }
 },
 "nbformat": 4,
 "nbformat_minor": 2
}
