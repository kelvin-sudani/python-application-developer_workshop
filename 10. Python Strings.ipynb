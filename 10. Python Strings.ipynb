{
 "cells": [
  {
   "cell_type": "markdown",
   "id": "26c7504d",
   "metadata": {},
   "source": [
    "# Strings\n",
    "They can be enclosed in single quotes ('...') or double quotes (\"...\") "
   ]
  },
  {
   "cell_type": "code",
   "execution_count": 59,
   "id": "45eeaf51",
   "metadata": {},
   "outputs": [
    {
     "data": {
      "text/plain": [
       "'abcd'"
      ]
     },
     "execution_count": 59,
     "metadata": {},
     "output_type": "execute_result"
    }
   ],
   "source": [
    "'abcd'"
   ]
  },
  {
   "cell_type": "code",
   "execution_count": 60,
   "id": "39428637",
   "metadata": {},
   "outputs": [
    {
     "data": {
      "text/plain": [
       "'abcd'"
      ]
     },
     "execution_count": 60,
     "metadata": {},
     "output_type": "execute_result"
    }
   ],
   "source": [
    "\"abcd\""
   ]
  },
  {
   "cell_type": "code",
   "execution_count": 62,
   "id": "5348634b",
   "metadata": {},
   "outputs": [],
   "source": [
    "s = \"abc123%^&*\""
   ]
  },
  {
   "cell_type": "code",
   "execution_count": 63,
   "id": "7ab2582e",
   "metadata": {},
   "outputs": [
    {
     "name": "stdout",
     "output_type": "stream",
     "text": [
      "abc123%^&*\n"
     ]
    }
   ],
   "source": [
    "print(s)"
   ]
  },
  {
   "cell_type": "markdown",
   "id": "1dcdeabf",
   "metadata": {},
   "source": [
    "### Find length of a string"
   ]
  },
  {
   "cell_type": "code",
   "execution_count": 65,
   "id": "16d95e59",
   "metadata": {},
   "outputs": [
    {
     "name": "stdout",
     "output_type": "stream",
     "text": [
      "10\n"
     ]
    }
   ],
   "source": [
    "print(len(s))"
   ]
  },
  {
   "cell_type": "markdown",
   "id": "6052e822",
   "metadata": {},
   "source": [
    "whitespace are preserved"
   ]
  },
  {
   "cell_type": "code",
   "execution_count": 67,
   "id": "e4ca2845",
   "metadata": {},
   "outputs": [
    {
     "data": {
      "text/plain": [
       "'abcd 1234 fghj'"
      ]
     },
     "execution_count": 67,
     "metadata": {},
     "output_type": "execute_result"
    }
   ],
   "source": [
    "\"abcd 1234 fghj\""
   ]
  },
  {
   "cell_type": "code",
   "execution_count": 85,
   "id": "d9cae6cf",
   "metadata": {},
   "outputs": [
    {
     "name": "stdout",
     "output_type": "stream",
     "text": [
      "aaaaaa\n",
      "aaaaaa\n",
      "zzzzzzzz\n",
      "aaaaaa\n"
     ]
    }
   ],
   "source": [
    "a = \"aaaaaa\"\n",
    "b = a\n",
    "print(a)\n",
    "print(b)\n",
    "a = \"zzzzzzzz\"\n",
    "print(a)\n",
    "print(b)"
   ]
  },
  {
   "cell_type": "markdown",
   "id": "56fb8cdb",
   "metadata": {},
   "source": [
    "### Escape Character\n",
    "use ```\\``` before the character\n",
    "<br/>\n",
    "Example: <br/>\n",
    "```\\n``` => new line <br/>\n",
    "```\\'``` => '"
   ]
  },
  {
   "cell_type": "code",
   "execution_count": 73,
   "id": "720d380f",
   "metadata": {},
   "outputs": [
    {
     "data": {
      "text/plain": [
       "'this is the first line \\n this is the second line'"
      ]
     },
     "execution_count": 73,
     "metadata": {},
     "output_type": "execute_result"
    }
   ],
   "source": [
    "\"this is the first line \\n this is the second line\" ## \\n is for new line"
   ]
  },
  {
   "cell_type": "code",
   "execution_count": 75,
   "id": "61742aff",
   "metadata": {},
   "outputs": [
    {
     "name": "stdout",
     "output_type": "stream",
     "text": [
      "this is the first line \n",
      "this is the second line\n"
     ]
    }
   ],
   "source": [
    "val = \"this is the first line \\nthis is the second line\"\n",
    "print(val)"
   ]
  },
  {
   "cell_type": "code",
   "execution_count": 78,
   "id": "90020cf6",
   "metadata": {},
   "outputs": [
    {
     "name": "stdout",
     "output_type": "stream",
     "text": [
      "Don't worry, be happy\n"
     ]
    }
   ],
   "source": [
    "str = \"Don't worry, be happy\"\n",
    "print(str)"
   ]
  },
  {
   "cell_type": "code",
   "execution_count": 79,
   "id": "e144b9ed",
   "metadata": {},
   "outputs": [
    {
     "ename": "SyntaxError",
     "evalue": "invalid syntax (1086208325.py, line 1)",
     "output_type": "error",
     "traceback": [
      "\u001b[1;36m  File \u001b[1;32m\"C:\\Users\\ks\\AppData\\Local\\Temp\\ipykernel_14524\\1086208325.py\"\u001b[1;36m, line \u001b[1;32m1\u001b[0m\n\u001b[1;33m    str = 'Don't worry, be happy'\u001b[0m\n\u001b[1;37m               ^\u001b[0m\n\u001b[1;31mSyntaxError\u001b[0m\u001b[1;31m:\u001b[0m invalid syntax\n"
     ]
    }
   ],
   "source": [
    "str = 'Don't worry, be happy'\n",
    "print(str)"
   ]
  },
  {
   "cell_type": "code",
   "execution_count": 84,
   "id": "ab091eb3",
   "metadata": {},
   "outputs": [
    {
     "name": "stdout",
     "output_type": "stream",
     "text": [
      " Don't worry, be happy.\n",
      " Just say 'YES' to everything and \"NO\" to nothing\n"
     ]
    }
   ],
   "source": [
    "str = ' Don\\'t worry, be happy.\\n Just say \\'YES\\' to everything and \"NO\" to nothing'\n",
    "print(str)"
   ]
  },
  {
   "cell_type": "markdown",
   "id": "1be7e08d",
   "metadata": {},
   "source": [
    "If you don’t want characters prefaced by \\ to be interpreted as special characters, you can use raw strings by adding an r before the first quote:"
   ]
  },
  {
   "cell_type": "code",
   "execution_count": 6,
   "id": "74e54dd7",
   "metadata": {},
   "outputs": [
    {
     "name": "stdout",
     "output_type": "stream",
     "text": [
      "C:\\some\n",
      "ame\n",
      "C:\\some\\name\n"
     ]
    }
   ],
   "source": [
    "print('C:\\some\\name')  # here \\n means newline!\n",
    "print(r'C:\\some\\name')  # note the r before the quote"
   ]
  },
  {
   "cell_type": "markdown",
   "id": "40cb881b",
   "metadata": {},
   "source": [
    "### Multiline Strings\n",
    "using triple-quotes: \"\"\"...\"\"\" or '''...'''"
   ]
  },
  {
   "cell_type": "code",
   "execution_count": 7,
   "id": "a5970463",
   "metadata": {},
   "outputs": [
    {
     "name": "stdout",
     "output_type": "stream",
     "text": [
      "Usage: thingy [OPTIONS]\n",
      "     -h                        Display this usage message\n",
      "     -H hostname               Hostname to connect to\n",
      "\n"
     ]
    }
   ],
   "source": [
    "print(\"\"\"\\\n",
    "Usage: thingy [OPTIONS]\n",
    "     -h                        Display this usage message\n",
    "     -H hostname               Hostname to connect to\n",
    "\"\"\")"
   ]
  },
  {
   "cell_type": "markdown",
   "id": "2192846c",
   "metadata": {},
   "source": [
    "# String Formatting\n",
    "```{}``` will be filled with arguments passed to ```.format``` method"
   ]
  },
  {
   "cell_type": "code",
   "execution_count": 34,
   "id": "115152d4",
   "metadata": {},
   "outputs": [
    {
     "name": "stdout",
     "output_type": "stream",
     "text": [
      "username: abcdef, email: abcdef@gmail.com, password admin123456\n",
      "students: 100, teachers: 5, total: 105\n"
     ]
    }
   ],
   "source": [
    "str = \"username: {}, email: {}, password {}\".format(\"abcdef\",\"abcdef@gmail.com\",\"admin123456\")\n",
    "print(str)\n",
    "\n",
    "data = \"students: {s}, teachers: {t}, total: {total}\".format(total = 105, s = 100, t = 5,  )\n",
    "print(data)"
   ]
  },
  {
   "cell_type": "markdown",
   "id": "83494b68",
   "metadata": {},
   "source": [
    "# Index based access in Strings"
   ]
  },
  {
   "cell_type": "markdown",
   "id": "3cc7b902",
   "metadata": {},
   "source": [
    " ### Access part of the strings using index"
   ]
  },
  {
   "cell_type": "code",
   "execution_count": 92,
   "id": "f3419d0e",
   "metadata": {},
   "outputs": [
    {
     "name": "stdout",
     "output_type": "stream",
     "text": [
      "a\n",
      "b\n",
      "c\n",
      "g\n"
     ]
    },
    {
     "ename": "IndexError",
     "evalue": "string index out of range",
     "output_type": "error",
     "traceback": [
      "\u001b[1;31m---------------------------------------------------------------------------\u001b[0m",
      "\u001b[1;31mIndexError\u001b[0m                                Traceback (most recent call last)",
      "\u001b[1;32m~\\AppData\\Local\\Temp\\ipykernel_14524\\33324464.py\u001b[0m in \u001b[0;36m<module>\u001b[1;34m\u001b[0m\n\u001b[0;32m      4\u001b[0m \u001b[0mprint\u001b[0m\u001b[1;33m(\u001b[0m\u001b[0mstr\u001b[0m\u001b[1;33m[\u001b[0m\u001b[1;36m2\u001b[0m\u001b[1;33m]\u001b[0m\u001b[1;33m)\u001b[0m\u001b[1;33m\u001b[0m\u001b[1;33m\u001b[0m\u001b[0m\n\u001b[0;32m      5\u001b[0m \u001b[0mprint\u001b[0m\u001b[1;33m(\u001b[0m\u001b[0mstr\u001b[0m\u001b[1;33m[\u001b[0m\u001b[0mlen\u001b[0m\u001b[1;33m(\u001b[0m\u001b[0mstr\u001b[0m\u001b[1;33m)\u001b[0m\u001b[1;33m-\u001b[0m\u001b[1;36m1\u001b[0m\u001b[1;33m]\u001b[0m\u001b[1;33m)\u001b[0m\u001b[1;33m\u001b[0m\u001b[1;33m\u001b[0m\u001b[0m\n\u001b[1;32m----> 6\u001b[1;33m \u001b[0mprint\u001b[0m\u001b[1;33m(\u001b[0m\u001b[0mstr\u001b[0m\u001b[1;33m[\u001b[0m\u001b[0mlen\u001b[0m\u001b[1;33m(\u001b[0m\u001b[0mstr\u001b[0m\u001b[1;33m)\u001b[0m\u001b[1;33m]\u001b[0m\u001b[1;33m)\u001b[0m\u001b[1;33m\u001b[0m\u001b[1;33m\u001b[0m\u001b[0m\n\u001b[0m\u001b[0;32m      7\u001b[0m \u001b[0mprint\u001b[0m\u001b[1;33m(\u001b[0m\u001b[0mstr\u001b[0m\u001b[1;33m[\u001b[0m\u001b[1;36m100\u001b[0m\u001b[1;33m]\u001b[0m\u001b[1;33m)\u001b[0m\u001b[1;33m\u001b[0m\u001b[1;33m\u001b[0m\u001b[0m\n",
      "\u001b[1;31mIndexError\u001b[0m: string index out of range"
     ]
    }
   ],
   "source": [
    "str  = \"abcdefg\"\n",
    "print(str[0])\n",
    "print(str[1])\n",
    "print(str[2])\n",
    "print(str[len(str)-1])\n",
    "print(str[len(str)])\n",
    "print(str[100])"
   ]
  },
  {
   "cell_type": "code",
   "execution_count": 131,
   "id": "76b0e3de",
   "metadata": {},
   "outputs": [
    {
     "name": "stdout",
     "output_type": "stream",
     "text": [
      "a\n",
      "f\n",
      "e\n",
      "a\n",
      "a\n"
     ]
    },
    {
     "ename": "IndexError",
     "evalue": "string index out of range",
     "output_type": "error",
     "traceback": [
      "\u001b[1;31m---------------------------------------------------------------------------\u001b[0m",
      "\u001b[1;31mIndexError\u001b[0m                                Traceback (most recent call last)",
      "\u001b[1;32m~\\AppData\\Local\\Temp\\ipykernel_14524\\967888511.py\u001b[0m in \u001b[0;36m<module>\u001b[1;34m\u001b[0m\n\u001b[0;32m      5\u001b[0m \u001b[0mprint\u001b[0m\u001b[1;33m(\u001b[0m\u001b[0mstr\u001b[0m\u001b[1;33m[\u001b[0m\u001b[1;33m-\u001b[0m\u001b[0mlen\u001b[0m\u001b[1;33m(\u001b[0m\u001b[0mstr\u001b[0m\u001b[1;33m)\u001b[0m\u001b[1;33m]\u001b[0m\u001b[1;33m)\u001b[0m\u001b[1;33m\u001b[0m\u001b[1;33m\u001b[0m\u001b[0m\n\u001b[0;32m      6\u001b[0m \u001b[0mprint\u001b[0m\u001b[1;33m(\u001b[0m\u001b[0mstr\u001b[0m\u001b[1;33m[\u001b[0m\u001b[1;33m-\u001b[0m\u001b[1;36m6\u001b[0m\u001b[1;33m]\u001b[0m\u001b[1;33m)\u001b[0m\u001b[1;33m\u001b[0m\u001b[1;33m\u001b[0m\u001b[0m\n\u001b[1;32m----> 7\u001b[1;33m \u001b[0mprint\u001b[0m\u001b[1;33m(\u001b[0m\u001b[0mstr\u001b[0m\u001b[1;33m[\u001b[0m\u001b[1;33m-\u001b[0m\u001b[1;36m7\u001b[0m\u001b[1;33m]\u001b[0m\u001b[1;33m)\u001b[0m\u001b[1;33m\u001b[0m\u001b[1;33m\u001b[0m\u001b[0m\n\u001b[0m",
      "\u001b[1;31mIndexError\u001b[0m: string index out of range"
     ]
    }
   ],
   "source": [
    "## negative index: it start from -1.\n",
    "print(str[-0])\n",
    "print(str[-1])\n",
    "print(str[-2])\n",
    "print(str[-len(str)])\n",
    "print(str[-6])\n",
    "print(str[-7])"
   ]
  },
  {
   "cell_type": "markdown",
   "id": "d4bfe4f2",
   "metadata": {},
   "source": [
    "### String slicing "
   ]
  },
  {
   "cell_type": "code",
   "execution_count": 102,
   "id": "7f4ca0a3",
   "metadata": {},
   "outputs": [
    {
     "name": "stdout",
     "output_type": "stream",
     "text": [
      "\n"
     ]
    }
   ],
   "source": [
    "str = \"abcdef\"\n",
    "print(str[0:0])"
   ]
  },
  {
   "cell_type": "code",
   "execution_count": 133,
   "id": "426636d7",
   "metadata": {},
   "outputs": [
    {
     "name": "stdout",
     "output_type": "stream",
     "text": [
      "a\n",
      "ab\n",
      "abc\n",
      "b\n",
      "def\n",
      "a\n"
     ]
    }
   ],
   "source": [
    "print(str[0:1])\n",
    "print(str[0:2])\n",
    "print(str[0:3])\n",
    "\n",
    "print(str[1:2])\n",
    "print(str[3:6])"
   ]
  },
  {
   "cell_type": "code",
   "execution_count": 140,
   "id": "94432b08",
   "metadata": {},
   "outputs": [
    {
     "name": "stdout",
     "output_type": "stream",
     "text": [
      "a\n",
      "ab\n",
      "abc\n",
      "abcd\n",
      "abcde\n",
      "\n",
      "abcdef\n",
      "a\n",
      "ab\n",
      "abc\n",
      "abcd\n",
      "abcde\n"
     ]
    }
   ],
   "source": [
    "print(str[-6:-5])\n",
    "print(str[-6:-4])\n",
    "print(str[-6:-3])\n",
    "print(str[-6:-2])\n",
    "print(str[-6:-1])\n",
    "print(str[-6:0]) ## won't work\n",
    "print(str[-6:])\n",
    "print(str[-6:1])\n",
    "print(str[-6:2])\n",
    "print(str[-6:3])\n",
    "print(str[-6:4])\n",
    "print(str[-6:5])"
   ]
  },
  {
   "cell_type": "code",
   "execution_count": 147,
   "id": "4946f73e",
   "metadata": {},
   "outputs": [
    {
     "name": "stdout",
     "output_type": "stream",
     "text": [
      "abcdef\n",
      "cdef\n",
      "abc\n",
      "\n"
     ]
    }
   ],
   "source": [
    "## out of bound range\n",
    "print(str[0:300])\n",
    "print(str[-4:100])\n",
    "print(str[-100:3])\n",
    "print(str[100:3]) # won't work"
   ]
  },
  {
   "cell_type": "code",
   "execution_count": 120,
   "id": "0d2aaa71",
   "metadata": {},
   "outputs": [
    {
     "name": "stdout",
     "output_type": "stream",
     "text": [
      "ab\n",
      "cdef\n",
      "abcdef\n",
      "abcd\n",
      "ef\n",
      "abcdef\n"
     ]
    }
   ],
   "source": [
    "## default index\n",
    "print(str[:2]) # character from the beginning to position 2 (excluded)\n",
    "print(str[2:]) # characters from position 2 (included) to the end\n",
    "print(str[:])\n"
   ]
  },
  {
   "cell_type": "code",
   "execution_count": 122,
   "id": "d7920a76",
   "metadata": {},
   "outputs": [
    {
     "name": "stdout",
     "output_type": "stream",
     "text": [
      "abcd\n",
      "ef\n",
      "abcdef\n"
     ]
    }
   ],
   "source": [
    "## negative values\n",
    "print(str[:-2]) # characters from the beginning to the second-last (excluded)\n",
    "print(str[-2:]) # characters from the second-last (included) to the end\n",
    "print(str[:])\n"
   ]
  },
  {
   "cell_type": "code",
   "execution_count": 130,
   "id": "4a6a1672",
   "metadata": {},
   "outputs": [
    {
     "name": "stdout",
     "output_type": "stream",
     "text": [
      "ace\n",
      "ad\n",
      "abcdef\n"
     ]
    }
   ],
   "source": [
    "print(str[::2]) ## step = 2\n",
    "print(str[::3]) ## step = 3\n",
    "print(str[::1]) ## step = 1\n"
   ]
  },
  {
   "cell_type": "code",
   "execution_count": 121,
   "id": "1f6ca54a",
   "metadata": {},
   "outputs": [
    {
     "name": "stdout",
     "output_type": "stream",
     "text": [
      "fedcba\n",
      "fdb\n",
      "fc\n"
     ]
    }
   ],
   "source": [
    "print(str[::-1]) ## step = -1\n",
    "print(str[::-2]) ## step = -2\n",
    "print(str[::-3]) ## step = -3"
   ]
  },
  {
   "cell_type": "markdown",
   "id": "7b935d02",
   "metadata": {},
   "source": [
    "### Strings are immutable\n",
    "assigning to an indexed position in the string results in an error:"
   ]
  },
  {
   "cell_type": "code",
   "execution_count": 2,
   "id": "6b2b7756",
   "metadata": {},
   "outputs": [
    {
     "name": "stdout",
     "output_type": "stream",
     "text": [
      "abcdefg\n",
      "0123456\n"
     ]
    }
   ],
   "source": [
    "## String can be redefined\n",
    "str = \"abcdefg\"\n",
    "print(str)\n",
    "str  = \"0123456\"\n",
    "print(str)"
   ]
  },
  {
   "cell_type": "code",
   "execution_count": 5,
   "id": "667c0d74",
   "metadata": {},
   "outputs": [
    {
     "ename": "TypeError",
     "evalue": "'str' object does not support item assignment",
     "output_type": "error",
     "traceback": [
      "\u001b[1;31m---------------------------------------------------------------------------\u001b[0m",
      "\u001b[1;31mTypeError\u001b[0m                                 Traceback (most recent call last)",
      "Cell \u001b[1;32mIn [5], line 3\u001b[0m\n\u001b[0;32m      1\u001b[0m \u001b[39m## string values can;t be modified\u001b[39;00m\n\u001b[0;32m      2\u001b[0m \u001b[39mstr\u001b[39m  \u001b[39m=\u001b[39m \u001b[39m\"\u001b[39m\u001b[39mabcdef\u001b[39m\u001b[39m\"\u001b[39m\n\u001b[1;32m----> 3\u001b[0m \u001b[39mstr\u001b[39;49m[\u001b[39m0\u001b[39;49m] \u001b[39m=\u001b[39m \u001b[39m'\u001b[39m\u001b[39mx\u001b[39m\u001b[39m'\u001b[39m\n",
      "\u001b[1;31mTypeError\u001b[0m: 'str' object does not support item assignment"
     ]
    }
   ],
   "source": [
    "## string values can;t be modified\n",
    "str  = \"abcdef\"\n",
    "str[0] = 'x'"
   ]
  },
  {
   "cell_type": "markdown",
   "id": "122603c4",
   "metadata": {},
   "source": [
    "## String Concatenation"
   ]
  },
  {
   "cell_type": "markdown",
   "id": "1a2f0e19",
   "metadata": {},
   "source": [
    "Strings can be concatenated (glued together) with the + operator, and repeated with *:"
   ]
  },
  {
   "cell_type": "code",
   "execution_count": 8,
   "id": "bfe23268",
   "metadata": {},
   "outputs": [
    {
     "data": {
      "text/plain": [
       "'AAAB'"
      ]
     },
     "execution_count": 8,
     "metadata": {},
     "output_type": "execute_result"
    }
   ],
   "source": [
    "3 * 'A' + 'B'"
   ]
  },
  {
   "cell_type": "markdown",
   "id": "8d2af13f",
   "metadata": {},
   "source": [
    "Two or more string literals (i.e. the ones enclosed between quotes) next to each other are automatically concatenated."
   ]
  },
  {
   "cell_type": "code",
   "execution_count": 10,
   "id": "c05e036e",
   "metadata": {},
   "outputs": [
    {
     "data": {
      "text/plain": [
       "'Python'"
      ]
     },
     "execution_count": 10,
     "metadata": {},
     "output_type": "execute_result"
    }
   ],
   "source": [
    "'Py' 'thon'"
   ]
  },
  {
   "cell_type": "code",
   "execution_count": 11,
   "id": "42cd676f",
   "metadata": {},
   "outputs": [
    {
     "data": {
      "text/plain": [
       "'ABCDEF012'"
      ]
     },
     "execution_count": 11,
     "metadata": {},
     "output_type": "execute_result"
    }
   ],
   "source": [
    "\"ABC\"   \"DEF\"  \"012\""
   ]
  },
  {
   "cell_type": "code",
   "execution_count": 12,
   "id": "80697b8c",
   "metadata": {},
   "outputs": [
    {
     "name": "stdout",
     "output_type": "stream",
     "text": [
      "abcdefghijklmnop1234567890\n"
     ]
    }
   ],
   "source": [
    "text = (\"abcdefghijklmnop\" \"1234567890\")\n",
    "print(text)"
   ]
  },
  {
   "cell_type": "code",
   "execution_count": 15,
   "id": "20180354",
   "metadata": {},
   "outputs": [
    {
     "ename": "SyntaxError",
     "evalue": "invalid syntax (3448411261.py, line 4)",
     "output_type": "error",
     "traceback": [
      "\u001b[1;36m  Cell \u001b[1;32mIn [15], line 4\u001b[1;36m\u001b[0m\n\u001b[1;33m    print((a b))\u001b[0m\n\u001b[1;37m             ^\u001b[0m\n\u001b[1;31mSyntaxError\u001b[0m\u001b[1;31m:\u001b[0m invalid syntax\n"
     ]
    }
   ],
   "source": [
    "## Won't work with variable and literal combo\n",
    "a = \"slkemflskm\"\n",
    "b = \"semfnksjne\"\n",
    "print((a b))\n",
    "\n"
   ]
  },
  {
   "cell_type": "code",
   "execution_count": 16,
   "id": "36046330",
   "metadata": {},
   "outputs": [
    {
     "ename": "SyntaxError",
     "evalue": "invalid syntax (2906701890.py, line 1)",
     "output_type": "error",
     "traceback": [
      "\u001b[1;36m  Cell \u001b[1;32mIn [16], line 1\u001b[1;36m\u001b[0m\n\u001b[1;33m    print(a \"doijtern\")\u001b[0m\n\u001b[1;37m            ^\u001b[0m\n\u001b[1;31mSyntaxError\u001b[0m\u001b[1;31m:\u001b[0m invalid syntax\n"
     ]
    }
   ],
   "source": [
    "print(a \"doijtern\")"
   ]
  },
  {
   "cell_type": "markdown",
   "id": "33a7a8c5",
   "metadata": {},
   "source": [
    "use ```+``` operator to concatenate variable and literals"
   ]
  },
  {
   "cell_type": "code",
   "execution_count": 20,
   "id": "9b045ff7",
   "metadata": {},
   "outputs": [
    {
     "name": "stdout",
     "output_type": "stream",
     "text": [
      "slkemflskmsemfnksjne\n",
      "slkemflskm dkngslkne\n"
     ]
    }
   ],
   "source": [
    "a = \"slkemflskm\"\n",
    "b = \"semfnksjne\"\n",
    "print(a+b)\n",
    "print(a +\" \"+\"dkngslkne\")"
   ]
  },
  {
   "cell_type": "code",
   "execution_count": 21,
   "id": "436b6cd3",
   "metadata": {},
   "outputs": [
    {
     "name": "stdout",
     "output_type": "stream",
     "text": [
      "Cython\n"
     ]
    }
   ],
   "source": [
    "word = \"Python\"\n",
    "\n",
    "print(\"C\"+word[1:])"
   ]
  },
  {
   "cell_type": "markdown",
   "id": "1c776161",
   "metadata": {},
   "source": [
    "## Built-In String Methods"
   ]
  },
  {
   "cell_type": "code",
   "execution_count": 30,
   "id": "47f47a8f",
   "metadata": {},
   "outputs": [
    {
     "name": "stdout",
     "output_type": "stream",
     "text": [
      "ABCDEF\n",
      "abcdef\n"
     ]
    }
   ],
   "source": [
    "## Upper and Lower\n",
    "str = \"abcdef\"\n",
    "print(str.upper())\n",
    "strU = \"ABCdefGH\"\n",
    "print(str.lower())\n"
   ]
  },
  {
   "cell_type": "code",
   "execution_count": 24,
   "id": "b45f4333",
   "metadata": {},
   "outputs": [
    {
     "name": "stdout",
     "output_type": "stream",
     "text": [
      "Abcdef\n"
     ]
    }
   ],
   "source": [
    "## Capitalize\n",
    "print(str.capitalize())"
   ]
  },
  {
   "cell_type": "code",
   "execution_count": 28,
   "id": "166f8ec1",
   "metadata": {},
   "outputs": [
    {
     "name": "stdout",
     "output_type": "stream",
     "text": [
      "['hello', 'world,', 'from', 'Python']\n",
      "['hello world', ' from Python']\n"
     ]
    },
    {
     "ename": "ValueError",
     "evalue": "empty separator",
     "output_type": "error",
     "traceback": [
      "\u001b[1;31m---------------------------------------------------------------------------\u001b[0m",
      "\u001b[1;31mValueError\u001b[0m                                Traceback (most recent call last)",
      "Cell \u001b[1;32mIn [28], line 5\u001b[0m\n\u001b[0;32m      3\u001b[0m \u001b[39mprint\u001b[39m(\u001b[39mstr\u001b[39m\u001b[39m.\u001b[39msplit(\u001b[39m\"\u001b[39m\u001b[39m \u001b[39m\u001b[39m\"\u001b[39m))\n\u001b[0;32m      4\u001b[0m \u001b[39mprint\u001b[39m(\u001b[39mstr\u001b[39m\u001b[39m.\u001b[39msplit(\u001b[39m\"\u001b[39m\u001b[39m,\u001b[39m\u001b[39m\"\u001b[39m))\n\u001b[1;32m----> 5\u001b[0m \u001b[39mprint\u001b[39m(\u001b[39mstr\u001b[39;49m\u001b[39m.\u001b[39;49msplit(\u001b[39m\"\u001b[39;49m\u001b[39m\"\u001b[39;49m))\n",
      "\u001b[1;31mValueError\u001b[0m: empty separator"
     ]
    }
   ],
   "source": [
    "## Split\n",
    "str = \"hello world, from Python\"\n",
    "print(str.split(\" \"))\n",
    "print(str.split(\",\"))\n",
    "print(str.split(\"\")) ## will not work\n",
    "\n",
    "\n"
   ]
  },
  {
   "cell_type": "code",
   "execution_count": null,
   "id": "7194d377",
   "metadata": {},
   "outputs": [],
   "source": []
  }
 ],
 "metadata": {
  "kernelspec": {
   "display_name": "Python 3.9.6 64-bit",
   "language": "python",
   "name": "python3"
  },
  "language_info": {
   "codemirror_mode": {
    "name": "ipython",
    "version": 3
   },
   "file_extension": ".py",
   "mimetype": "text/x-python",
   "name": "python",
   "nbconvert_exporter": "python",
   "pygments_lexer": "ipython3",
   "version": "3.9.6"
  },
  "vscode": {
   "interpreter": {
    "hash": "81794d4967e6c3204c66dcd87b604927b115b27c00565d3d43f05ba2f3a2cb0d"
   }
  }
 },
 "nbformat": 4,
 "nbformat_minor": 5
}
