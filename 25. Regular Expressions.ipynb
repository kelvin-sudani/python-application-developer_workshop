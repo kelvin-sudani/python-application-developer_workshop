{
 "cells": [
  {
   "cell_type": "markdown",
   "metadata": {},
   "source": [
    "# Characters and Character Classes\n",
    "\n",
    "<!-- TODO -->\n",
    "\n",
    "| Character | Use                                                                               |\n",
    "| --------- | --------------------------------------------------------------------------------- |\n",
    "| \\d        | Matches any decimal digit, this is equivalent to the set class [0-9]. |\n",
    "| \\D        | Matches any non-digit character.                                                  |\n",
    "| \\s        | Matches any whitespace character.                                                 |\n",
    "| \\S        | Matches any non-whitespace character                                              |\n",
    "| \\w        | Matches any alphanumeric character, this is equivalent to the class [a-zA-Z0-9_]. |\n",
    "| \\W        | Matches any non-alphanumeric character.                                           |\n"
   ]
  },
  {
   "cell_type": "markdown",
   "metadata": {},
   "source": [
    "# Quantifiers\n",
    "\n",
    "| Quantifiers | Use                                  |\n",
    "| ----------- | ------------------------------------ |\n",
    "| +           | Addition                             |\n",
    "| {5}         | Exactly five times                   |\n",
    "| {5,7}       | Five to seven times                  |\n",
    "| {5,}        | Five or more times                   |\n",
    "| \\*          | Zero or more times                   |\n",
    "| ?           | Once or none(optional)               |\n",
    "| .           | Matches any character except newline |\n"
   ]
  },
  {
   "cell_type": "markdown",
   "metadata": {},
   "source": [
    "# Anchors and Boundaries\n",
    "\n",
    "| Operator | Type                   |\n",
    "| -------- | ---------------------- |\n",
    "| ^        | Start of string or line |\n",
    "| $        | End of string or line  |\n",
    "| \\b       | Word boundary          |\n"
   ]
  },
  {
   "cell_type": "markdown",
   "metadata": {},
   "source": [
    "# Grouping and Capturing\n",
    "\n",
    "<!-- TODO -->\n",
    "\n",
    "| Operator      | Type                                                                                                                   |\n",
    "| ------------- | ---------------------------------------------------------------------------------------------------------------------- |\n",
    "| {}            | Indicate number of occurrences of a preceding RE to match.                                                             |\n",
    "| ()            | Enclose a group of REs                                                                                                 |\n",
    "| (?:...)       | A non-capturing version of regular parentheses. Matches whatever regular expression is inside the parentheses          |\n",
    "| (?P\\<name\\>...) | Similar to regular parentheses, but the substring matched by the group is accessible via the symbolic group name name. |\n"
   ]
  },
  {
   "cell_type": "markdown",
   "metadata": {},
   "source": [
    "# Assertions and Flags\n",
    "<!-- TODO -->\n",
    "\n",
    "| Operator      | Type                                                                                                                   |\n",
    "| ------------- | ---------------------------------------------------------------------------------------------------------------------- |\n",
    "|(?=...) | Matches if ... matches next, but doesn’t consume any of the string. This is called a lookahead assertion. |\n",
    "|(?!...) | Matches if ... doesn’t match next. This is a negative lookahead assertion. |\n",
    "\n",
    "\n"
   ]
  },
  {
   "cell_type": "markdown",
   "metadata": {},
   "source": [
    "# The Regular Expression Module\n",
    "<!-- TODO -->\n",
    "\n"
   ]
  },
  {
   "cell_type": "code",
   "execution_count": null,
   "metadata": {},
   "outputs": [],
   "source": []
  }
 ],
 "metadata": {
  "kernelspec": {
   "display_name": "Python 3.9.6 64-bit",
   "language": "python",
   "name": "python3"
  },
  "language_info": {
   "name": "python",
   "version": "3.9.6"
  },
  "orig_nbformat": 4,
  "vscode": {
   "interpreter": {
    "hash": "81794d4967e6c3204c66dcd87b604927b115b27c00565d3d43f05ba2f3a2cb0d"
   }
  }
 },
 "nbformat": 4,
 "nbformat_minor": 2
}
