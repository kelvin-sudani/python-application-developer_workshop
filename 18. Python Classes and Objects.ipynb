{
 "cells": [
  {
   "cell_type": "markdown",
   "metadata": {},
   "source": [
    "# Creating Classes"
   ]
  },
  {
   "cell_type": "code",
   "execution_count": 27,
   "metadata": {},
   "outputs": [],
   "source": [
    "class Animal:\n",
    "    pass"
   ]
  },
  {
   "cell_type": "code",
   "execution_count": 31,
   "metadata": {},
   "outputs": [],
   "source": [
    "class User:\n",
    "    def __init__(self, name =\"N/A\",user_name=\"N/A\", email=\"N/A\", password= None) -> None:\n",
    "        self.name = name\n",
    "        self.user_name = user_name\n",
    "        self._email = email\n",
    "        self.__password = password"
   ]
  },
  {
   "cell_type": "markdown",
   "metadata": {},
   "source": [
    "# Attributes and Methods\n"
   ]
  },
  {
   "cell_type": "markdown",
   "metadata": {},
   "source": [
    "### Instance attributes and methods"
   ]
  },
  {
   "cell_type": "code",
   "execution_count": 61,
   "metadata": {},
   "outputs": [
    {
     "name": "stdout",
     "output_type": "stream",
     "text": [
      "Batman\n",
      "dark_knight\n",
      "bruce@waynecorp.com\n",
      "riddleandjoke123\n",
      "40\n",
      "('bruce@waynecorp.com', 'riddleandjoke123')\n",
      "dark_knight_rises\n"
     ]
    }
   ],
   "source": [
    "class User:\n",
    "    def __init__(self, name=\"N/A\", user_name=\"N/A\", email=\"N/A\", password=None, age = 0) -> None:\n",
    "        self.name = name\n",
    "        self.user_name = user_name\n",
    "        self._email = email\n",
    "        self.__password = password\n",
    "        self.age = age\n",
    "\n",
    "    def get_credentials(self):\n",
    "        return (self._email, self.__password)\n",
    "\n",
    "    def change_username(self,new_name):\n",
    "        self.user_name = new_name\n",
    "        return self.user_name\n",
    "\n",
    "    def wish_birthday(self):\n",
    "        self.age+=1\n",
    "        print(\"Happy Birthday,\",self.name,\"You just became\", self.age,\"years old\")\n",
    "\n",
    "\n",
    "user_c = User(\"Batman\",\"dark_knight\",\"bruce@waynecorp.com\",\"riddleandjoke123\",40)\n",
    "\n",
    "print(user_c.name)\n",
    "print(user_c.user_name)\n",
    "print(user_c._email)\n",
    "print(user_c._User__password)\n",
    "print(user_c.age)\n",
    "\n",
    "## how to call methods\n",
    "print(user_c.get_credentials())\n",
    "print(user_c.change_username(\"dark_knight_rises\"))"
   ]
  },
  {
   "cell_type": "markdown",
   "metadata": {},
   "source": [
    "### Class attributes and methods (static)"
   ]
  },
  {
   "cell_type": "code",
   "execution_count": 12,
   "metadata": {},
   "outputs": [
    {
     "name": "stdout",
     "output_type": "stream",
     "text": [
      "====> start:  0\n",
      "are_there_any_users ? False\n",
      "====> end:  3\n",
      "are_there_any_users ? True\n",
      "Batman\n",
      "Superman\n",
      "WoderWoman\n",
      "1761991158128\n",
      "1761991158128\n",
      "1761991158128\n",
      "User.total_users:  3\n",
      "user_c.total_users:  3\n",
      "User.total_users: (same as before)  3\n",
      "user_c.total_users: (changed)  100\n"
     ]
    }
   ],
   "source": [
    "class User:\n",
    "    ## class attributes are common for all the instances\n",
    "    total_users = 0\n",
    "\n",
    "    @classmethod\n",
    "    def are_there_any_users(cls):\n",
    "        return  True if cls.total_users > 0 else False\n",
    "\n",
    "    def __init__(self, name=\"N/A\", user_name=\"N/A\", email=\"N/A\", password=None, age = 0) -> None:\n",
    "        self.name = name\n",
    "        self.user_name = user_name\n",
    "        self._email = email\n",
    "        self.__password = password\n",
    "        self.age = age\n",
    "        User.total_users+=1\n",
    "\n",
    "    def get_credentials(self):\n",
    "        return (self._email, self.__password)\n",
    "\n",
    "    def change_username(self,new_name):\n",
    "        self.user_name = new_name\n",
    "        return self.user_name\n",
    "\n",
    "    def wish_birthday(self):\n",
    "        self.age+=1\n",
    "        print(\"Happy Birthday,\",self.name,\"You just became\", self.age,\"years old\")\n",
    "\n",
    "print(\"====> start: \", User.total_users)\n",
    "print(\"are_there_any_users ?\", User.are_there_any_users())\n",
    "user_c = User(\"Batman\",\"dark_knight\",\"bruce@waynecorp.com\",\"riddleandjoke123\",40)\n",
    "user_d = User(\"Superman\",\"man_of_steel\",\"kent@gmail.com\",\"superman123\",240)\n",
    "user_e = User(\"WoderWoman\",\"wonder_woman\",\"diana@gmail.com\",\"wonderwoman123\",240)\n",
    "print(\"====> end: \", User.total_users)\n",
    "print(\"are_there_any_users ?\", User.are_there_any_users())\n",
    "\n",
    "print(user_c.name)\n",
    "print(user_d.name)\n",
    "print(user_e.name)\n",
    "\n",
    "## if you check the ids each instance total_user attribute it will be the same\n",
    "print(id(user_c.total_users))\n",
    "print(id(user_d.total_users))\n",
    "print(id(user_e.total_users))\n",
    "\n",
    "# changing the value of class attribute through an instance will not work \n",
    "print(\"User.total_users: \",User.total_users)\n",
    "print(\"user_c.total_users: \",user_c.total_users)\n",
    "user_c.total_users = 100 ## Instead of changing the class attribute, this just creates a object attribute called total_number\n",
    "print(\"User.total_users: (same as before) \",User.total_users)\n",
    "print(\"user_c.total_users: (changed) \",user_c.total_users)\n"
   ]
  },
  {
   "cell_type": "code",
   "execution_count": 8,
   "metadata": {},
   "outputs": [
    {
     "name": "stdout",
     "output_type": "stream",
     "text": [
      "Customers\n",
      "get_total_users:  0\n",
      "Customers\n",
      "create_a_user_if_none ? <__main__.User object at 0x0000019A4487C4C0>\n",
      "Customers\n",
      "get_total_users:  1\n",
      "Customers\n",
      "create_a_user_if_none ? False\n",
      "<__main__.User object at 0x0000019A43E46FA0>\n",
      "Customers\n",
      "get_total_users:  3\n"
     ]
    }
   ],
   "source": [
    "# @classmethod vs @staticmethod\n",
    "\n",
    "class User:\n",
    "    ## class attributes are common for all the instances\n",
    "    total_users = 0\n",
    "    __group = \"Customers\"\n",
    "\n",
    "    @classmethod\n",
    "    def create_a_user_if_none(cls):\n",
    "        return  User() if cls.total_users == 0 else False\n",
    "\n",
    "    @staticmethod\n",
    "    def get_total_users():\n",
    "        return User.total_users\n",
    "\n",
    "    @staticmethod\n",
    "    def create_Johns():\n",
    "        return User(\"John\", \"john_doe\",\n",
    "                    \"john.doe@gmail.com\", \"johndoe123\", 30)\n",
    "\n",
    "\n",
    "    def __init__(self, name=\"N/A\", user_name=\"N/A\", email=\"N/A\", password=None, age = 0) -> None:\n",
    "        self.name = name\n",
    "        self.user_name = user_name\n",
    "        self._email = email\n",
    "        self.__password = password\n",
    "        self.age = age\n",
    "        User.total_users+=1\n",
    "\n",
    "    def get_credentials(self):\n",
    "        return (self._email, self.__password)\n",
    "\n",
    "    def change_username(self,new_name):\n",
    "        self.user_name = new_name\n",
    "        return self.user_name\n",
    "\n",
    "    def wish_birthday(self):\n",
    "        self.age+=1\n",
    "        print(\"Happy Birthday,\",self.name,\"You just became\", self.age,\"years old\")\n",
    "\n",
    "\n",
    "print(\"get_total_users: \", User.get_total_users())\n",
    "print(\"create_a_user_if_none ?\", User.create_a_user_if_none())\n",
    "print(\"get_total_users: \", User.get_total_users())\n",
    "print(\"create_a_user_if_none ?\", User.create_a_user_if_none())\n",
    "user_c = User(\"Batman\", \"dark_knight\",\n",
    "              \"bruce@waynecorp.com\", \"riddleandjoke123\", 40)\n",
    "print(User.create_Johns())\n",
    "print(\"get_total_users: \", User.get_total_users())\n",
    "\n",
    "\n"
   ]
  },
  {
   "cell_type": "markdown",
   "metadata": {},
   "source": [
    "# Creating instance objects\n"
   ]
  },
  {
   "cell_type": "code",
   "execution_count": 29,
   "metadata": {},
   "outputs": [
    {
     "name": "stdout",
     "output_type": "stream",
     "text": [
      "<__main__.Animal object at 0x0000022A797E7340> , <class '__main__.Animal'>\n",
      "<__main__.Animal object at 0x0000022A796E7E80> , <class '__main__.Animal'>\n",
      "False\n"
     ]
    }
   ],
   "source": [
    "animal_a = Animal()\n",
    "print(animal_a,\",\", type(animal_a))\n",
    "\n",
    "\n",
    "animal_b = Animal()\n",
    "print(animal_b, \",\", type(animal_b))\n",
    "print(animal_a is animal_b)"
   ]
  },
  {
   "cell_type": "code",
   "execution_count": 34,
   "metadata": {},
   "outputs": [
    {
     "name": "stdout",
     "output_type": "stream",
     "text": [
      "N/A N/A N/A\n",
      "['_User__password', '__class__', '__delattr__', '__dict__', '__dir__']\n",
      "None\n"
     ]
    }
   ],
   "source": [
    "user_a = User()\n",
    "print(user_a.name, user_a.user_name, user_a._email)\n",
    "# print( user_a.__password) ## will throw an error\n",
    "print(dir(user_a)[0:5])\n",
    "## only way to access __person is this:\n",
    "print(user_a._User__password)\n"
   ]
  },
  {
   "cell_type": "code",
   "execution_count": 39,
   "metadata": {},
   "outputs": [
    {
     "name": "stdout",
     "output_type": "stream",
     "text": [
      "John john01 john@gmail.com\n",
      "john1234\n"
     ]
    }
   ],
   "source": [
    "user_b = User(\"John\",\"john01\",\"john@gmail.com\",\"john1234\")\n",
    "print(user_b.name, user_b.user_name, user_b._email)\n",
    "print(user_b._User__password)"
   ]
  },
  {
   "cell_type": "markdown",
   "metadata": {},
   "source": [
    "# Destroying Objects (Garbage Collection)\n"
   ]
  },
  {
   "cell_type": "code",
   "execution_count": 62,
   "metadata": {},
   "outputs": [
    {
     "ename": "AttributeError",
     "evalue": "'User' object has no attribute '_email'",
     "output_type": "error",
     "traceback": [
      "\u001b[1;31m---------------------------------------------------------------------------\u001b[0m",
      "\u001b[1;31mAttributeError\u001b[0m                            Traceback (most recent call last)",
      "Cell \u001b[1;32mIn [62], line 1\u001b[0m\n\u001b[1;32m----> 1\u001b[0m \u001b[39mprint\u001b[39m(user_b\u001b[39m.\u001b[39;49m_email)\n\u001b[0;32m      2\u001b[0m \u001b[39mdel\u001b[39;00m user_b\u001b[39m.\u001b[39m_email \u001b[39m## delete an individual attribute\u001b[39;00m\n\u001b[0;32m      3\u001b[0m \u001b[39mprint\u001b[39m(user_b\u001b[39m.\u001b[39m_email)\n",
      "\u001b[1;31mAttributeError\u001b[0m: 'User' object has no attribute '_email'"
     ]
    }
   ],
   "source": [
    "print(user_b._email)\n",
    "del user_b._email ## delete an individual attribute\n",
    "print(user_b._email)\n"
   ]
  },
  {
   "cell_type": "code",
   "execution_count": 63,
   "metadata": {},
   "outputs": [
    {
     "ename": "NameError",
     "evalue": "name 'user_a' is not defined",
     "output_type": "error",
     "traceback": [
      "\u001b[1;31m---------------------------------------------------------------------------\u001b[0m",
      "\u001b[1;31mNameError\u001b[0m                                 Traceback (most recent call last)",
      "Cell \u001b[1;32mIn [63], line 1\u001b[0m\n\u001b[1;32m----> 1\u001b[0m \u001b[39mprint\u001b[39m(user_a)\n\u001b[0;32m      2\u001b[0m \u001b[39mdel\u001b[39;00m user_a \u001b[39m## delete the whole object\u001b[39;00m\n\u001b[0;32m      3\u001b[0m \u001b[39mprint\u001b[39m(user_a)\n",
      "\u001b[1;31mNameError\u001b[0m: name 'user_a' is not defined"
     ]
    }
   ],
   "source": [
    "print(user_a)\n",
    "del user_a ## delete the whole object\n",
    "print(user_a)\n"
   ]
  },
  {
   "cell_type": "markdown",
   "metadata": {},
   "source": [
    "# Custom Classes\n"
   ]
  },
  {
   "cell_type": "markdown",
   "metadata": {},
   "source": [
    "# Inheritance and Polymorphism\n"
   ]
  },
  {
   "cell_type": "code",
   "execution_count": 2,
   "metadata": {},
   "outputs": [
    {
     "name": "stdout",
     "output_type": "stream",
     "text": [
      "Missy: Meow!\n",
      "Mr. Mistoffelees: Meow!\n",
      "Lassie: Woof! Woof!\n"
     ]
    }
   ],
   "source": [
    "class Animal:\n",
    "    def __init__(self, name):    # Constructor of the class\n",
    "        self.name = name\n",
    "\n",
    "    def talk(self):              # Abstract method, defined by convention only\n",
    "        raise NotImplementedError(\"Subclass must implement abstract method\")\n",
    "\n",
    "\n",
    "class Cat(Animal):\n",
    "    def talk(self): # overridden method in subclass\n",
    "        return 'Meow!'\n",
    "\n",
    "\n",
    "class Dog(Animal):\n",
    "    def talk(self):  # overridden method in subclass\n",
    "        return 'Woof! Woof!'\n",
    "\n",
    "\n",
    "animals = [Cat('Missy'),\n",
    "           Cat('Mr. Mistoffelees'),\n",
    "           Dog('Lassie')]\n",
    "\n",
    "for animal in animals:\n",
    "    print(animal.name + ': ' + animal.talk())\n"
   ]
  },
  {
   "cell_type": "markdown",
   "metadata": {},
   "source": [
    "### Method Overloading in Python:\n",
    "Python doesn't support methods overloading(same method defined multiple times with different arg types or no. of args = compile time polymorphism in JAVA) natively. We have to use a package called`multidispatch`.\n"
   ]
  },
  {
   "cell_type": "code",
   "execution_count": 5,
   "metadata": {},
   "outputs": [
    {
     "ename": "ModuleNotFoundError",
     "evalue": "No module named 'multidispatch'",
     "output_type": "error",
     "traceback": [
      "\u001b[1;31m---------------------------------------------------------------------------\u001b[0m",
      "\u001b[1;31mModuleNotFoundError\u001b[0m                       Traceback (most recent call last)",
      "Cell \u001b[1;32mIn [5], line 1\u001b[0m\n\u001b[1;32m----> 1\u001b[0m \u001b[39mfrom\u001b[39;00m \u001b[39mmultidispatch\u001b[39;00m \u001b[39mimport\u001b[39;00m dispatch  \u001b[39m# importing the module\u001b[39;00m\n\u001b[0;32m      4\u001b[0m \u001b[39m# using the dispatch decorator to define two parameters as int\u001b[39;00m\n\u001b[0;32m      5\u001b[0m \u001b[39m@dispatch\u001b[39m(\u001b[39mint\u001b[39m, \u001b[39mint\u001b[39m)\n\u001b[0;32m      6\u001b[0m \u001b[39mdef\u001b[39;00m \u001b[39mmul\u001b[39m(a, b):\n",
      "\u001b[1;31mModuleNotFoundError\u001b[0m: No module named 'multidispatch'"
     ]
    }
   ],
   "source": [
    "from multidispatch import dispatch  # importing the module\n",
    "\n",
    "# using the dispatch decorator to define two parameters as int\n",
    "@dispatch(int, int)\n",
    "def mul(a, b):\n",
    "    return a * b\n",
    "\n",
    "\n",
    "@dispatch(int, int, int)  # defining 3 parameters as int\n",
    "def mul(a, b, c):\n",
    "    return a * b * c\n",
    "\n",
    "\n",
    "@dispatch(float, float, float)  # defining 3 parameters as float\n",
    "def mul(a, b, c):\n",
    "    return a * b * c\n",
    "\n",
    "\n",
    "print(mul(2.1, 3.4, 5.6))\n",
    "print(mul(3, 4))\n",
    "print(mul(2, 3, 4))\n",
    "\n",
    "\n",
    "## Expected Output:\n",
    "# 39.984\n",
    "# 12\n",
    "# 24\n"
   ]
  },
  {
   "cell_type": "markdown",
   "metadata": {},
   "source": [
    "## Multiple Inheritance"
   ]
  },
  {
   "cell_type": "code",
   "execution_count": 4,
   "metadata": {},
   "outputs": [
    {
     "name": "stdout",
     "output_type": "stream",
     "text": [
      "second\n",
      "third\n",
      "first\n",
      "that's it\n",
      "[<class '__main__.Fourth'>, <class '__main__.Second'>, <class '__main__.Third'>, <class '__main__.First'>, <class 'object'>]\n"
     ]
    }
   ],
   "source": [
    "class First(object):\n",
    "    def __init__(self):\n",
    "        print( \"first\")\n",
    "\n",
    "\n",
    "class Second(First):\n",
    "    def __init__(self):\n",
    "        print (\"second\")\n",
    "\n",
    "\n",
    "class Third(First):\n",
    "    def __init__(self):\n",
    "        print (\"third\")\n",
    "\n",
    "\n",
    "class Fourth(Second, Third):\n",
    "    def __init__(self):\n",
    "        super().__init__()\n",
    "        super(Second,self).__init__()\n",
    "        super(Third, self).__init__()\n",
    "        print (\"that's it\")\n",
    "\n",
    "obj_fourth = Fourth()\n",
    "\n",
    "print(Fourth.mro())"
   ]
  },
  {
   "cell_type": "markdown",
   "metadata": {},
   "source": [
    "# Using Properties to Control Attribute Access\n"
   ]
  },
  {
   "cell_type": "markdown",
   "metadata": {},
   "source": [
    "changing the first_name will not update email in below code."
   ]
  },
  {
   "cell_type": "code",
   "execution_count": 25,
   "metadata": {},
   "outputs": [
    {
     "name": "stdout",
     "output_type": "stream",
     "text": [
      "John Smith JohnSmith@gmail.com\n",
      "Jim Smith JohnSmith@gmail.com\n",
      "Jim Smith\n"
     ]
    }
   ],
   "source": [
    "class User:\n",
    "    def __init__(self, first_name=\"N/A\",last_name=\"N/A\") -> None:\n",
    "        self.first_name = first_name\n",
    "        self.last_name = last_name\n",
    "        self.email = first_name+last_name+\"@gmail.com\"\n",
    "      \n",
    "    def full_name(self):\n",
    "        return self.first_name+\" \"+self.last_name\n",
    "\n",
    "    def __repr__(self) -> str:\n",
    "        return self.first_name+\" \"+self.last_name+\" \"+self.email\n",
    "\n",
    "user_a = User(\"John\",\"Smith\")\n",
    "print(user_a)\n",
    "user_a.first_name =\"Jim\"\n",
    "print(user_a)\n",
    "print(user_a.full_name())\n"
   ]
  },
  {
   "cell_type": "markdown",
   "metadata": {},
   "source": [
    "By using @property we can do all the necessary checks and retrival before returning the value."
   ]
  },
  {
   "cell_type": "code",
   "execution_count": 23,
   "metadata": {},
   "outputs": [
    {
     "name": "stdout",
     "output_type": "stream",
     "text": [
      "John Smith JohnSmith@gmail.com John Smith 0\n",
      "Jim Doe JimDoe@gmail.com Jim Doe 0\n",
      "N/A N/A N/AN/A@gmail.com N/A N/A 0\n",
      "Jane Doe JaneDoe@gmail.com Jane Doe 0\n",
      "Can't do that\n",
      "Jane Doe JaneDoe@gmail.com Jane Doe 0\n",
      "Jane Doe JaneDoe@gmail.com Jane Doe 20\n"
     ]
    }
   ],
   "source": [
    "class User:\n",
    "    def __init__(self, first_name=\"N/A\", last_name=\"N/A\",age = 0) -> None:\n",
    "        self.first_name = first_name\n",
    "        self.last_name = last_name\n",
    "        self.age = age\n",
    "    \n",
    "    @property\n",
    "    def email(self):\n",
    "        return self.first_name+self.last_name+\"@gmail.com\"\n",
    "\n",
    "    @property\n",
    "    def full_name(self):\n",
    "        return self.first_name+\" \"+self.last_name\n",
    "\n",
    "    @full_name.setter\n",
    "    def full_name(self, new_value):\n",
    "        (self.first_name,self.last_name) = new_value.split(\" \")\n",
    "\n",
    "    @full_name.deleter\n",
    "    def full_name(self):\n",
    "        self.first_name = self.last_name = \"N/A\"\n",
    "\n",
    "    @property\n",
    "    def age(self):\n",
    "        return self._age\n",
    "\n",
    "    @age.setter\n",
    "    def age(self, new_value):\n",
    "        if new_value >= 0:\n",
    "            self._age = new_value\n",
    "        else:\n",
    "            print(\"Can't do that\")\n",
    "\n",
    "    def __repr__(self) -> str:\n",
    "        return self.first_name+\" \"+self.last_name+\" \"+self.email+\" \"+self.full_name+\" \"+str(self.age)\n",
    "\n",
    "\n",
    "user_a = User(\"John\", \"Smith\")\n",
    "print(user_a)\n",
    "user_a.full_name = \"Jim Doe\"\n",
    "print(user_a)\n",
    "del user_a.full_name\n",
    "print(user_a)\n",
    "\n",
    "\n",
    "user_b = User(\"Jane\",\"Doe\")\n",
    "print(user_b)\n",
    "user_b.age = -20\n",
    "print(user_b)\n",
    "user_b.age = 20\n",
    "print(user_b)\n"
   ]
  },
  {
   "cell_type": "markdown",
   "metadata": {},
   "source": [
    "## Operator Overloading"
   ]
  },
  {
   "cell_type": "code",
   "execution_count": null,
   "metadata": {},
   "outputs": [],
   "source": [
    "class Point:\n",
    "    def __init__(self, x=0, y=0):\n",
    "        self.x = x\n",
    "        self.y = y\n",
    "\n",
    "    def __str__(self):\n",
    "        return \"({0},{1})\".format(self.x, self.y)\n",
    "        \n",
    "    ## Overloading + operator\n",
    "    def __add__(self, other):\n",
    "        x = self.x + other.x\n",
    "        y = self.y + other.y\n",
    "        return Point(x, y)\n",
    "\n",
    "\n",
    "p1 = Point(1, 2)\n",
    "p2 = Point(2, 3)\n",
    "\n",
    "print(p1+p2)\n"
   ]
  },
  {
   "cell_type": "markdown",
   "metadata": {},
   "source": [
    "| Operator            | Expression     | Internally          |\n",
    "|---------------------|----------------|---------------------|\n",
    "| Addition            | p1 + p2        | p1.__add__(p2)      |\n",
    "| Subtraction         | p1 - p2        | p1.__sub__(p2)      |\n",
    "| Multiplication      | p1 * p2        | p1.__mul__(p2)      |\n",
    "| Power               | p1 ** p2       | p1.__pow__(p2)      |\n",
    "| Division            | p1 / p2        | p1.__truediv__(p2)  |\n",
    "| Floor Division      | p1 // p2       | p1.__floordiv__(p2) |\n",
    "| Remainder (modulo)  | p1 % p2        | p1.__mod__(p2)      |\n",
    "| Bitwise Left Shift  | p1 &lt;&lt; p2 | p1.__lshift__(p2)   |\n",
    "| Bitwise Right Shift | p1 &gt;&gt; p2 | p1.__rshift__(p2)   |\n",
    "| Bitwise AND         | p1 &amp; p2    | p1.__and__(p2)      |\n",
    "| Bitwise OR          | p1 \\| p2        | p1.__or__(p2)       |\n",
    "| Bitwise XOR         | p1 ^ p2        | p1.__xor__(p2)      |\n",
    "| Bitwise NOT         | ~p1            | p1.__invert__()     |\n"
   ]
  },
  {
   "cell_type": "markdown",
   "metadata": {},
   "source": [
    "# Data Class\n",
    "- add `@dataclass` decorator to any class and it will add some extra methods so that you don't have to manually declare them.\n",
    "- the decorator adds generated methods to the class and returns the same class it was given."
   ]
  },
  {
   "cell_type": "code",
   "execution_count": null,
   "metadata": {},
   "outputs": [],
   "source": [
    "@dataclass\n",
    "class InventoryItem:\n",
    "    '''Class for keeping track of an item in inventory.'''\n",
    "    name: str\n",
    "    unit_price: float\n",
    "    quantity_on_hand: int = 0\n",
    "\n",
    "    def total_cost(self) -> float:\n",
    "        return self.unit_price * self.quantity_on_hand\n"
   ]
  },
  {
   "cell_type": "markdown",
   "metadata": {},
   "source": [
    "The @dataclass decorator will add the equivalent of these methods to the InventoryItem class:"
   ]
  },
  {
   "cell_type": "code",
   "execution_count": null,
   "metadata": {},
   "outputs": [],
   "source": [
    "\n",
    "\n",
    "def __init__(self, name: str, unit_price: float, quantity_on_hand: int = 0) -> None:\n",
    "    self.name = name\n",
    "    self.unit_price = unit_price\n",
    "    self.quantity_on_hand = quantity_on_hand\n",
    "\n",
    "\n",
    "def __repr__(self):\n",
    "    return f'InventoryItem(name={self.name!r}, unit_price={self.unit_price!r}, quantity_on_hand={self.quantity_on_hand!r})'\n",
    "\n",
    "\n",
    "def __eq__(self, other):\n",
    "    if other.__class__ is self.__class__:\n",
    "        return (self.name, self.unit_price, self.quantity_on_hand) == (other.name, other.unit_price, other.quantity_on_hand)\n",
    "    return NotImplemented\n",
    "\n",
    "\n",
    "def __ne__(self, other):\n",
    "    if other.__class__ is self.__class__:\n",
    "        return (self.name, self.unit_price, self.quantity_on_hand) != (other.name, other.unit_price, other.quantity_on_hand)\n",
    "    return NotImplemented\n",
    "\n",
    "\n",
    "def __lt__(self, other):\n",
    "    if other.__class__ is self.__class__:\n",
    "        return (self.name, self.unit_price, self.quantity_on_hand) < (other.name, other.unit_price, other.quantity_on_hand)\n",
    "    return NotImplemented\n",
    "\n",
    "\n",
    "def __le__(self, other):\n",
    "    if other.__class__ is self.__class__:\n",
    "        return (self.name, self.unit_price, self.quantity_on_hand) <= (other.name, other.unit_price, other.quantity_on_hand)\n",
    "    return NotImplemented\n",
    "\n",
    "\n",
    "def __gt__(self, other):\n",
    "    if other.__class__ is self.__class__:\n",
    "        return (self.name, self.unit_price, self.quantity_on_hand) > (other.name, other.unit_price, other.quantity_on_hand)\n",
    "    return NotImplemented\n",
    "\n",
    "\n",
    "def __ge__(self, other):\n",
    "    if other.__class__ is self.__class__:\n",
    "        return (self.name, self.unit_price, self.quantity_on_hand) >= (other.name, other.unit_price, other.quantity_on_hand)\n",
    "    return NotImplemented\n"
   ]
  },
  {
   "cell_type": "markdown",
   "metadata": {},
   "source": [
    "# Interface and Abstract Classes\n",
    "read: \n",
    "https://www.scaler.com/topics/interface-in-python/\n",
    "\n",
    "https://www.scaler.com/topics/abstract-class-in-python/"
   ]
  }
 ],
 "metadata": {
  "kernelspec": {
   "display_name": "Python 3.9.6 64-bit",
   "language": "python",
   "name": "python3"
  },
  "language_info": {
   "codemirror_mode": {
    "name": "ipython",
    "version": 3
   },
   "file_extension": ".py",
   "mimetype": "text/x-python",
   "name": "python",
   "nbconvert_exporter": "python",
   "pygments_lexer": "ipython3",
   "version": "3.9.6"
  },
  "orig_nbformat": 4,
  "vscode": {
   "interpreter": {
    "hash": "81794d4967e6c3204c66dcd87b604927b115b27c00565d3d43f05ba2f3a2cb0d"
   }
  }
 },
 "nbformat": 4,
 "nbformat_minor": 2
}
