{
 "cells": [
  {
   "cell_type": "markdown",
   "metadata": {},
   "source": [
    "# Creating Classes"
   ]
  },
  {
   "cell_type": "code",
   "execution_count": 27,
   "metadata": {},
   "outputs": [],
   "source": [
    "class Animal:\n",
    "    pass"
   ]
  },
  {
   "cell_type": "code",
   "execution_count": 31,
   "metadata": {},
   "outputs": [],
   "source": [
    "class User:\n",
    "    def __init__(self, name =\"N/A\",user_name=\"N/A\", email=\"N/A\", password= None) -> None:\n",
    "        self.name = name\n",
    "        self.user_name = user_name\n",
    "        self._email = email\n",
    "        self.__password = password"
   ]
  },
  {
   "cell_type": "markdown",
   "metadata": {},
   "source": [
    "# Attributes and Methods\n"
   ]
  },
  {
   "cell_type": "markdown",
   "metadata": {},
   "source": [
    "### Instance attributes and methods"
   ]
  },
  {
   "cell_type": "code",
   "execution_count": 61,
   "metadata": {},
   "outputs": [
    {
     "name": "stdout",
     "output_type": "stream",
     "text": [
      "Batman\n",
      "dark_knight\n",
      "bruce@waynecorp.com\n",
      "riddleandjoke123\n",
      "40\n",
      "('bruce@waynecorp.com', 'riddleandjoke123')\n",
      "dark_knight_rises\n"
     ]
    }
   ],
   "source": [
    "class User:\n",
    "    def __init__(self, name=\"N/A\", user_name=\"N/A\", email=\"N/A\", password=None, age = 0) -> None:\n",
    "        self.name = name\n",
    "        self.user_name = user_name\n",
    "        self._email = email\n",
    "        self.__password = password\n",
    "        self.age = age\n",
    "\n",
    "    def get_credentials(self):\n",
    "        return (self._email, self.__password)\n",
    "\n",
    "    def change_username(self,new_name):\n",
    "        self.user_name = new_name\n",
    "        return self.user_name\n",
    "\n",
    "    def wish_birthday(self):\n",
    "        self.age+=1\n",
    "        print(\"Happy Birthday,\",self.name,\"You just became\", self.age,\"years old\")\n",
    "\n",
    "\n",
    "user_c = User(\"Batman\",\"dark_knight\",\"bruce@waynecorp.com\",\"riddleandjoke123\",40)\n",
    "\n",
    "print(user_c.name)\n",
    "print(user_c.user_name)\n",
    "print(user_c._email)\n",
    "print(user_c._User__password)\n",
    "print(user_c.age)\n",
    "\n",
    "## how to call methods\n",
    "print(user_c.get_credentials())\n",
    "print(user_c.change_username(\"dark_knight_rises\"))"
   ]
  },
  {
   "cell_type": "markdown",
   "metadata": {},
   "source": [
    "### Class attributes and methods (static)"
   ]
  },
  {
   "cell_type": "code",
   "execution_count": 60,
   "metadata": {},
   "outputs": [
    {
     "name": "stdout",
     "output_type": "stream",
     "text": [
      "====> start:  0\n",
      "are_there_any_users ? False\n",
      "====> end:  3\n",
      "are_there_any_users ? True\n",
      "Batman\n",
      "Superman\n",
      "WoderWoman\n",
      "2381357214064\n",
      "2381357214064\n",
      "2381357214064\n"
     ]
    }
   ],
   "source": [
    "class User:\n",
    "    ## class attributes are common for all the instances\n",
    "    total_users = 0\n",
    "\n",
    "    @classmethod\n",
    "    def are_there_any_users(cls):\n",
    "        return  True if cls.total_users > 0 else False\n",
    "\n",
    "    def __init__(self, name=\"N/A\", user_name=\"N/A\", email=\"N/A\", password=None, age = 0) -> None:\n",
    "        self.name = name\n",
    "        self.user_name = user_name\n",
    "        self._email = email\n",
    "        self.__password = password\n",
    "        self.age = age\n",
    "        User.total_users+=1\n",
    "\n",
    "    def get_credentials(self):\n",
    "        return (self._email, self.__password)\n",
    "\n",
    "    def change_username(self,new_name):\n",
    "        self.user_name = new_name\n",
    "        return self.user_name\n",
    "\n",
    "    def wish_birthday(self):\n",
    "        self.age+=1\n",
    "        print(\"Happy Birthday,\",self.name,\"You just became\", self.age,\"years old\")\n",
    "\n",
    "print(\"====> start: \", User.total_users)\n",
    "print(\"are_there_any_users ?\", User.are_there_any_users())\n",
    "user_c = User(\"Batman\",\"dark_knight\",\"bruce@waynecorp.com\",\"riddleandjoke123\",40)\n",
    "user_d = User(\"Superman\",\"man_of_steel\",\"kent@gmail.com\",\"superman123\",240)\n",
    "user_e = User(\"WoderWoman\",\"wonder_woman\",\"diana@gmail.com\",\"wonderwoman123\",240)\n",
    "print(\"====> end: \", User.total_users)\n",
    "print(\"are_there_any_users ?\", User.are_there_any_users())\n",
    "\n",
    "print(user_c.name)\n",
    "print(user_d.name)\n",
    "print(user_e.name)\n",
    "\n",
    "## if you check the ids each instance total_user attribute it will be the same\n",
    "print(id(user_c.total_users))\n",
    "print(id(user_d.total_users))\n",
    "print(id(user_e.total_users))"
   ]
  },
  {
   "cell_type": "markdown",
   "metadata": {},
   "source": [
    "# Creating instance objects\n"
   ]
  },
  {
   "cell_type": "code",
   "execution_count": 29,
   "metadata": {},
   "outputs": [
    {
     "name": "stdout",
     "output_type": "stream",
     "text": [
      "<__main__.Animal object at 0x0000022A797E7340> , <class '__main__.Animal'>\n",
      "<__main__.Animal object at 0x0000022A796E7E80> , <class '__main__.Animal'>\n",
      "False\n"
     ]
    }
   ],
   "source": [
    "animal_a = Animal()\n",
    "print(animal_a,\",\", type(animal_a))\n",
    "\n",
    "\n",
    "animal_b = Animal()\n",
    "print(animal_b, \",\", type(animal_b))\n",
    "print(animal_a is animal_b)"
   ]
  },
  {
   "cell_type": "code",
   "execution_count": 34,
   "metadata": {},
   "outputs": [
    {
     "name": "stdout",
     "output_type": "stream",
     "text": [
      "N/A N/A N/A\n",
      "['_User__password', '__class__', '__delattr__', '__dict__', '__dir__']\n",
      "None\n"
     ]
    }
   ],
   "source": [
    "user_a = User()\n",
    "print(user_a.name, user_a.user_name, user_a._email)\n",
    "# print( user_a.__password) ## will throw an error\n",
    "print(dir(user_a)[0:5])\n",
    "## only way to access __person is this:\n",
    "print(user_a._User__password)\n"
   ]
  },
  {
   "cell_type": "code",
   "execution_count": 39,
   "metadata": {},
   "outputs": [
    {
     "name": "stdout",
     "output_type": "stream",
     "text": [
      "John john01 john@gmail.com\n",
      "john1234\n"
     ]
    }
   ],
   "source": [
    "user_b = User(\"John\",\"john01\",\"john@gmail.com\",\"john1234\")\n",
    "print(user_b.name, user_b.user_name, user_b._email)\n",
    "print(user_b._User__password)"
   ]
  },
  {
   "cell_type": "markdown",
   "metadata": {},
   "source": [
    "# Destroying Objects (Garbage Collection)\n"
   ]
  },
  {
   "cell_type": "code",
   "execution_count": 62,
   "metadata": {},
   "outputs": [
    {
     "ename": "AttributeError",
     "evalue": "'User' object has no attribute '_email'",
     "output_type": "error",
     "traceback": [
      "\u001b[1;31m---------------------------------------------------------------------------\u001b[0m",
      "\u001b[1;31mAttributeError\u001b[0m                            Traceback (most recent call last)",
      "Cell \u001b[1;32mIn [62], line 1\u001b[0m\n\u001b[1;32m----> 1\u001b[0m \u001b[39mprint\u001b[39m(user_b\u001b[39m.\u001b[39;49m_email)\n\u001b[0;32m      2\u001b[0m \u001b[39mdel\u001b[39;00m user_b\u001b[39m.\u001b[39m_email \u001b[39m## delete an individual attribute\u001b[39;00m\n\u001b[0;32m      3\u001b[0m \u001b[39mprint\u001b[39m(user_b\u001b[39m.\u001b[39m_email)\n",
      "\u001b[1;31mAttributeError\u001b[0m: 'User' object has no attribute '_email'"
     ]
    }
   ],
   "source": [
    "print(user_b._email)\n",
    "del user_b._email ## delete an individual attribute\n",
    "print(user_b._email)\n"
   ]
  },
  {
   "cell_type": "code",
   "execution_count": 63,
   "metadata": {},
   "outputs": [
    {
     "ename": "NameError",
     "evalue": "name 'user_a' is not defined",
     "output_type": "error",
     "traceback": [
      "\u001b[1;31m---------------------------------------------------------------------------\u001b[0m",
      "\u001b[1;31mNameError\u001b[0m                                 Traceback (most recent call last)",
      "Cell \u001b[1;32mIn [63], line 1\u001b[0m\n\u001b[1;32m----> 1\u001b[0m \u001b[39mprint\u001b[39m(user_a)\n\u001b[0;32m      2\u001b[0m \u001b[39mdel\u001b[39;00m user_a \u001b[39m## delete the whole object\u001b[39;00m\n\u001b[0;32m      3\u001b[0m \u001b[39mprint\u001b[39m(user_a)\n",
      "\u001b[1;31mNameError\u001b[0m: name 'user_a' is not defined"
     ]
    }
   ],
   "source": [
    "print(user_a)\n",
    "del user_a ## delete the whole object\n",
    "print(user_a)\n"
   ]
  },
  {
   "cell_type": "markdown",
   "metadata": {},
   "source": [
    "# Custom Classes\n"
   ]
  },
  {
   "cell_type": "markdown",
   "metadata": {},
   "source": [
    "# Inheritance and Polymorphism\n"
   ]
  },
  {
   "cell_type": "code",
   "execution_count": 2,
   "metadata": {},
   "outputs": [
    {
     "name": "stdout",
     "output_type": "stream",
     "text": [
      "Missy: Meow!\n",
      "Mr. Mistoffelees: Meow!\n",
      "Lassie: Woof! Woof!\n"
     ]
    }
   ],
   "source": [
    "class Animal:\n",
    "    def __init__(self, name):    # Constructor of the class\n",
    "        self.name = name\n",
    "\n",
    "    def talk(self):              # Abstract method, defined by convention only\n",
    "        raise NotImplementedError(\"Subclass must implement abstract method\")\n",
    "\n",
    "\n",
    "class Cat(Animal):\n",
    "    def talk(self):\n",
    "        return 'Meow!'\n",
    "\n",
    "\n",
    "class Dog(Animal):\n",
    "    def talk(self):\n",
    "        return 'Woof! Woof!'\n",
    "\n",
    "\n",
    "animals = [Cat('Missy'),\n",
    "           Cat('Mr. Mistoffelees'),\n",
    "           Dog('Lassie')]\n",
    "\n",
    "for animal in animals:\n",
    "    print(animal.name + ': ' + animal.talk())\n"
   ]
  },
  {
   "cell_type": "markdown",
   "metadata": {},
   "source": [
    "## Multiple Inheritance"
   ]
  },
  {
   "cell_type": "code",
   "execution_count": 13,
   "metadata": {},
   "outputs": [
    {
     "name": "stdout",
     "output_type": "stream",
     "text": [
      "second\n",
      "third\n",
      "first\n",
      "that's it\n",
      "[<class '__main__.Fourth'>, <class '__main__.Second'>, <class '__main__.Third'>, <class '__main__.First'>, <class 'object'>]\n"
     ]
    }
   ],
   "source": [
    "class First(object):\n",
    "    def __init__(self):\n",
    "        print( \"first\")\n",
    "\n",
    "\n",
    "class Second(First):\n",
    "    def __init__(self):\n",
    "        print (\"second\")\n",
    "\n",
    "\n",
    "class Third(First):\n",
    "    def __init__(self):\n",
    "        print (\"third\")\n",
    "\n",
    "\n",
    "class Fourth(Second, Third):\n",
    "    def __init__(self):\n",
    "        super().__init__()\n",
    "        super(Second,self).__init__()\n",
    "        super(Third, self).__init__()\n",
    "        print (\"that's it\")\n",
    "\n",
    "obj_fourth = Fourth()\n",
    "\n",
    "print(Fourth.mro())"
   ]
  },
  {
   "cell_type": "markdown",
   "metadata": {},
   "source": [
    "# Using Properties to Control Attribute Access\n"
   ]
  },
  {
   "cell_type": "markdown",
   "metadata": {},
   "source": [
    "changing the first_name will not update email in below code."
   ]
  },
  {
   "cell_type": "code",
   "execution_count": 25,
   "metadata": {},
   "outputs": [
    {
     "name": "stdout",
     "output_type": "stream",
     "text": [
      "John Smith JohnSmith@gmail.com\n",
      "Jim Smith JohnSmith@gmail.com\n",
      "Jim Smith\n"
     ]
    }
   ],
   "source": [
    "class User:\n",
    "    def __init__(self, first_name=\"N/A\",last_name=\"N/A\") -> None:\n",
    "        self.first_name = first_name\n",
    "        self.last_name = last_name\n",
    "        self.email = first_name+last_name+\"@gmail.com\"\n",
    "      \n",
    "    def full_name(self):\n",
    "        return self.first_name+\" \"+self.last_name\n",
    "\n",
    "    def __repr__(self) -> str:\n",
    "        return self.first_name+\" \"+self.last_name+\" \"+self.email\n",
    "\n",
    "user_a = User(\"John\",\"Smith\")\n",
    "print(user_a)\n",
    "user_a.first_name =\"Jim\"\n",
    "print(user_a)\n",
    "print(user_a.full_name())\n"
   ]
  },
  {
   "cell_type": "markdown",
   "metadata": {},
   "source": [
    "By using @property we can do all the necessary checks and retrival before returning the value."
   ]
  },
  {
   "cell_type": "code",
   "execution_count": 30,
   "metadata": {},
   "outputs": [
    {
     "name": "stdout",
     "output_type": "stream",
     "text": [
      "John Smith JohnSmith@gmail.com John Smith\n",
      "Jim Doe JimDoe@gmail.com Jim Doe\n",
      "N/A N/A N/AN/A@gmail.com N/A N/A\n"
     ]
    }
   ],
   "source": [
    "class User:\n",
    "    def __init__(self, first_name=\"N/A\", last_name=\"N/A\") -> None:\n",
    "        self.first_name = first_name\n",
    "        self.last_name = last_name\n",
    "    \n",
    "    @property\n",
    "    def email(self):\n",
    "        return self.first_name+self.last_name+\"@gmail.com\"\n",
    "\n",
    "    @property\n",
    "    def full_name(self):\n",
    "        return self.first_name+\" \"+self.last_name\n",
    "\n",
    "    @full_name.setter\n",
    "    def full_name(self, new_value):\n",
    "        (self.first_name,self.last_name) = new_value.split(\" \")\n",
    "\n",
    "    @full_name.deleter\n",
    "    def full_name(self):\n",
    "        self.first_name = self.last_name = \"N/A\"\n",
    "\n",
    "    def __repr__(self) -> str:\n",
    "        return self.first_name+\" \"+self.last_name+\" \"+self.email+\" \"+self.full_name\n",
    "\n",
    "\n",
    "user_a = User(\"John\", \"Smith\")\n",
    "print(user_a)\n",
    "user_a.full_name = \"Jim Doe\"\n",
    "print(user_a)\n",
    "del user_a.full_name\n",
    "print(user_a)\n"
   ]
  },
  {
   "cell_type": "code",
   "execution_count": null,
   "metadata": {},
   "outputs": [],
   "source": []
  }
 ],
 "metadata": {
  "kernelspec": {
   "display_name": "Python 3.9.6 64-bit",
   "language": "python",
   "name": "python3"
  },
  "language_info": {
   "codemirror_mode": {
    "name": "ipython",
    "version": 3
   },
   "file_extension": ".py",
   "mimetype": "text/x-python",
   "name": "python",
   "nbconvert_exporter": "python",
   "pygments_lexer": "ipython3",
   "version": "3.9.6"
  },
  "orig_nbformat": 4,
  "vscode": {
   "interpreter": {
    "hash": "81794d4967e6c3204c66dcd87b604927b115b27c00565d3d43f05ba2f3a2cb0d"
   }
  }
 },
 "nbformat": 4,
 "nbformat_minor": 2
}
