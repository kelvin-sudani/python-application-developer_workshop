{
 "cells": [
  {
   "cell_type": "markdown",
   "metadata": {},
   "source": [
    "# Deque"
   ]
  },
  {
   "cell_type": "code",
   "execution_count": 2,
   "metadata": {},
   "outputs": [
    {
     "name": "stdout",
     "output_type": "stream",
     "text": [
      "Queue_a deque(['A', 'B', 'C', 'D', 'E', 'F'])\n",
      "Queue_b deque([1, 2, 2])\n",
      "Queue_c deque([1, 2, 3])\n",
      "After append : deque(['#', 'A', 'B', 'C', 'D', 'E', 'F', '#'])\n",
      "After Removal : deque([2])\n",
      "After clearing the Queue : deque([])\n"
     ]
    }
   ],
   "source": [
    "import collections\n",
    "a = collections.deque('ABCDEF')\n",
    "b = collections.deque((1, 2, 2))\n",
    "c = collections.deque({1, 2, 3, 1})\n",
    "print('Queue_a', a)\n",
    "print('Queue_b', b)\n",
    "print('Queue_c', c)\n",
    "a.append('#')\n",
    "a.appendleft('#')\n",
    "print('After append :', a)\n",
    "b.pop()\n",
    "b.popleft()\n",
    "print('After Removal :',b)\n",
    "c.clear()\n",
    "print('After clearing the Queue :', c)\n"
   ]
  },
  {
   "cell_type": "markdown",
   "metadata": {},
   "source": [
    "# Counter\n"
   ]
  },
  {
   "cell_type": "code",
   "execution_count": 5,
   "metadata": {},
   "outputs": [
    {
     "name": "stdout",
     "output_type": "stream",
     "text": [
      "Count of a :  Counter({1: 2, 2: 1, 3: 1})\n",
      "Count of b :  Counter({1: 1, 2: 1, 3: 1})\n",
      "Count of c :  Counter({1: 1, 2: 1, 3: 1})\n",
      "Count of d :  Counter({'3': 'XYZ', '2': 'DEF', '1': 'ABC'})\n",
      "Count of e :  Counter({'A': 1, 'B': 1, 'C': 1, 'D': 1, 'E': 1, 'F': 1, 'G': 1, 'H': 1})\n"
     ]
    }
   ],
   "source": [
    "from collections import Counter\n",
    "a = (1, 2, 3, 1)\n",
    "b = [1, 2, 3]\n",
    "c = {1, 2, 3, 1}\n",
    "d = {'1': 'ABC', '2': 'DEF', '3': 'XYZ'}\n",
    "e = 'ABCDEFGH'\n",
    "print('Count of a : ', Counter(a))\n",
    "print('Count of b : ', Counter(b))\n",
    "print('Count of c : ', Counter(c))  # sets do not allow duplicates\n",
    "print('Count of d : ', Counter(d))\n",
    "print('Count of e : ', Counter(e))  # counter on string\n",
    "\n"
   ]
  },
  {
   "cell_type": "markdown",
   "metadata": {},
   "source": [
    "# OrderedDict\n",
    "a dictionary subclass which remembers the order in which the entries were added\n"
   ]
  },
  {
   "cell_type": "code",
   "execution_count": 9,
   "metadata": {},
   "outputs": [
    {
     "name": "stdout",
     "output_type": "stream",
     "text": [
      "OrderedDict([(1, 'q'), (2, 'w'), (3, 'E'), (4, 'r'), (5, 't'), (6, 'y'), (7, 'a')])\n"
     ]
    }
   ],
   "source": [
    "from collections import OrderedDict\n",
    "a_dict = OrderedDict()\n",
    "a_dict[1] = 'q'\n",
    "a_dict[2] = 'w'\n",
    "a_dict[3] = 'e'\n",
    "a_dict[4] = 'r'\n",
    "a_dict[5] = 't'\n",
    "a_dict[6] = 'y'\n",
    "a_dict[7] = 'a'\n",
    "a_dict[3] = 'E'\n",
    "print(a_dict)\n"
   ]
  },
  {
   "cell_type": "markdown",
   "metadata": {},
   "source": [
    "# ChainMap\n"
   ]
  },
  {
   "cell_type": "code",
   "execution_count": 10,
   "metadata": {},
   "outputs": [
    {
     "name": "stdout",
     "output_type": "stream",
     "text": [
      "ChainMap({'one': 1, 'two': 2}, {'a': 'A', 'b': 'B'})\n"
     ]
    }
   ],
   "source": [
    "from collections import ChainMap\n",
    "\n",
    "numbers = {\"one\": 1, \"two\": 2}\n",
    "letters = {\"a\": \"A\", \"b\": \"B\"}\n",
    "\n",
    "alpha_nums = ChainMap(numbers, letters)\n",
    "print(alpha_nums)"
   ]
  }
 ],
 "metadata": {
  "kernelspec": {
   "display_name": "Python 3.9.6 64-bit",
   "language": "python",
   "name": "python3"
  },
  "language_info": {
   "codemirror_mode": {
    "name": "ipython",
    "version": 3
   },
   "file_extension": ".py",
   "mimetype": "text/x-python",
   "name": "python",
   "nbconvert_exporter": "python",
   "pygments_lexer": "ipython3",
   "version": "3.9.6"
  },
  "orig_nbformat": 4,
  "vscode": {
   "interpreter": {
    "hash": "81794d4967e6c3204c66dcd87b604927b115b27c00565d3d43f05ba2f3a2cb0d"
   }
  }
 },
 "nbformat": 4,
 "nbformat_minor": 2
}
