{
 "cells": [
  {
   "cell_type": "markdown",
   "metadata": {},
   "source": [
    "read: https://faun.pub/concurrency-parallelism-in-python-59ea61e34ae0"
   ]
  }
 ],
 "metadata": {
  "language_info": {
   "name": "python"
  },
  "orig_nbformat": 4
 },
 "nbformat": 4,
 "nbformat_minor": 2
}
