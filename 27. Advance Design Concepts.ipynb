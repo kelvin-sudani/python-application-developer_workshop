{
 "cells": [
  {
   "cell_type": "markdown",
   "metadata": {},
   "source": [
    "# SOLID Principles\n",
    "https://towardsdev.com/solid-principles-explained-635ad3608b20"
   ]
  },
  {
   "cell_type": "markdown",
   "metadata": {},
   "source": [
    "# Cohesion and Coupling\n",
    "Read This: https://python.plainenglish.io/cohesion-coupling-in-python-f332da3745f8\n",
    "Cohesion => combining all the things that achieve a single purpose. Pure functions are the prime example of cohesion they don't have any side effects.\n",
    "\n",
    "Coupling => Coupling is the degree of interdependence between software modules. It specifies how much information one class has about another class. \n",
    "- If information is transferred from one class to another directly, we can say that coupling is tight here, however, if there is an interface between them, then we can say that it is loosely coupled. \n",
    "- We should make our structure as loosely as possible.\n",
    "- Tight coupling vs Loose Coupling"
   ]
  }
 ],
 "metadata": {
  "kernelspec": {
   "display_name": "Python 3.9.6 64-bit",
   "language": "python",
   "name": "python3"
  },
  "language_info": {
   "name": "python",
   "version": "3.9.6"
  },
  "orig_nbformat": 4,
  "vscode": {
   "interpreter": {
    "hash": "81794d4967e6c3204c66dcd87b604927b115b27c00565d3d43f05ba2f3a2cb0d"
   }
  }
 },
 "nbformat": 4,
 "nbformat_minor": 2
}
