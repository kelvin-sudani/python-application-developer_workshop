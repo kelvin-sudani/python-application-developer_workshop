{
 "cells": [
  {
   "cell_type": "markdown",
   "metadata": {},
   "source": [
    "# Introduction to Lists\n"
   ]
  },
  {
   "cell_type": "code",
   "execution_count": 88,
   "metadata": {},
   "outputs": [
    {
     "name": "stdout",
     "output_type": "stream",
     "text": [
      "[0, 1, 2, 3, 4]  => length:  5\n",
      "['a', 'ab', 'abc', 'abcd']  => length:  4\n",
      "[True, False, False, True]  => length:  4\n",
      "[0, 1, 20.0, 'abcdef', 'g', True, False, ['a', 100, False]]  => length:  8\n",
      "num_list:  [-10, -9, -8, -7, -6, -5, -4, -3, -2, -1, 0, 1, 2, 3, 4, 5, 6, 7, 8, 9]\n",
      "['a', 'b', 'c', 'd', 'e', 'f', 'g', 'h', 'i']\n"
     ]
    }
   ],
   "source": [
    "# Creating a list and find a length\n",
    "my_list = [0,1,2,3,4]\n",
    "print(my_list,\" => length: \", len(my_list))\n",
    "\n",
    "my_list = ['a','ab','abc','abcd']\n",
    "print(my_list,\" => length: \", len(my_list))\n",
    "\n",
    "\n",
    "my_list = [True,False,False,True]\n",
    "print(my_list,\" => length: \", len(my_list))\n",
    "\n",
    "\n",
    "mix_list = [0,1,20.0,\"abcdef\",\"g\",True,False,['a',100,False]]\n",
    "print(mix_list,\" => length: \", len(mix_list))\n",
    "\n",
    "\n",
    "# create a list from range\n",
    "num_list = list(range(-10,10))\n",
    "print(\"num_list: \",num_list)\n",
    "\n",
    "# create a list of characters from a string\n",
    "print(list(\"abcdefghi\"))\n"
   ]
  },
  {
   "cell_type": "markdown",
   "metadata": {},
   "source": [
    "### List Comprehension\n",
    "General syntax: ```[ expression for item in iterable]```"
   ]
  },
  {
   "cell_type": "code",
   "execution_count": 130,
   "metadata": {},
   "outputs": [
    {
     "name": "stdout",
     "output_type": "stream",
     "text": [
      "[0, 1, 4, 9, 16]\n",
      "['AAA', 'BBB', 'CCC']\n",
      "[4, 2, 0, 2, 4]\n",
      "[(0, 0), (1, 1), (2, 4), (3, 9)]\n"
     ]
    }
   ],
   "source": [
    "L = [x**2 for x in range(5)]\n",
    "print(L)\n",
    "\n",
    "L = [x*3 for x in 'ABC']\n",
    "print(L)\n",
    "\n",
    "vec = [-4, -2, 0, 2, 4]\n",
    "L = [abs(x) for x in vec]\n",
    "print(L)\n",
    "\n",
    "L = [(x, x**2) for x in range(4)]\n",
    "print(L)"
   ]
  },
  {
   "cell_type": "markdown",
   "metadata": {},
   "source": [
    "# Basic list operations"
   ]
  },
  {
   "cell_type": "code",
   "execution_count": 95,
   "metadata": {},
   "outputs": [
    {
     "name": "stdout",
     "output_type": "stream",
     "text": [
      "combine_list:  [1, 2, 3, 4, 5, 'a', 'b', 'c', 'd', 'e']\n",
      "first_list:  [1, 2, 3, 4, 5]\n",
      "second_list:  ['a', 'b', 'c', 'd', 'e']\n",
      "extend the first list\n",
      "first_list:  [1, 2, 3, 4, 5, 'a', 'b', 'c', 'd', 'e']\n",
      "second_list:  ['a', 'b', 'c', 'd', 'e']\n"
     ]
    }
   ],
   "source": [
    "# concatenation\n",
    "first_list = [1,2,3,4,5]\n",
    "second_list = ['a','b','c','d','e']\n",
    "combine_list = first_list + second_list\n",
    "print(\"combine_list: \",combine_list)\n",
    "print(\"first_list: \",first_list)\n",
    "print(\"second_list: \",second_list)\n",
    "\n",
    "# extend\n",
    "print(\"extend the first list\")\n",
    "first_list.extend(second_list)\n",
    "print(\"first_list: \",first_list)\n",
    "print(\"second_list: \",second_list)"
   ]
  },
  {
   "cell_type": "code",
   "execution_count": 36,
   "metadata": {},
   "outputs": [
    {
     "name": "stdout",
     "output_type": "stream",
     "text": [
      "[0, 1, 2, 3, 4]\n",
      "[0, 1, 2, 3, 4, 100]\n",
      "[0, 1, 2, 3, 4, 100, [200, 300, 400]]\n"
     ]
    }
   ],
   "source": [
    "# append = push\n",
    "a = list(range(5))\n",
    "print(a)\n",
    "a.append(100)\n",
    "print(a) # note that the original list a is changed\n",
    "a.append([200,300,400])\n",
    "print(a) # note that the original list a is changed\n",
    "\n"
   ]
  },
  {
   "cell_type": "code",
   "execution_count": 43,
   "metadata": {},
   "outputs": [
    {
     "name": "stdout",
     "output_type": "stream",
     "text": [
      "[0, 1, 2, 3, 4]\n",
      "[0, 1, 2, 3]\n",
      "[1, 2, 3]\n",
      "[1, 3]\n"
     ]
    }
   ],
   "source": [
    "# pop\n",
    "a = list(range(5))\n",
    "print(a)\n",
    "a.pop()\n",
    "print(a) # note that the original list a is changed\n",
    "a.pop(0)\n",
    "print(a) # note that the original list a is changed\n",
    "a.pop(-2)\n",
    "print(a) # note that the original list a is changed\n"
   ]
  },
  {
   "cell_type": "code",
   "execution_count": 96,
   "metadata": {},
   "outputs": [
    {
     "name": "stdout",
     "output_type": "stream",
     "text": [
      "[0, 1, 2, 3, 4]\n",
      "[1, 2, 3, 4]\n"
     ]
    }
   ],
   "source": [
    "# delete an element\n",
    "a = list(range(5))\n",
    "print(a)\n",
    "del a[0]\n",
    "print(a)\n"
   ]
  },
  {
   "cell_type": "code",
   "execution_count": 47,
   "metadata": {},
   "outputs": [
    {
     "name": "stdout",
     "output_type": "stream",
     "text": [
      "[0, 1, 2, 3, 4]\n",
      "a_reversed:  None\n",
      "a:  [4, 3, 2, 1, 0]\n"
     ]
    }
   ],
   "source": [
    "# reverse\n",
    "a = list(range(5))\n",
    "print(a)\n",
    "a_reversed = a.reverse() # doesn't return anything. Will just modify the original list\n",
    "print(\"a_reversed: \",a_reversed)\n",
    "print(\"a: \",a) # note that the original list a is changed"
   ]
  },
  {
   "cell_type": "markdown",
   "metadata": {},
   "source": [
    "### Lists are mutable"
   ]
  },
  {
   "cell_type": "code",
   "execution_count": 48,
   "metadata": {},
   "outputs": [
    {
     "name": "stdout",
     "output_type": "stream",
     "text": [
      "[0, 211, 2, 3, 4, 5, 6, 7, 8, 9]\n",
      "[9, 8, 7, 6, 5, 4, 3, 2, 211, 0]\n"
     ]
    }
   ],
   "source": [
    "num_list[1]+=100\n",
    "print(num_list)\n",
    "\n",
    "num_list.reverse()\n",
    "print(num_list)\n",
    "\n"
   ]
  },
  {
   "cell_type": "markdown",
   "metadata": {},
   "source": [
    "# Indexing and slicing"
   ]
  },
  {
   "cell_type": "markdown",
   "metadata": {},
   "source": [
    "### Indexing\n",
    "- access list items based on index\n",
    "- both positive and negative values are supported"
   ]
  },
  {
   "cell_type": "code",
   "execution_count": null,
   "metadata": {},
   "outputs": [
    {
     "name": "stdout",
     "output_type": "stream",
     "text": [
      "0\n",
      "1\n",
      "20.0\n",
      "['a', 100, False]\n",
      "['a', 100, False]\n",
      "False\n",
      "0\n",
      "[20.0, 'abcdef', 'g', True, False]\n"
     ]
    }
   ],
   "source": [
    "# Access list items:\n",
    "## Both positive and negative index are supported\n",
    "print(mix_list[0])\n",
    "print(mix_list[1])\n",
    "print(mix_list[2])\n",
    "print(mix_list[len(mix_list)-1])\n",
    "print(mix_list[-1])\n",
    "print(mix_list[-2])\n",
    "print(mix_list[-len(mix_list)])\n",
    "\n"
   ]
  },
  {
   "cell_type": "markdown",
   "metadata": {},
   "source": [
    "### List slicing\n",
    "- get a part of a list based on a starting and ending points\n",
    "- both positive and negative values are supported\n",
    "- watch out of out of bound range values\n",
    "- make sure that starting index point coming before  the end index point."
   ]
  },
  {
   "cell_type": "markdown",
   "metadata": {},
   "source": [
    "#### Access items"
   ]
  },
  {
   "cell_type": "code",
   "execution_count": 116,
   "metadata": {},
   "outputs": [
    {
     "name": "stdout",
     "output_type": "stream",
     "text": [
      "num_list =>  [0, 1, 2, 3, 4, 5, 6, 7, 8, 9]\n",
      "num_list[:4] =>  [0, 1, 2, 3]\n",
      "num_list[2:] =>  [2, 3, 4, 5, 6, 7, 8, 9]\n",
      "num_list[2:4] =>  [2, 3]\n",
      "num_list[-2:-4] =>  []\n",
      "num_list[-4:-2] =>  [6, 7]\n",
      "num_list[-40:-2] =>  [0, 1, 2, 3, 4, 5, 6, 7]\n",
      "num_list[20:-2] =>  []\n",
      "num_list[-2:20] =>  [8, 9]\n",
      "num_list[::2] =>  [0, 2, 4, 6, 8]\n",
      "num_list[1:4:2] =>  [1, 3]\n",
      "num_list[4:1:-2] =>  [4, 2]\n",
      "num_list[2:6:-2] =>  []\n"
     ]
    }
   ],
   "source": [
    "# Access a slice based on an index range\n",
    "num_list = list(range(10))\n",
    "print(\"num_list => \",num_list)\n",
    "print(\"num_list[:4] => \",num_list[:4])\n",
    "print(\"num_list[2:] => \",num_list[2:])\n",
    "print(\"num_list[2:4] => \",num_list[2:4])\n",
    "print(\"num_list[-2:-4] => \",num_list[-2:-4]) # starting index is coming after the end index\n",
    "print(\"num_list[-4:-2] => \",num_list[-4:-2])\n",
    "print(\"num_list[-40:-2] => \",num_list[-40:-2]) # will take 0 as starting point\n",
    "print(\"num_list[20:-2] => \",num_list[20:-2]) # starting index point is coming after the end index (it is greater than the length)\n",
    "print(\"num_list[-2:20] => \",num_list[-2:20]) # will take as the last index (len-1) as the end point\n",
    "\n",
    "num_list = list(range(10))\n",
    "print(\"num_list[::2] => \",num_list[::2]) # step size = 2\n",
    "print(\"num_list[1:4:2] => \",num_list[1:4:2]) # step size = 2\n",
    "print(\"num_list[4:1:-2] => \",num_list[4:1:-2]) # step size = -1\n",
    "print(\"num_list[2:6:-2] => \",num_list[2:6:-1]) # step size = -1\n"
   ]
  },
  {
   "cell_type": "markdown",
   "metadata": {},
   "source": [
    "#### Modify a list"
   ]
  },
  {
   "cell_type": "code",
   "execution_count": 118,
   "metadata": {},
   "outputs": [
    {
     "name": "stdout",
     "output_type": "stream",
     "text": [
      "['a', 1, 2, 3, 'e']\n",
      "['a', 1, 2, 3, 'c', 'd', 'e']\n"
     ]
    }
   ],
   "source": [
    "# Modify multiple list items\n",
    "L = ['a', 'b', 'c', 'd', 'e']\n",
    "L[1:4] = [1, 2, 3]\n",
    "print(L)\n",
    "\n",
    "# Replace multiple elements in place of a single element\n",
    "L = ['a', 'b', 'c', 'd', 'e']\n",
    "L[1:2] = [1, 2, 3]\n",
    "print(L)"
   ]
  },
  {
   "cell_type": "markdown",
   "metadata": {},
   "source": [
    "#### Insert items"
   ]
  },
  {
   "cell_type": "code",
   "execution_count": 121,
   "metadata": {},
   "outputs": [
    {
     "name": "stdout",
     "output_type": "stream",
     "text": [
      "[1, 2, 3, 'a', 'b', 'c']\n",
      "['a', 'b', 'c', 1, 2, 3]\n",
      "['a', 1, 2, 3, 'b', 'c']\n"
     ]
    }
   ],
   "source": [
    "# Insert at the start\n",
    "L = ['a', 'b', 'c']\n",
    "L[:0] = [1, 2, 3]\n",
    "print(L)\n",
    "\n",
    "# Insert at the end\n",
    "L = ['a', 'b', 'c']\n",
    "L[len(L):] = [1, 2, 3]\n",
    "print(L)\n",
    "\n",
    "# Insert in the middle\n",
    "L = ['a', 'b', 'c']\n",
    "L[1:1] = [1, 2, 3]\n",
    "print(L)"
   ]
  },
  {
   "cell_type": "markdown",
   "metadata": {},
   "source": [
    "#### Delete items"
   ]
  },
  {
   "cell_type": "code",
   "execution_count": 122,
   "metadata": {},
   "outputs": [
    {
     "name": "stdout",
     "output_type": "stream",
     "text": [
      "['a']\n"
     ]
    }
   ],
   "source": [
    "L = ['a', 'b', 'c', 'd', 'e']\n",
    "L[1:5] = []\n",
    "print(L)"
   ]
  },
  {
   "cell_type": "code",
   "execution_count": 123,
   "metadata": {},
   "outputs": [
    {
     "name": "stdout",
     "output_type": "stream",
     "text": [
      "['a']\n"
     ]
    }
   ],
   "source": [
    "L = ['a', 'b', 'c', 'd', 'e']\n",
    "del L[1:5]\n",
    "print(L)"
   ]
  },
  {
   "cell_type": "markdown",
   "metadata": {},
   "source": [
    "#### Copy items"
   ]
  },
  {
   "cell_type": "code",
   "execution_count": 125,
   "metadata": {},
   "outputs": [
    {
     "name": "stdout",
     "output_type": "stream",
     "text": [
      "['a', 'b', 'c', 'd', 'e']\n",
      "False\n"
     ]
    }
   ],
   "source": [
    "L1 = ['a', 'b', 'c', 'd', 'e']\n",
    "L2 = L1[:]\n",
    "print(L2)\n",
    "print(L2 is L1)"
   ]
  },
  {
   "cell_type": "markdown",
   "metadata": {},
   "source": [
    "# Built-in functions and methods#"
   ]
  },
  {
   "cell_type": "code",
   "execution_count": 97,
   "metadata": {},
   "outputs": [
    {
     "name": "stdout",
     "output_type": "stream",
     "text": [
      "False\n",
      "True\n",
      "True\n",
      "True\n"
     ]
    }
   ],
   "source": [
    "# check if given element exist in a list\n",
    "num_list = list(range(10))\n",
    "print(10 in num_list)\n",
    "print(9 in num_list)\n",
    "print(8 in num_list)\n",
    "print(7 in num_list)"
   ]
  },
  {
   "cell_type": "code",
   "execution_count": 51,
   "metadata": {},
   "outputs": [
    {
     "name": "stdout",
     "output_type": "stream",
     "text": [
      "[9, 4, 3, 8, 1, 5, 7, 6, 0, 2]\n",
      "[0, 1, 2, 3, 4, 5, 6, 7, 8, 9]\n"
     ]
    }
   ],
   "source": [
    "# sort a list\n",
    "import random\n",
    "num_list = random.sample(list(range(10)),10) # random.sample(s, k) => will return a list of k randomly selected items from s \n",
    "print(num_list)\n",
    "num_list.sort()\n",
    "print(num_list) # original list is modified\n",
    "\n"
   ]
  },
  {
   "cell_type": "code",
   "execution_count": 75,
   "metadata": {},
   "outputs": [
    {
     "name": "stdout",
     "output_type": "stream",
     "text": [
      "[6, 0, 4, 5, 2, 1, 3, 7, 9, 8]\n",
      "[]\n"
     ]
    }
   ],
   "source": [
    "# clear => delete all items from a list and make it empty\n",
    "num_list = random.sample(list(range(10)),10)\n",
    "print(num_list)\n",
    "num_list.clear()\n",
    "print(num_list)"
   ]
  },
  {
   "cell_type": "code",
   "execution_count": 84,
   "metadata": {},
   "outputs": [
    {
     "name": "stdout",
     "output_type": "stream",
     "text": [
      "[1, 2, 3, 4, 0]\n",
      "changing num_list\n",
      "num_list:  [1, 2, 3, 4, 0, 1000]\n",
      "new_list:  [1, 2, 3, 4, 0, 1000]\n",
      "changing num_list\n",
      "num_list:  [1, 2, 3, 4, 0, 1000, 100000]\n",
      "new_list:  [1, 2, 3, 4, 0, 1000]\n"
     ]
    }
   ],
   "source": [
    "# copy => create a shallow copy of a list\n",
    "num_list = random.sample(list(range(5)),5)\n",
    "print(num_list)\n",
    "\n",
    "new_list = num_list\n",
    "print(\"changing num_list\")\n",
    "num_list.append(1000)\n",
    "print(\"num_list: \",num_list)\n",
    "print(\"new_list: \",new_list)\n",
    "\n",
    "\n",
    "new_list = num_list.copy()\n",
    "\n",
    "print(\"changing num_list\")\n",
    "num_list.append(100000)\n",
    "print(\"num_list: \",num_list)\n",
    "print(\"new_list: \",new_list)\n",
    "\n"
   ]
  },
  {
   "cell_type": "code",
   "execution_count": 59,
   "metadata": {},
   "outputs": [
    {
     "name": "stdout",
     "output_type": "stream",
     "text": [
      "[5, 8, 6, 2, 9, 3, 7, 1, 0, 4, 5, 8, 6, 2, 9]\n",
      "1\n"
     ]
    }
   ],
   "source": [
    "# count => how many times given item appears in the list\n",
    "num_list = random.sample(list(range(10)),10)\n",
    "num_list.extend(num_list[:5])\n",
    "print(num_list)\n",
    "print(num_list.count(1))"
   ]
  },
  {
   "cell_type": "code",
   "execution_count": 85,
   "metadata": {},
   "outputs": [
    {
     "name": "stdout",
     "output_type": "stream",
     "text": [
      "[7, 8, 5, 9, 3, 2, 1, 0, 4, 6]\n",
      "3\n"
     ]
    }
   ],
   "source": [
    "# index => return an index of a given item\n",
    "num_list = random.sample(list(range(10)),10)\n",
    "print(num_list)\n",
    "print(num_list.index(9))\n"
   ]
  },
  {
   "cell_type": "code",
   "execution_count": 86,
   "metadata": {},
   "outputs": [
    {
     "name": "stdout",
     "output_type": "stream",
     "text": [
      "[1000, 7, 6, 9, 4, 5, 1, 8, 0, 3, 2000, 2, 3000]\n"
     ]
    }
   ],
   "source": [
    "# insert(item, index) => add an item at a given index\n",
    "num_list = random.sample(list(range(10)),10)\n",
    "num_list.insert(0,1000)\n",
    "num_list.insert(-1,2000)\n",
    "num_list.insert(len(num_list),3000)\n",
    "print(num_list)\n"
   ]
  },
  {
   "cell_type": "code",
   "execution_count": 87,
   "metadata": {},
   "outputs": [
    {
     "name": "stdout",
     "output_type": "stream",
     "text": [
      "['a', 'x', 'd', 't', 'o', 'u']\n"
     ]
    },
    {
     "ename": "ValueError",
     "evalue": "list.remove(x): x not in list",
     "output_type": "error",
     "traceback": [
      "\u001b[1;31m---------------------------------------------------------------------------\u001b[0m",
      "\u001b[1;31mValueError\u001b[0m                                Traceback (most recent call last)",
      "Cell \u001b[1;32mIn [87], line 4\u001b[0m\n\u001b[0;32m      2\u001b[0m my_list \u001b[39m=\u001b[39m [\u001b[39m'\u001b[39m\u001b[39ma\u001b[39m\u001b[39m'\u001b[39m,\u001b[39m'\u001b[39m\u001b[39mx\u001b[39m\u001b[39m'\u001b[39m,\u001b[39m'\u001b[39m\u001b[39md\u001b[39m\u001b[39m'\u001b[39m,\u001b[39m'\u001b[39m\u001b[39mt\u001b[39m\u001b[39m'\u001b[39m,\u001b[39m'\u001b[39m\u001b[39mo\u001b[39m\u001b[39m'\u001b[39m,\u001b[39m'\u001b[39m\u001b[39mu\u001b[39m\u001b[39m'\u001b[39m]\n\u001b[0;32m      3\u001b[0m \u001b[39mprint\u001b[39m(my_list)\n\u001b[1;32m----> 4\u001b[0m num_list\u001b[39m.\u001b[39;49mremove(\u001b[39m'\u001b[39;49m\u001b[39mx\u001b[39;49m\u001b[39m'\u001b[39;49m)\n\u001b[0;32m      5\u001b[0m \u001b[39mprint\u001b[39m(my_list)\n\u001b[0;32m      6\u001b[0m num_list\u001b[39m.\u001b[39mremove(\u001b[39m'\u001b[39m\u001b[39maa\u001b[39m\u001b[39m'\u001b[39m)\n",
      "\u001b[1;31mValueError\u001b[0m: list.remove(x): x not in list"
     ]
    }
   ],
   "source": [
    "# remove(item) => remove a given item\n",
    "my_list = ['a','x','d','t','o','u']\n",
    "print(my_list)\n",
    "num_list.remove('x')\n",
    "print(my_list)\n",
    "num_list.remove('aa') ## throws an error if item is not found\n",
    "print(my_list)\n"
   ]
  }
 ],
 "metadata": {
  "kernelspec": {
   "display_name": "Python 3.9.6 64-bit",
   "language": "python",
   "name": "python3"
  },
  "language_info": {
   "codemirror_mode": {
    "name": "ipython",
    "version": 3
   },
   "file_extension": ".py",
   "mimetype": "text/x-python",
   "name": "python",
   "nbconvert_exporter": "python",
   "pygments_lexer": "ipython3",
   "version": "3.9.6"
  },
  "orig_nbformat": 4,
  "vscode": {
   "interpreter": {
    "hash": "81794d4967e6c3204c66dcd87b604927b115b27c00565d3d43f05ba2f3a2cb0d"
   }
  }
 },
 "nbformat": 4,
 "nbformat_minor": 2
}
