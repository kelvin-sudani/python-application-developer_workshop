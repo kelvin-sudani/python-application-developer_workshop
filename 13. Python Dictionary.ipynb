{
 "cells": [
  {
   "cell_type": "markdown",
   "metadata": {},
   "source": [
    "# Basic Dictionary operations"
   ]
  },
  {
   "cell_type": "markdown",
   "metadata": {},
   "source": [
    "## Create a Dictionary"
   ]
  },
  {
   "cell_type": "code",
   "execution_count": 3,
   "metadata": {},
   "outputs": [],
   "source": [
    "# Create a dictionary to store employee record\n",
    "D = {'name': 'Bob',\n",
    "     'age': 25,\n",
    "     'job': 'Dev',\n",
    "     'city': 'New York',\n",
    "     'email': 'bob@web.com'}"
   ]
  },
  {
   "cell_type": "markdown",
   "metadata": {},
   "source": [
    "### Nested Dictionary"
   ]
  },
  {
   "cell_type": "code",
   "execution_count": 52,
   "metadata": {},
   "outputs": [],
   "source": [
    "my_family = {\n",
    "  \"child1\" : {\n",
    "    \"name\" : \"Emil\",\n",
    "    \"year\" : 2004\n",
    "  },\n",
    "  \"child2\" : {\n",
    "    \"name\" : \"Tobias\",\n",
    "    \"year\" : 2007\n",
    "  },\n",
    "  \"child3\" : {\n",
    "    \"name\" : \"Linus\",\n",
    "    \"year\" : 2011\n",
    "  }\n",
    "}"
   ]
  },
  {
   "cell_type": "markdown",
   "metadata": {},
   "source": [
    "### Create a dictionary from other data types"
   ]
  },
  {
   "cell_type": "code",
   "execution_count": 5,
   "metadata": {},
   "outputs": [
    {
     "name": "stdout",
     "output_type": "stream",
     "text": [
      "{'name': 'Bob', 'age': 25, 'job': 'Dev'}\n"
     ]
    }
   ],
   "source": [
    "# Create a dictionary with a list of two-item tuples\n",
    "L = [('name', 'Bob'),\n",
    "     ('age', 25),\n",
    "     ('job', 'Dev')]\n",
    "\n",
    "D = dict(L)\n",
    "print(D)"
   ]
  },
  {
   "cell_type": "code",
   "execution_count": 4,
   "metadata": {},
   "outputs": [
    {
     "name": "stdout",
     "output_type": "stream",
     "text": [
      "{'name': 'Bob', 'age': 25, 'job': 'Dev'}\n"
     ]
    }
   ],
   "source": [
    "# Create a dictionary with a tuple of two-item lists\n",
    "T = (['name', 'Bob'],\n",
    "     ['age', 25],\n",
    "     ['job', 'Dev'])\n",
    "\n",
    "D = dict(T)\n",
    "print(D)"
   ]
  },
  {
   "cell_type": "code",
   "execution_count": 6,
   "metadata": {},
   "outputs": [
    {
     "name": "stdout",
     "output_type": "stream",
     "text": [
      "{'name': 'Bob', 'age': 25, 'job': 'Dev'}\n"
     ]
    }
   ],
   "source": [
    "D = dict(name = 'Bob',\n",
    "         age = 25,\n",
    "         job = 'Dev')\n",
    "\n",
    "print(D)"
   ]
  },
  {
   "cell_type": "markdown",
   "metadata": {},
   "source": [
    "#### Other ways to create a dictionary"
   ]
  },
  {
   "cell_type": "code",
   "execution_count": 7,
   "metadata": {},
   "outputs": [
    {
     "name": "stdout",
     "output_type": "stream",
     "text": [
      "{'name': 'Bob', 'age': 25, 'job': 'Dev'}\n"
     ]
    }
   ],
   "source": [
    "# Create a dictionary with list of zipped keys/values\n",
    "keys = ['name', 'age', 'job']\n",
    "values = ['Bob', 25, 'Dev']\n",
    "\n",
    "D = dict(zip(keys, values))\n",
    "\n",
    "print(D)"
   ]
  },
  {
   "cell_type": "code",
   "execution_count": 8,
   "metadata": {},
   "outputs": [
    {
     "name": "stdout",
     "output_type": "stream",
     "text": [
      "{'a': 0, 'b': 0, 'c': 0}\n"
     ]
    }
   ],
   "source": [
    "# Initialize dictionary with default value '0' for each key\n",
    "keys = ['a', 'b', 'c']\n",
    "defaultValue = 0\n",
    "\n",
    "D = dict.fromkeys(keys,defaultValue)\n",
    "\n",
    "print(D)"
   ]
  },
  {
   "cell_type": "markdown",
   "metadata": {},
   "source": [
    "## Access Dictionary Items"
   ]
  },
  {
   "cell_type": "markdown",
   "metadata": {},
   "source": [
    "### Get All Keys, Values and Key:Value Pairs"
   ]
  },
  {
   "cell_type": "code",
   "execution_count": 2,
   "metadata": {},
   "outputs": [
    {
     "name": "stdout",
     "output_type": "stream",
     "text": [
      "['name', 'age', 'job']\n",
      "['Bob', 25, 'Dev']\n",
      "[('name', 'Bob'), ('age', 25), ('job', 'Dev')]\n"
     ]
    }
   ],
   "source": [
    "D = {'name': 'Bob',\n",
    "     'age': 25,\n",
    "     'job': 'Dev'}\n",
    "\n",
    "# get all keys\n",
    "print(list(D.keys()))\n",
    "\n",
    "\n",
    "# get all values\n",
    "print(list(D.values()))\n",
    "\n",
    "\n",
    "# get all pairs\n",
    "print(list(D.items()))\n"
   ]
  },
  {
   "cell_type": "markdown",
   "metadata": {},
   "source": [
    "## Add or Update Dictionary Items"
   ]
  },
  {
   "cell_type": "code",
   "execution_count": null,
   "metadata": {},
   "outputs": [],
   "source": [
    "# Add a new key-value pair\n",
    "D = {'name': 'Bob',\n",
    "     'age': 25,\n",
    "     'job': 'Dev'}\n",
    "\n",
    "D['city'] = 'New York'\n",
    "print(D)"
   ]
  },
  {
   "cell_type": "code",
   "execution_count": 9,
   "metadata": {},
   "outputs": [
    {
     "name": "stdout",
     "output_type": "stream",
     "text": [
      "{'name': 'Sam', 'age': 25, 'job': 'Dev'}\n"
     ]
    }
   ],
   "source": [
    "# Update a key-value pair\n",
    "D = {'name': 'Bob',\n",
    "     'age': 25,\n",
    "     'job': 'Dev'}\n",
    "\n",
    "D['name'] = 'Sam'\n",
    "print(D)"
   ]
  },
  {
   "cell_type": "markdown",
   "metadata": {},
   "source": [
    "## Remove Dictionary Items"
   ]
  },
  {
   "cell_type": "markdown",
   "metadata": {},
   "source": [
    "### Remove an item by key\n",
    "- use pop() to delete and return a deleted item \n",
    "- use del to just delete an item without returning it"
   ]
  },
  {
   "cell_type": "code",
   "execution_count": 11,
   "metadata": {},
   "outputs": [
    {
     "name": "stdout",
     "output_type": "stream",
     "text": [
      "{'name': 'Bob', 'job': 'Dev'}\n",
      "25\n"
     ]
    }
   ],
   "source": [
    "D = {'name': 'Bob',\n",
    "     'age': 25,\n",
    "     'job': 'Dev'}\n",
    "\n",
    "x = D.pop('age')\n",
    "print(D)\n",
    "\n",
    "# get removed value\n",
    "print(x)"
   ]
  },
  {
   "cell_type": "code",
   "execution_count": 12,
   "metadata": {},
   "outputs": [
    {
     "name": "stdout",
     "output_type": "stream",
     "text": [
      "{'name': 'Bob', 'job': 'Dev'}\n"
     ]
    }
   ],
   "source": [
    "# If you don’t need the removed value, use the del statement.\n",
    "\n",
    "D = {'name': 'Bob',\n",
    "     'age': 25,\n",
    "     'job': 'Dev'}\n",
    "\n",
    "del D['age']\n",
    "print(D)"
   ]
  },
  {
   "cell_type": "markdown",
   "metadata": {},
   "source": [
    "### Remove Last Inserted Item\n",
    "use popitem()"
   ]
  },
  {
   "cell_type": "code",
   "execution_count": null,
   "metadata": {},
   "outputs": [],
   "source": [
    "D = {'name': 'Bob',\n",
    "     'age': 25,\n",
    "     'job': 'Dev'}\n",
    "\n",
    "x = D.popitem()\n",
    "print(D)\n",
    "# Prints {'name': 'Bob', 'age': 25}\n",
    "\n",
    "# get removed pair\n",
    "print(x)"
   ]
  },
  {
   "cell_type": "markdown",
   "metadata": {},
   "source": [
    "### Remove all Items\n",
    "use clear()"
   ]
  },
  {
   "cell_type": "code",
   "execution_count": null,
   "metadata": {},
   "outputs": [],
   "source": [
    "D = {'name': 'Bob',\n",
    "     'age': 25,\n",
    "     'job': 'Dev'}\n",
    "\n",
    "D.clear()\n",
    "print(D)"
   ]
  },
  {
   "cell_type": "markdown",
   "metadata": {},
   "source": [
    "## Merge Two Dictionaries"
   ]
  },
  {
   "cell_type": "code",
   "execution_count": 10,
   "metadata": {},
   "outputs": [
    {
     "name": "stdout",
     "output_type": "stream",
     "text": [
      "{'name': 'Bob', 'age': 30, 'job': 'Dev', 'city': 'New York', 'email': 'bob@web.com'}\n"
     ]
    }
   ],
   "source": [
    "D1 = {'name': 'Bob',\n",
    "      'age': 25,\n",
    "      'job': 'Dev'}\n",
    "\n",
    "D2 = {'age': 30,\n",
    "      'city': 'New York',\n",
    "      'email': 'bob@web.com'}\n",
    "\n",
    "D1.update(D2)\n",
    "print(D1)"
   ]
  },
  {
   "cell_type": "markdown",
   "metadata": {},
   "source": [
    "## Iterate Through a Dictionary"
   ]
  },
  {
   "cell_type": "code",
   "execution_count": 16,
   "metadata": {},
   "outputs": [
    {
     "name": "stdout",
     "output_type": "stream",
     "text": [
      "Iterate through keys:\n",
      "name\n",
      "age\n",
      "job\n",
      "Iterate through values:\n",
      "Bob\n",
      "25\n",
      "Dev\n"
     ]
    }
   ],
   "source": [
    "print(\"Iterate through keys:\")\n",
    "D = {'name': 'Bob',\n",
    "     'age': 25,\n",
    "     'job': 'Dev'}\n",
    "\n",
    "for x in D:\n",
    "    print(x)\n",
    "\n",
    "\n",
    "print(\"Iterate through values:\")\n",
    "D = {'name': 'Bob',\n",
    "     'age': 25,\n",
    "     'job': 'Dev'}\n",
    "\n",
    "for x in D:\n",
    "    print(D[x])"
   ]
  },
  {
   "cell_type": "markdown",
   "metadata": {},
   "source": [
    "## Check if a Key or Value Exists"
   ]
  },
  {
   "cell_type": "markdown",
   "metadata": {},
   "source": [
    "### To know whether a key exists in a dictionary"
   ]
  },
  {
   "cell_type": "code",
   "execution_count": 17,
   "metadata": {},
   "outputs": [
    {
     "name": "stdout",
     "output_type": "stream",
     "text": [
      "True\n",
      "False\n"
     ]
    }
   ],
   "source": [
    "D = {'name': 'Bob',\n",
    "     'age': 25,\n",
    "     'job': 'Dev'}\n",
    "\n",
    "print('name' in D)\n",
    "\n",
    "print('salary' in D)\n"
   ]
  },
  {
   "cell_type": "markdown",
   "metadata": {},
   "source": [
    "### To check if a certain value exists in a dictionary"
   ]
  },
  {
   "cell_type": "code",
   "execution_count": 18,
   "metadata": {},
   "outputs": [
    {
     "name": "stdout",
     "output_type": "stream",
     "text": [
      "True\n",
      "False\n"
     ]
    }
   ],
   "source": [
    "D = {'name': 'Bob',\n",
    "     'age': 25,\n",
    "     'job': 'Dev'}\n",
    "\n",
    "print('Bob' in D.values())\n",
    "print('Sam' in D.values())\n"
   ]
  },
  {
   "cell_type": "markdown",
   "metadata": {},
   "source": [
    "# Built-in Functions and Methods"
   ]
  },
  {
   "cell_type": "markdown",
   "metadata": {},
   "source": [
    "### clear()\t\n",
    "Removes all the elements from the dictionary\n",
    "\n"
   ]
  },
  {
   "cell_type": "code",
   "execution_count": 19,
   "metadata": {},
   "outputs": [
    {
     "name": "stdout",
     "output_type": "stream",
     "text": [
      "{}\n"
     ]
    }
   ],
   "source": [
    "D = {'name': 'Bob', 'age': 25}\n",
    "D.clear()\n",
    "print(D)"
   ]
  },
  {
   "cell_type": "markdown",
   "metadata": {},
   "source": [
    "Assigning an empty dictionary D = {} is not same as D.clear(). For example,"
   ]
  },
  {
   "cell_type": "code",
   "execution_count": 22,
   "metadata": {},
   "outputs": [
    {
     "name": "stdout",
     "output_type": "stream",
     "text": [
      "{}\n",
      "{'name': 'Bob', 'age': 25}\n"
     ]
    }
   ],
   "source": [
    "old_Dict = {'name': 'Bob', 'age': 25}\n",
    "new_Dict = old_Dict\n",
    "old_Dict = {}\n",
    "print(old_Dict)\n",
    "print(new_Dict)"
   ]
  },
  {
   "cell_type": "markdown",
   "metadata": {},
   "source": [
    "old_Dict = {} does not empty the dictionary in-place, it just overwrites the variable with a different dictionary which happens to be empty. If anyone else like new_Dict had a reference to the original dictionary, that remains as-is."
   ]
  },
  {
   "cell_type": "markdown",
   "metadata": {},
   "source": [
    "On the contrary, clear() method empties the dictionary in-place. So, all the references are cleared as well."
   ]
  },
  {
   "cell_type": "code",
   "execution_count": 23,
   "metadata": {},
   "outputs": [
    {
     "name": "stdout",
     "output_type": "stream",
     "text": [
      "{}\n",
      "{}\n"
     ]
    }
   ],
   "source": [
    "old_Dict = {'name': 'Bob', 'age': 25}\n",
    "new_Dict = old_Dict\n",
    "old_Dict.clear()\n",
    "print(old_Dict)\n",
    "print(new_Dict)"
   ]
  },
  {
   "cell_type": "markdown",
   "metadata": {},
   "source": [
    "### copy()\n",
    "Returns a copy of the dictionary\n"
   ]
  },
  {
   "cell_type": "code",
   "execution_count": 27,
   "metadata": {},
   "outputs": [
    {
     "name": "stdout",
     "output_type": "stream",
     "text": [
      "{'name': 'Bob', 'age': 25}\n"
     ]
    }
   ],
   "source": [
    "D = {'name': 'Bob', 'age': 25}\n",
    "X = D.copy()\n",
    "print(X)"
   ]
  },
  {
   "cell_type": "markdown",
   "metadata": {},
   "source": [
    "Assignment statement does not copy objects.When you execute new_Dict = old_Dict, you don’t actually have two dictionaries. The assignment just makes the two variables point to the one dictionary in memory."
   ]
  },
  {
   "cell_type": "code",
   "execution_count": 24,
   "metadata": {},
   "outputs": [
    {
     "name": "stdout",
     "output_type": "stream",
     "text": [
      "{'name': 'xx', 'age': 25}\n",
      "{'name': 'xx', 'age': 25}\n"
     ]
    }
   ],
   "source": [
    "old_Dict = {'name': 'Bob', 'age': 25}\n",
    "new_Dict = old_Dict\n",
    "new_Dict['name'] = 'xx'\n",
    "print(old_Dict)\n",
    "# Prints {'age': 25, 'name': 'xx'}\n",
    "print(new_Dict)\n",
    "# Prints {'age': 25, 'name': 'xx'}"
   ]
  },
  {
   "cell_type": "markdown",
   "metadata": {},
   "source": [
    "So, when you change new_Dict, old_Dict is also modified. If you want to change one copy without changing the other, use copy()method."
   ]
  },
  {
   "cell_type": "code",
   "execution_count": 25,
   "metadata": {},
   "outputs": [
    {
     "name": "stdout",
     "output_type": "stream",
     "text": [
      "{'name': 'Bob', 'age': 25}\n",
      "{'name': 'xx', 'age': 25}\n"
     ]
    }
   ],
   "source": [
    "old_Dict = {'name': 'Bob', 'age': 25}\n",
    "new_Dict = old_Dict.copy()\n",
    "new_Dict['name'] = 'xx'\n",
    "print(old_Dict)\n",
    "# Prints {'age': 25, 'name': 'Bob'}\n",
    "print(new_Dict)\n",
    "# Prints {'age': 25, 'name': 'xx'}"
   ]
  },
  {
   "cell_type": "markdown",
   "metadata": {},
   "source": [
    "#### Copy using dictionary comprehension"
   ]
  },
  {
   "cell_type": "code",
   "execution_count": 26,
   "metadata": {},
   "outputs": [
    {
     "name": "stdout",
     "output_type": "stream",
     "text": [
      "{'name': 'Bob', 'age': 25}\n"
     ]
    }
   ],
   "source": [
    "D = {'name': 'Bob', 'age': 25}\n",
    "X = {k:v for k,v in D.items()}\n",
    "print(X)"
   ]
  },
  {
   "cell_type": "markdown",
   "metadata": {},
   "source": [
    "### fromkeys()\t\n",
    "Returns a dictionary with the specified keys and value\n",
    "dict.fromkeys(keys,value)\n",
    "- keys\t=> Required\t\n",
    "  - => An iterable of keys for the new dictionary\n",
    "- value\t=> Optional\t\n",
    "  - => The value for all keys. Default value is None.\n"
   ]
  },
  {
   "cell_type": "code",
   "execution_count": 28,
   "metadata": {},
   "outputs": [
    {
     "name": "stdout",
     "output_type": "stream",
     "text": [
      "{'Bob': 'Developer', 'Sam': 'Developer'}\n"
     ]
    }
   ],
   "source": [
    "# Create a dictionary and set default value 'Developer' for all keys\n",
    "D = dict.fromkeys(['Bob', 'Sam'], 'Developer')\n",
    "print(D)"
   ]
  },
  {
   "cell_type": "code",
   "execution_count": 29,
   "metadata": {},
   "outputs": [
    {
     "name": "stdout",
     "output_type": "stream",
     "text": [
      "{'Bob': None, 'Sam': None}\n"
     ]
    }
   ],
   "source": [
    "# If default value argument is not specified, all keys are set to None.\n",
    "\n",
    "D = dict.fromkeys(['Bob', 'Sam'])\n",
    "print(D)"
   ]
  },
  {
   "cell_type": "code",
   "execution_count": 30,
   "metadata": {},
   "outputs": [
    {
     "name": "stdout",
     "output_type": "stream",
     "text": [
      "{'Bob': 'Developer', 'Sam': 'Developer'}\n",
      "{'Bob': None, 'Sam': None}\n"
     ]
    }
   ],
   "source": [
    "# As if default value is specified\n",
    "L = ['Bob', 'Sam']\n",
    "D = {key:'Developer' for key in L}\n",
    "print(D)\n",
    "\n",
    "\n",
    "# As if default value is not specified\n",
    "L = ['Bob', 'Sam']\n",
    "D = {key:None for key in L}\n",
    "print(D)\n"
   ]
  },
  {
   "cell_type": "markdown",
   "metadata": {},
   "source": [
    "#### using dictionary comprehension"
   ]
  },
  {
   "cell_type": "markdown",
   "metadata": {},
   "source": [
    "### get()\t\n",
    "Returns the value of the specified key\n"
   ]
  },
  {
   "cell_type": "code",
   "execution_count": 31,
   "metadata": {},
   "outputs": [
    {
     "name": "stdout",
     "output_type": "stream",
     "text": [
      "Bob\n"
     ]
    }
   ],
   "source": [
    "D = {'name': 'Bob', 'age': 25}\n",
    "print(D.get('name'))"
   ]
  },
  {
   "cell_type": "code",
   "execution_count": 32,
   "metadata": {},
   "outputs": [
    {
     "name": "stdout",
     "output_type": "stream",
     "text": [
      "None\n"
     ]
    }
   ],
   "source": [
    "D = {'name': 'Bob', 'age': 25}\n",
    "print(D.get('job'))"
   ]
  },
  {
   "cell_type": "markdown",
   "metadata": {},
   "source": [
    "#### The default Parameter\n",
    "If key is in the dictionary, the method returns the value for key (no matter what you pass in as default)."
   ]
  },
  {
   "cell_type": "code",
   "execution_count": 35,
   "metadata": {},
   "outputs": [
    {
     "name": "stdout",
     "output_type": "stream",
     "text": [
      "Manager\n"
     ]
    }
   ],
   "source": [
    "D = {'name': 'Bob', 'age': 25, 'job': 'Manager'}\n",
    "print(D.get('job', 'Developer'))"
   ]
  },
  {
   "cell_type": "markdown",
   "metadata": {},
   "source": [
    "But if key is not in the dictionary, the method returns specified default."
   ]
  },
  {
   "cell_type": "code",
   "execution_count": 36,
   "metadata": {},
   "outputs": [
    {
     "name": "stdout",
     "output_type": "stream",
     "text": [
      "Developer\n"
     ]
    }
   ],
   "source": [
    "D = {'name': 'Bob', 'age': 25}\n",
    "print(D.get('job','Developer'))"
   ]
  },
  {
   "cell_type": "markdown",
   "metadata": {},
   "source": [
    "#### get() Method vs Dictionary Indexing\n",
    "The get() method is similar to indexing a dictionary by key in that it returns the value for the specified key. However, it never raises a KeyError, if you refer to a key that is not in the dictionary."
   ]
  },
  {
   "cell_type": "code",
   "execution_count": null,
   "metadata": {},
   "outputs": [
    {
     "name": "stdout",
     "output_type": "stream",
     "text": [
      "Bob\n",
      "Bob\n"
     ]
    },
    {
     "ename": "KeyError",
     "evalue": "'job'",
     "output_type": "error",
     "traceback": [
      "\u001b[1;31m---------------------------------------------------------------------------\u001b[0m\n",
      "\u001b[1;31mKeyError\u001b[0m                                  Traceback (most recent call last)\n",
      "Cell \u001b[1;32mIn [34], line 10\u001b[0m\n",
      "\u001b[0;32m      6\u001b[0m \u001b[39m# Prints Bob\u001b[39;00m\n",
      "\u001b[0;32m      7\u001b[0m \n",
      "\u001b[0;32m      8\u001b[0m \u001b[39m# key absent\u001b[39;00m\n",
      "\u001b[0;32m      9\u001b[0m D \u001b[39m=\u001b[39m {\u001b[39m'\u001b[39m\u001b[39mname\u001b[39m\u001b[39m'\u001b[39m: \u001b[39m'\u001b[39m\u001b[39mBob\u001b[39m\u001b[39m'\u001b[39m, \u001b[39m'\u001b[39m\u001b[39mage\u001b[39m\u001b[39m'\u001b[39m: \u001b[39m25\u001b[39m}\n",
      "\u001b[1;32m---> 10\u001b[0m \u001b[39mprint\u001b[39m(D[\u001b[39m'\u001b[39;49m\u001b[39mjob\u001b[39;49m\u001b[39m'\u001b[39;49m])\n",
      "\u001b[0;32m     11\u001b[0m \u001b[39m# Triggers KeyError: 'job'\u001b[39;00m\n",
      "\u001b[0;32m     12\u001b[0m \u001b[39mprint\u001b[39m(D\u001b[39m.\u001b[39mget(\u001b[39m'\u001b[39m\u001b[39mjob\u001b[39m\u001b[39m'\u001b[39m))\n",
      "\n",
      "\u001b[1;31mKeyError\u001b[0m: 'job'"
     ]
    }
   ],
   "source": [
    "# key present\n",
    "D = {'name': 'Bob', 'age': 25}\n",
    "print(D['name'])\n",
    "# Prints Bob\n",
    "print(D.get('name'))\n",
    "# Prints Bob\n",
    "\n",
    "# key absent\n",
    "D = {'name': 'Bob', 'age': 25}\n",
    "print(D['job'])\n",
    "# Triggers KeyError: 'job'\n",
    "print(D.get('job'))\n",
    "# Prints None"
   ]
  },
  {
   "cell_type": "markdown",
   "metadata": {},
   "source": [
    "### items()\t\n",
    "Returns a list containing a tuple for each key value pair\n"
   ]
  },
  {
   "cell_type": "code",
   "execution_count": 37,
   "metadata": {},
   "outputs": [
    {
     "name": "stdout",
     "output_type": "stream",
     "text": [
      "dict_items([('name', 'Bob'), ('age', 25)])\n",
      "('name', 'Bob')\n",
      "('age', 25)\n"
     ]
    }
   ],
   "source": [
    "# Print all items from the dictionary\n",
    "D = {'name': 'Bob', 'age': 25}\n",
    "L = D.items()\n",
    "print(L)\n"
   ]
  },
  {
   "cell_type": "code",
   "execution_count": 38,
   "metadata": {},
   "outputs": [
    {
     "name": "stdout",
     "output_type": "stream",
     "text": [
      "('name', 'Bob')\n",
      "('age', 25)\n"
     ]
    }
   ],
   "source": [
    "# Iterate through both keys and values of a dictionary\n",
    "D = {'name': 'Bob', 'age': 25}\n",
    "for x in D.items():\n",
    "    print(x)"
   ]
  },
  {
   "cell_type": "markdown",
   "metadata": {},
   "source": [
    "#### items() Returns View Object\n",
    "The object returned by items() is a view object. It provides a dynamic view on the dictionary’s entries, which means that when the dictionary changes, the view reflects these changes."
   ]
  },
  {
   "cell_type": "code",
   "execution_count": 39,
   "metadata": {},
   "outputs": [
    {
     "name": "stdout",
     "output_type": "stream",
     "text": [
      "dict_items([('name', 'xx'), ('age', 25)])\n"
     ]
    }
   ],
   "source": [
    "D = {'name': 'Bob', 'age': 25}\n",
    "\n",
    "# Assign dict items to L\n",
    "L = D.items()\n",
    "\n",
    "# modify dict D\n",
    "D['name'] = 'xx'\n",
    "\n",
    "# L reflects changes done to dict D\n",
    "print(L)"
   ]
  },
  {
   "cell_type": "markdown",
   "metadata": {},
   "source": [
    "### keys()\t\n",
    "Returns a list containing the dictionary's keys\n"
   ]
  },
  {
   "cell_type": "code",
   "execution_count": 40,
   "metadata": {},
   "outputs": [
    {
     "name": "stdout",
     "output_type": "stream",
     "text": [
      "dict_keys(['name', 'age'])\n"
     ]
    }
   ],
   "source": [
    "# Print all keys from the dictionary\n",
    "D = {'name': 'Bob', 'age': 25}\n",
    "L = D.keys()\n",
    "print(L)\n",
    "# Prints dict_keys(['age', 'name'])"
   ]
  },
  {
   "cell_type": "code",
   "execution_count": 41,
   "metadata": {},
   "outputs": [
    {
     "name": "stdout",
     "output_type": "stream",
     "text": [
      "name\n",
      "age\n"
     ]
    }
   ],
   "source": [
    "# Iterate through all the keys from a dictionary\n",
    "D = {'name': 'Bob', 'age': 25}\n",
    "for x in D.keys():\n",
    "    print(x)"
   ]
  },
  {
   "cell_type": "markdown",
   "metadata": {},
   "source": [
    "#### keys() Returns View Object\n",
    "The object returned by items() is a view object. It provides a dynamic view on the dictionary’s entries, which means that when the dictionary changes, the view reflects these changes."
   ]
  },
  {
   "cell_type": "code",
   "execution_count": 42,
   "metadata": {},
   "outputs": [
    {
     "name": "stdout",
     "output_type": "stream",
     "text": [
      "dict_keys(['name', 'age', 'job'])\n"
     ]
    }
   ],
   "source": [
    "D = {'name': 'Bob', 'age': 25}\n",
    "\n",
    "# Assign dict keys to L\n",
    "L = D.keys()\n",
    "\n",
    "# modify dict D\n",
    "D['job'] = 'Developer'\n",
    "\n",
    "# L reflects changes done to dict D\n",
    "print(L)"
   ]
  },
  {
   "cell_type": "markdown",
   "metadata": {},
   "source": [
    "### values()\t\n",
    "Returns a list of all the values in the dictionary\n"
   ]
  },
  {
   "cell_type": "code",
   "execution_count": 43,
   "metadata": {},
   "outputs": [
    {
     "name": "stdout",
     "output_type": "stream",
     "text": [
      "dict_values(['Bob', 25])\n"
     ]
    }
   ],
   "source": [
    "# Print all values from the dictionary\n",
    "D = {'name': 'Bob', 'age': 25}\n",
    "L = D.values()\n",
    "print(L)"
   ]
  },
  {
   "cell_type": "code",
   "execution_count": 44,
   "metadata": {},
   "outputs": [
    {
     "name": "stdout",
     "output_type": "stream",
     "text": [
      "Bob\n",
      "25\n"
     ]
    }
   ],
   "source": [
    "# Iterate through all the values from a dictionary\n",
    "D = {'name': 'Bob', 'age': 25}\n",
    "for x in D.values():\n",
    "    print(x)"
   ]
  },
  {
   "cell_type": "markdown",
   "metadata": {},
   "source": [
    "#### values() Returns View Object\n",
    "The object returned by items() is a view object. It provides a dynamic view on the dictionary’s entries, which means that when the dictionary changes, the view reflects these changes."
   ]
  },
  {
   "cell_type": "code",
   "execution_count": 45,
   "metadata": {},
   "outputs": [
    {
     "name": "stdout",
     "output_type": "stream",
     "text": [
      "dict_values(['xx', 25])\n"
     ]
    }
   ],
   "source": [
    "D = {'name': 'Bob', 'age': 25}\n",
    "\n",
    "# Assign dict values to L\n",
    "L = D.values()\n",
    "\n",
    "# modify dict D\n",
    "D['name'] = 'xx'\n",
    "\n",
    "# L reflects changes done to dict D\n",
    "print(L)"
   ]
  },
  {
   "cell_type": "markdown",
   "metadata": {},
   "source": [
    "### update()\t\n",
    "Updates the dictionary with the specified key-value pairs\n"
   ]
  },
  {
   "cell_type": "code",
   "execution_count": 46,
   "metadata": {},
   "outputs": [
    {
     "name": "stdout",
     "output_type": "stream",
     "text": [
      "{'name': 'Bob', 'job': 'Dev', 'age': 25}\n"
     ]
    }
   ],
   "source": [
    "# update() method is generally used to merge two dictionaries.\n",
    "D1 = {'name': 'Bob'}\n",
    "D2 = {'job': 'Dev', 'age': 25}\n",
    "D1.update(D2)\n",
    "print(D1)"
   ]
  },
  {
   "cell_type": "code",
   "execution_count": 47,
   "metadata": {},
   "outputs": [
    {
     "name": "stdout",
     "output_type": "stream",
     "text": [
      "{'name': 'Bob', 'age': 30, 'job': 'Dev'}\n"
     ]
    }
   ],
   "source": [
    "# Merge and overwrite\n",
    "D1 = {'name': 'Bob', 'age': 25}\n",
    "D2 = {'job': 'Dev', 'age': 30}\n",
    "D1.update(D2)\n",
    "print(D1)"
   ]
  },
  {
   "cell_type": "markdown",
   "metadata": {},
   "source": [
    "#### Passing different type of arguments"
   ]
  },
  {
   "cell_type": "code",
   "execution_count": 49,
   "metadata": {},
   "outputs": [
    {
     "name": "stdout",
     "output_type": "stream",
     "text": [
      "{'name': 'Bob', 'job': 'Dev', 'age': 25}\n"
     ]
    }
   ],
   "source": [
    "# Passing a dictionary object\n",
    "D = {'name': 'Bob'}\n",
    "D.update({'job': 'Dev', 'age': 25})\n",
    "print(D)"
   ]
  },
  {
   "cell_type": "code",
   "execution_count": 48,
   "metadata": {},
   "outputs": [
    {
     "name": "stdout",
     "output_type": "stream",
     "text": [
      "{'name': 'Bob', 'job': 'Dev', 'age': 25}\n"
     ]
    }
   ],
   "source": [
    "# Passing a list of tuples\n",
    "D = {'name': 'Bob'}\n",
    "D.update([('job', 'Dev'), ('age', 25)])\n",
    "print(D)"
   ]
  },
  {
   "cell_type": "code",
   "execution_count": 50,
   "metadata": {},
   "outputs": [
    {
     "name": "stdout",
     "output_type": "stream",
     "text": [
      "{'name': 'Bob', 'job': 'Dev', 'age': 25}\n"
     ]
    }
   ],
   "source": [
    "# Passing an iterable of length two (nested list)\n",
    "D = {'name': 'Bob'}\n",
    "D.update([['job', 'Dev'], ['age', 25]])\n",
    "print(D)"
   ]
  },
  {
   "cell_type": "code",
   "execution_count": 51,
   "metadata": {},
   "outputs": [
    {
     "name": "stdout",
     "output_type": "stream",
     "text": [
      "{'name': 'Bob', 'job': 'Dev', 'age': 25}\n"
     ]
    }
   ],
   "source": [
    "# Specifying key:value pairs as keyword arguments\n",
    "D = {'name': 'Bob'}\n",
    "D.update(job = 'Dev', age = 25)\n",
    "print(D)"
   ]
  },
  {
   "cell_type": "markdown",
   "metadata": {},
   "source": [
    "### setdefault()\t\n",
    "Returns the value of the specified key. If the key does not exist: insert the key, with the specified value\n",
    "\n",
    "```dictionary.setdefault(key,default)```\n",
    "\n",
    "- key\t=> Required\t\n",
    "  - => Any key you want to return value for\n",
    "- default\t=> Optional\t\n",
    "  - => A value to insert if the specified key is not found.Default value is None.\n"
   ]
  },
  {
   "cell_type": "code",
   "execution_count": null,
   "metadata": {},
   "outputs": [],
   "source": [
    "# Insert a key 'job' with default value 'Dev'\n",
    "D = {'name': 'Bob', 'age': 25}\n",
    "v = D.setdefault('job', 'Dev')\n",
    "print(D)\n",
    "# Prints {'job': 'Dev', 'age': 25, 'name': 'Bob'}\n",
    "print(v)"
   ]
  },
  {
   "cell_type": "markdown",
   "metadata": {},
   "source": [
    "#### setdefault() Method Scenarios\n",
    "The method’s output depends on input parameters. Here are three scenarios for different input parameters."
   ]
  },
  {
   "cell_type": "markdown",
   "metadata": {},
   "source": [
    "##### 1. Key Present\n",
    "If key is in the dictionary, the method returns the value for key (no matter what you pass in as default)"
   ]
  },
  {
   "cell_type": "code",
   "execution_count": null,
   "metadata": {},
   "outputs": [],
   "source": [
    "# without default specified\n",
    "D = {'name': 'Bob', 'age': 25}\n",
    "v = D.setdefault('name')\n",
    "print(v)\n",
    "# Prints Bob\n",
    "\n",
    "# with default specified\n",
    "D = {'name': 'Bob', 'age': 25}\n",
    "v = D.setdefault('name', 'Max')\n",
    "print(v)\n",
    "# Prints Bob"
   ]
  },
  {
   "cell_type": "markdown",
   "metadata": {},
   "source": [
    "##### 2. Key Absent, Default Specified\n",
    "If key is not in the dictionary, the method inserts key with a value of default and returns default."
   ]
  },
  {
   "cell_type": "code",
   "execution_count": null,
   "metadata": {},
   "outputs": [],
   "source": [
    "D = {'name': 'Bob', 'age': 25}\n",
    "v = D.setdefault('job', 'Dev')\n",
    "print(D)\n",
    "# Prints {'job': 'Dev', 'age': 25, 'name': 'Bob'}\n",
    "print(v)\n",
    "# Prints Dev"
   ]
  },
  {
   "cell_type": "markdown",
   "metadata": {},
   "source": [
    "##### 3. Key Absent, Default Not Specified\n",
    "If key is not in the dictionary and default is not specified, the method inserts key with a value None and returns None."
   ]
  },
  {
   "cell_type": "code",
   "execution_count": null,
   "metadata": {},
   "outputs": [],
   "source": [
    "D = {'name': 'Bob', 'age': 25}\n",
    "v = D.setdefault('job')\n",
    "print(D)\n",
    "# Prints {'job': None, 'age': 25, 'name': 'Bob'}\n",
    "print(v)\n",
    "# Prints None"
   ]
  },
  {
   "cell_type": "markdown",
   "metadata": {},
   "source": [
    "# Use cases"
   ]
  },
  {
   "cell_type": "code",
   "execution_count": null,
   "metadata": {},
   "outputs": [],
   "source": []
  }
 ],
 "metadata": {
  "kernelspec": {
   "display_name": "Python 3.9.6 64-bit",
   "language": "python",
   "name": "python3"
  },
  "language_info": {
   "codemirror_mode": {
    "name": "ipython",
    "version": 3
   },
   "file_extension": ".py",
   "mimetype": "text/x-python",
   "name": "python",
   "nbconvert_exporter": "python",
   "pygments_lexer": "ipython3",
   "version": "3.9.6"
  },
  "orig_nbformat": 4,
  "vscode": {
   "interpreter": {
    "hash": "81794d4967e6c3204c66dcd87b604927b115b27c00565d3d43f05ba2f3a2cb0d"
   }
  }
 },
 "nbformat": 4,
 "nbformat_minor": 2
}
