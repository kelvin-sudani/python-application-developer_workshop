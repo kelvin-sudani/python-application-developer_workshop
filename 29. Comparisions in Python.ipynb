{
 "cells": [
  {
   "cell_type": "markdown",
   "metadata": {},
   "source": [
    "Read: \n",
    "- https://towardsdatascience.com/comparison-in-python-is-not-as-simple-as-you-may-think-a83eec69ab54\n",
    "- https://realpython.com/python-is-identity-vs-equality/\n",
    "\n",
    "Both “is” and “==” are used for object comparison in Python. The operator “==” compares values of two objects, while “is” checks if two objects are same (In other words two references to same object)."
   ]
  },
  {
   "cell_type": "code",
   "execution_count": null,
   "metadata": {},
   "outputs": [],
   "source": [
    "# Python program to demonstrate working of\n",
    "# \"==\"\n",
    "\n",
    "# Two different objects having same values\n",
    "x1 = [10, 20, 30]\n",
    "x2 = [10, 20, 30]\n",
    "\n",
    "# Comparison using \"==\" operator\n",
    "if x1 == x2:\n",
    "    print(\"Yes\")\n",
    "else:\n",
    "    print(\"No\")\n"
   ]
  },
  {
   "cell_type": "code",
   "execution_count": 1,
   "metadata": {},
   "outputs": [
    {
     "name": "stdout",
     "output_type": "stream",
     "text": [
      "No\n",
      "Yes\n",
      "Yes\n"
     ]
    }
   ],
   "source": [
    "# Python program to demonstrate working of\n",
    "# \"is\"\n",
    "\n",
    "# Two different objects having same values\n",
    "x1 = [10, 20, 30]\n",
    "x2 = [10, 20, 30]\n",
    "\n",
    "# We get \"No\" here\n",
    "if x1 is x2:\n",
    "    print(\"Yes\")\n",
    "else:\n",
    "    print(\"No\")\n",
    "\n",
    "# It creates another reference x3 to same list.\n",
    "x3 = x1\n",
    "\n",
    "# So we get \"Yes\" here\n",
    "if x1 is x3:\n",
    "    print(\"Yes\")\n",
    "else:\n",
    "    print(\"No\")\n",
    "\n",
    "# \"==\" would also produce yes anyway\n",
    "if x1 == x3:\n",
    "    print(\"Yes\")\n",
    "else:\n",
    "    print(\"No\")\n"
   ]
  }
 ],
 "metadata": {
  "kernelspec": {
   "display_name": "Python 3.9.6 64-bit",
   "language": "python",
   "name": "python3"
  },
  "language_info": {
   "codemirror_mode": {
    "name": "ipython",
    "version": 3
   },
   "file_extension": ".py",
   "mimetype": "text/x-python",
   "name": "python",
   "nbconvert_exporter": "python",
   "pygments_lexer": "ipython3",
   "version": "3.9.6"
  },
  "orig_nbformat": 4,
  "vscode": {
   "interpreter": {
    "hash": "81794d4967e6c3204c66dcd87b604927b115b27c00565d3d43f05ba2f3a2cb0d"
   }
  }
 },
 "nbformat": 4,
 "nbformat_minor": 2
}
