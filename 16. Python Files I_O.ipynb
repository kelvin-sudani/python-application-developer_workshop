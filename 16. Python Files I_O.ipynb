{
 "cells": [
  {
   "cell_type": "markdown",
   "metadata": {},
   "source": [
    "# Writing and Reading Binary Data"
   ]
  },
  {
   "cell_type": "markdown",
   "metadata": {},
   "source": [
    "Example of binary data:\n",
    "- Application data\n",
    "- Media Files\n",
    "  - audio\n",
    "  - video\n",
    "  - images"
   ]
  },
  {
   "cell_type": "code",
   "execution_count": 7,
   "metadata": {},
   "outputs": [],
   "source": [
    "binary_data = bytes(range(0, 256))\n",
    "b_file = open('bin_file', 'wb')\n",
    "b_file.write(binary_data)\n",
    "b_file.close()"
   ]
  },
  {
   "cell_type": "code",
   "execution_count": 8,
   "metadata": {},
   "outputs": [
    {
     "name": "stdout",
     "output_type": "stream",
     "text": [
      "b'\\x00\\x01\\x02\\x03\\x04\\x05\\x06\\x07\\x08\\t\\n\\x0b\\x0c\\r\\x0e\\x0f\\x10\\x11\\x12\\x13\\x14\\x15\\x16\\x17\\x18\\x19\\x1a\\x1b\\x1c\\x1d\\x1e\\x1f !\"#$%&\\'()*+,-./0123456789:;<=>?@ABCDEFGHIJKLMNOPQRSTUVWXYZ[\\\\]^_`abcdefghijklmnopqrstuvwxyz{|}~\\x7f\\x80\\x81\\x82\\x83\\x84\\x85\\x86\\x87\\x88\\x89\\x8a\\x8b\\x8c\\x8d\\x8e\\x8f\\x90\\x91\\x92\\x93\\x94\\x95\\x96\\x97\\x98\\x99\\x9a\\x9b\\x9c\\x9d\\x9e\\x9f\\xa0\\xa1\\xa2\\xa3\\xa4\\xa5\\xa6\\xa7\\xa8\\xa9\\xaa\\xab\\xac\\xad\\xae\\xaf\\xb0\\xb1\\xb2\\xb3\\xb4\\xb5\\xb6\\xb7\\xb8\\xb9\\xba\\xbb\\xbc\\xbd\\xbe\\xbf\\xc0\\xc1\\xc2\\xc3\\xc4\\xc5\\xc6\\xc7\\xc8\\xc9\\xca\\xcb\\xcc\\xcd\\xce\\xcf\\xd0\\xd1\\xd2\\xd3\\xd4\\xd5\\xd6\\xd7\\xd8\\xd9\\xda\\xdb\\xdc\\xdd\\xde\\xdf\\xe0\\xe1\\xe2\\xe3\\xe4\\xe5\\xe6\\xe7\\xe8\\xe9\\xea\\xeb\\xec\\xed\\xee\\xef\\xf0\\xf1\\xf2\\xf3\\xf4\\xf5\\xf6\\xf7\\xf8\\xf9\\xfa\\xfb\\xfc\\xfd\\xfe\\xff'\n"
     ]
    }
   ],
   "source": [
    "with open(\"bin_file\",\"rb\") as b_file:\n",
    "    print(b_file.read())"
   ]
  },
  {
   "cell_type": "code",
   "execution_count": 9,
   "metadata": {},
   "outputs": [],
   "source": [
    "with open(\"bin_file\",\"ab\") as b_file:\n",
    "    b_file.write(binary_data)"
   ]
  },
  {
   "cell_type": "code",
   "execution_count": 10,
   "metadata": {},
   "outputs": [
    {
     "name": "stdout",
     "output_type": "stream",
     "text": [
      "b'\\x00\\x01\\x02\\x03\\x04\\x05\\x06\\x07\\x08\\t\\n\\x0b\\x0c\\r\\x0e\\x0f\\x10\\x11\\x12\\x13\\x14\\x15\\x16\\x17\\x18\\x19\\x1a\\x1b\\x1c\\x1d\\x1e\\x1f !\"#$%&\\'()*+,-./0123456789:;<=>?@ABCDEFGHIJKLMNOPQRSTUVWXYZ[\\\\]^_`abcdefghijklmnopqrstuvwxyz{|}~\\x7f\\x80\\x81\\x82\\x83\\x84\\x85\\x86\\x87\\x88\\x89\\x8a\\x8b\\x8c\\x8d\\x8e\\x8f\\x90\\x91\\x92\\x93\\x94\\x95\\x96\\x97\\x98\\x99\\x9a\\x9b\\x9c\\x9d\\x9e\\x9f\\xa0\\xa1\\xa2\\xa3\\xa4\\xa5\\xa6\\xa7\\xa8\\xa9\\xaa\\xab\\xac\\xad\\xae\\xaf\\xb0\\xb1\\xb2\\xb3\\xb4\\xb5\\xb6\\xb7\\xb8\\xb9\\xba\\xbb\\xbc\\xbd\\xbe\\xbf\\xc0\\xc1\\xc2\\xc3\\xc4\\xc5\\xc6\\xc7\\xc8\\xc9\\xca\\xcb\\xcc\\xcd\\xce\\xcf\\xd0\\xd1\\xd2\\xd3\\xd4\\xd5\\xd6\\xd7\\xd8\\xd9\\xda\\xdb\\xdc\\xdd\\xde\\xdf\\xe0\\xe1\\xe2\\xe3\\xe4\\xe5\\xe6\\xe7\\xe8\\xe9\\xea\\xeb\\xec\\xed\\xee\\xef\\xf0\\xf1\\xf2\\xf3\\xf4\\xf5\\xf6\\xf7\\xf8\\xf9\\xfa\\xfb\\xfc\\xfd\\xfe\\xff\\x00\\x01\\x02\\x03\\x04\\x05\\x06\\x07\\x08\\t\\n\\x0b\\x0c\\r\\x0e\\x0f\\x10\\x11\\x12\\x13\\x14\\x15\\x16\\x17\\x18\\x19\\x1a\\x1b\\x1c\\x1d\\x1e\\x1f !\"#$%&\\'()*+,-./0123456789:;<=>?@ABCDEFGHIJKLMNOPQRSTUVWXYZ[\\\\]^_`abcdefghijklmnopqrstuvwxyz{|}~\\x7f\\x80\\x81\\x82\\x83\\x84\\x85\\x86\\x87\\x88\\x89\\x8a\\x8b\\x8c\\x8d\\x8e\\x8f\\x90\\x91\\x92\\x93\\x94\\x95\\x96\\x97\\x98\\x99\\x9a\\x9b\\x9c\\x9d\\x9e\\x9f\\xa0\\xa1\\xa2\\xa3\\xa4\\xa5\\xa6\\xa7\\xa8\\xa9\\xaa\\xab\\xac\\xad\\xae\\xaf\\xb0\\xb1\\xb2\\xb3\\xb4\\xb5\\xb6\\xb7\\xb8\\xb9\\xba\\xbb\\xbc\\xbd\\xbe\\xbf\\xc0\\xc1\\xc2\\xc3\\xc4\\xc5\\xc6\\xc7\\xc8\\xc9\\xca\\xcb\\xcc\\xcd\\xce\\xcf\\xd0\\xd1\\xd2\\xd3\\xd4\\xd5\\xd6\\xd7\\xd8\\xd9\\xda\\xdb\\xdc\\xdd\\xde\\xdf\\xe0\\xe1\\xe2\\xe3\\xe4\\xe5\\xe6\\xe7\\xe8\\xe9\\xea\\xeb\\xec\\xed\\xee\\xef\\xf0\\xf1\\xf2\\xf3\\xf4\\xf5\\xf6\\xf7\\xf8\\xf9\\xfa\\xfb\\xfc\\xfd\\xfe\\xff'\n"
     ]
    }
   ],
   "source": [
    "with open(\"bin_file\",\"rb\") as b_file:\n",
    "    print(b_file.read())"
   ]
  },
  {
   "cell_type": "markdown",
   "metadata": {},
   "source": [
    "# Writing and Parsing Text Files\n"
   ]
  },
  {
   "cell_type": "markdown",
   "metadata": {},
   "source": [
    "steps to follow:\n",
    "- open a file with correct mode\n",
    "- perform the operations you need to\n",
    "- close the file\n",
    "  "
   ]
  },
  {
   "cell_type": "markdown",
   "metadata": {},
   "source": [
    "#### open()\n",
    "```open()``` take two arguments:\n",
    "- file location : full path of the file in OS. Example: \"C:\\Users\\Documents\\myfiles\\dummy.txt\"\n",
    "- mode\n",
    "  - There are four modes available:\n",
    "    - \"r\" [Default Mode] - Read - Opens a file for reading, error if the file does not exist\n",
    "    - \"a\" - Append - Opens a file for appending, creates the file if it does not exist\n",
    "    - \"w\" - Write - Opens a file for writing, creates the file if it does not exist\n",
    "    - \"x\" - Create - Creates the specified file, returns an error if the file exists\n",
    "  - In addition you can specify if the file should be handled as binary or text mode\n",
    "    - \"t\" - Text - Default value. Text mode\n",
    "    - \"b\" - Binary - Binary mode (e.g. images)"
   ]
  },
  {
   "cell_type": "markdown",
   "metadata": {},
   "source": [
    "#### read()\n",
    "By default the ```read()``` method returns the whole text, but you can also specify how many characters you want to return."
   ]
  },
  {
   "cell_type": "code",
   "execution_count": 4,
   "metadata": {},
   "outputs": [
    {
     "name": "stdout",
     "output_type": "stream",
     "text": [
      "==> data1:  How Electric Guitars Work?\n",
      "source: https://entertainment.howstuffworks.com/electric-guitar.htm\n",
      "From a popular culture standpoint, the electric guitar is one of the most important inventions of the 20th century. More than any other instrumen\n",
      "\n",
      "\n",
      "==> data2:  t, it defines the tone and character of rock and roll music. But when the electric guitar first hit the scene in the 1930s, feÂ­w people saw its potential. It took quite a while for the instrument to find its place in American music.\n",
      "Despit\n",
      "\n",
      "\n",
      "==> first line:  e the slow start, the electric guitar did find its place. It has inspired and defined entirely new types of music. The electric guitar remains the most prominent instrument in rock music, and the most famous instrument ever to come out of the United States.\n",
      "\n",
      "\n",
      "\n",
      "==> second line:  In this article, you will learn exactly how the guitar itself works, and we will also discuss the system that the guitar and the amp create together. Working in combination, the guitar and the amp can produce an amazing variety of sounds.\n",
      "\n",
      "\n",
      "\n",
      "==> third line:  If you have ever compared an electric guitar to an acoustic guitar, you know that they have several important things in common. Both acoustic and electric guitars have six strings, they both tune those strings with tuning pegs and they both have frets on a long neck. Down at the body end is where the major differences are found.\n",
      "\n"
     ]
    }
   ],
   "source": [
    "dummy_file =  open(\"dummy.txt\") # default: read mode\n",
    "data1 = dummy_file.read(240) # read first 240 characters\n",
    "data2 = dummy_file.read(240) # read next 240 characters\n",
    "first_line = dummy_file.readline() # read first line starting from 481th character\n",
    "second_line = dummy_file.readline() # read the next line\n",
    "third_line = dummy_file.readline() # read the next line\n",
    "dummy_file.close()\n",
    "print(\"==> data1: \",data1)\n",
    "print(\"\\n\")\n",
    "print(\"==> data2: \",data2)\n",
    "print(\"\\n\")\n",
    "print(\"==> first line: \",first_line)\n",
    "print(\"\\n\")\n",
    "print(\"==> second line: \",second_line)\n",
    "print(\"\\n\")\n",
    "print(\"==> third line: \",third_line)"
   ]
  },
  {
   "cell_type": "code",
   "execution_count": 5,
   "metadata": {},
   "outputs": [
    {
     "name": "stdout",
     "output_type": "stream",
     "text": [
      "How Electric Guitars Work?\n",
      "source: https://entertainment.howstuffworks.com/electric-guitar.htm\n",
      "From a popular culture standpoint, the electric guitar is one of the most important inventions of the 20th century. More than any other instrument, it defines the tone and character of rock and roll music. But when the electric guitar first hit the scene in the 1930s, feÂ­w people saw its potential. It took quite a while for the instrument to find its place in American music.\n",
      "Despite the slow start, the electric guitar did find its place. It has inspired and defined entirely new types of music. The electric guitar remains the most prominent instrument in rock music, and the most famous instrument ever to come out of the United States.\n",
      "In this article, you will learn exactly how the guitar itself works, and we will also discuss the system that the guitar and the amp create together. Working in combination, the guitar and the amp can produce an amazing variety of sounds.\n",
      "If you have ever compared an electric guitar to an acoustic guitar, you know that they have several important things in common. Both acoustic and electric guitars have six strings, they both tune those strings with tuning pegs and they both have frets on a long neck. Down at the body end is where the major differences are found.\n",
      "Some electric guitars have a hollow or semi-hollow body with the resonating cavity found in an acoustic guitar, but the most popular electric guitars have solid bodies. The sound is produced by magnetic pickups and controlled by several knobs. If you pluck a string on an electric guitar that is not plugged in, the sound is barely audible. Without a soundboard and a hollow body, there is nothing to amplify the string's vibrations.\n"
     ]
    }
   ],
   "source": [
    "dummy_file_rt =  open(\"dummy.txt\",\"rt\") # r = read mode and t = text file\n",
    "data_rt = dummy_file_rt.read()\n",
    "dummy_file_rt.close()\n",
    "print(data_rt)"
   ]
  },
  {
   "cell_type": "markdown",
   "metadata": {},
   "source": [
    "If you don't want to close a file manually then use ```with``` keyword to open a file. Python will close the file for you."
   ]
  },
  {
   "cell_type": "code",
   "execution_count": 6,
   "metadata": {},
   "outputs": [
    {
     "name": "stdout",
     "output_type": "stream",
     "text": [
      "How Electric Guitars Work?\n",
      "source: https://entertainment.howstuffworks.com/electric-guitar.htm\n",
      "From a popular culture standpoint, the electric guitar is one of the most important inventions of the 20th century. More than any other instrument, it defines the tone and character of rock and roll music. But when the electric guitar first hit the scene in the 1930s, feÂ­w people saw its potential. It took quite a while for the instrument to find its place in American music.\n",
      "Despite the slow start, the electric guitar did find its place. It has inspired and defined entirely new types of music. The electric guitar remains the most prominent instrument in rock music, and the most famous instrument ever to come out of the United States.\n",
      "In this article, you will learn exactly how the guitar itself works, and we will also discuss the system that the guitar and the amp create together. Working in combination, the guitar and the amp can produce an amazing variety of sounds.\n",
      "If you have ever compared an electric guitar to an acoustic guitar, you know that they have several important things in common. Both acoustic and electric guitars have six strings, they both tune those strings with tuning pegs and they both have frets on a long neck. Down at the body end is where the major differences are found.\n",
      "Some electric guitars have a hollow or semi-hollow body with the resonating cavity found in an acoustic guitar, but the most popular electric guitars have solid bodies. The sound is produced by magnetic pickups and controlled by several knobs. If you pluck a string on an electric guitar that is not plugged in, the sound is barely audible. Without a soundboard and a hollow body, there is nothing to amplify the string's vibrations.\n"
     ]
    }
   ],
   "source": [
    "with open(\"dummy.txt\") as file:\n",
    "    txt = file.read()\n",
    "print(txt) # file will be closed at this point"
   ]
  },
  {
   "cell_type": "code",
   "execution_count": 7,
   "metadata": {},
   "outputs": [
    {
     "ename": "FileNotFoundError",
     "evalue": "[Errno 2] No such file or directory: 'dumy.txt'",
     "output_type": "error",
     "traceback": [
      "\u001b[1;31m---------------------------------------------------------------------------\u001b[0m",
      "\u001b[1;31mFileNotFoundError\u001b[0m                         Traceback (most recent call last)",
      "Cell \u001b[1;32mIn [7], line 1\u001b[0m\n\u001b[1;32m----> 1\u001b[0m \u001b[39mwith\u001b[39;00m \u001b[39mopen\u001b[39;49m(\u001b[39m\"\u001b[39;49m\u001b[39mdumy.txt\u001b[39;49m\u001b[39m\"\u001b[39;49m) \u001b[39mas\u001b[39;00m file:\n\u001b[0;32m      2\u001b[0m     txt \u001b[39m=\u001b[39m file\u001b[39m.\u001b[39mread()\n\u001b[0;32m      3\u001b[0m \u001b[39mprint\u001b[39m(txt)\n",
      "\u001b[1;31mFileNotFoundError\u001b[0m: [Errno 2] No such file or directory: 'dumy.txt'"
     ]
    }
   ],
   "source": [
    "with open(\"dumy.txt\") as file:\n",
    "    txt = file.read()\n",
    "print(txt)"
   ]
  },
  {
   "cell_type": "markdown",
   "metadata": {},
   "source": [
    "# Parsing Text Using Regular Expressions"
   ]
  },
  {
   "cell_type": "markdown",
   "metadata": {},
   "source": [
    "# Writing and Parsing XML Files\n",
    "Read this: https://realpython.com/python-xml-parser/\n",
    "\n",
    "https://www.youtube.com/watch?v=tlHNS-UTRIM"
   ]
  },
  {
   "cell_type": "markdown",
   "metadata": {},
   "source": [
    "- xml.sax => Simple API for XML\n",
    "    - you don't load full xml file in the memory\n",
    "    - cannot change the content of an xml file\n",
    "- xml.dom.minidom => Document object model\n",
    "    - loads the whole xml document\n",
    "- xml.etree.ElementTree => a lightweight, efficient, elegant, and feature-rich interface \n",
    "  - three different ways to parse XML suing ElementTree:\n",
    "    - non-incremental\n",
    "      - `parse()`\n",
    "      - `fromstring()`\n",
    "    - incremental (non-blocking)\n",
    "      - `XMLPullParser()`\n",
    "    - incremental (blocking)\n",
    "      - `iterparse()`\n",
    "  \n",
    "  <!-- TODO: Examples -->"
   ]
  },
  {
   "cell_type": "markdown",
   "metadata": {},
   "source": [
    "# DOM (Document Object Model)\n",
    "<!-- TODO: Examples -->\n"
   ]
  },
  {
   "cell_type": "markdown",
   "metadata": {},
   "source": [
    "# Element Trees \n",
    "<!-- TODO: Examples -->\n",
    "\n"
   ]
  },
  {
   "cell_type": "markdown",
   "metadata": {},
   "source": [
    "# Writing and Parsing JSON Files\n",
    "  <!-- TODO -->\n",
    "\n"
   ]
  },
  {
   "cell_type": "code",
   "execution_count": null,
   "metadata": {},
   "outputs": [],
   "source": []
  }
 ],
 "metadata": {
  "kernelspec": {
   "display_name": "Python 3.9.6 64-bit",
   "language": "python",
   "name": "python3"
  },
  "language_info": {
   "codemirror_mode": {
    "name": "ipython",
    "version": 3
   },
   "file_extension": ".py",
   "mimetype": "text/x-python",
   "name": "python",
   "nbconvert_exporter": "python",
   "pygments_lexer": "ipython3",
   "version": "3.9.6"
  },
  "orig_nbformat": 4,
  "vscode": {
   "interpreter": {
    "hash": "81794d4967e6c3204c66dcd87b604927b115b27c00565d3d43f05ba2f3a2cb0d"
   }
  }
 },
 "nbformat": 4,
 "nbformat_minor": 2
}
