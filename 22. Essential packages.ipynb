{
 "cells": [
  {
   "cell_type": "markdown",
   "metadata": {},
   "source": [
    "# os"
   ]
  },
  {
   "cell_type": "code",
   "execution_count": 3,
   "metadata": {},
   "outputs": [],
   "source": [
    "import os\n",
    "\n",
    "# os.path.join()\n",
    "# os.getcwd()\n",
    "# os.makedirs()\n",
    "# os.rmdir()\n",
    "# os.listdir()\n",
    "os.rename(\"test.py\",\"temp.py\")\n",
    "os.remove('oops.txt')\n",
    "os.path.exists('oops.txt')\n",
    "# os.path.isabs()\n",
    "# os.path.abspath()\n",
    "# os.path.relpath()\n",
    "# os.path.exists()\n",
    "# os.path.isfile()\n",
    "# os.path.isdir()\n",
    "# os.path.getsize()\n"
   ]
  },
  {
   "cell_type": "markdown",
   "metadata": {},
   "source": [
    "# sys\n",
    "\n"
   ]
  },
  {
   "cell_type": "code",
   "execution_count": 1,
   "metadata": {},
   "outputs": [
    {
     "name": "stdout",
     "output_type": "stream",
     "text": [
      "Your input: \n"
     ]
    },
    {
     "ename": "TypeError",
     "evalue": "'str' object cannot be interpreted as an integer",
     "output_type": "error",
     "traceback": [
      "\u001b[1;31m---------------------------------------------------------------------------\u001b[0m",
      "\u001b[1;31mTypeError\u001b[0m                                 Traceback (most recent call last)",
      "Cell \u001b[1;32mIn [1], line 3\u001b[0m\n\u001b[0;32m      1\u001b[0m \u001b[39mimport\u001b[39;00m \u001b[39msys\u001b[39;00m\n\u001b[0;32m      2\u001b[0m \u001b[39mprint\u001b[39m(\u001b[39m\"\u001b[39m\u001b[39mYour input: \u001b[39m\u001b[39m\"\u001b[39m)\n\u001b[1;32m----> 3\u001b[0m data \u001b[39m=\u001b[39m sys\u001b[39m.\u001b[39;49mstdin\u001b[39m.\u001b[39;49mreadline(\u001b[39m\"\u001b[39;49m\u001b[39mDefault Value\u001b[39;49m\u001b[39m\"\u001b[39;49m)\n\u001b[0;32m      4\u001b[0m sys\u001b[39m.\u001b[39mstdout\u001b[39m.\u001b[39mwrite(data \u001b[39m=\u001b[39m \u001b[39m\"\u001b[39m\u001b[39mDefault Value\u001b[39m\u001b[39m\"\u001b[39m)\n",
      "\u001b[1;31mTypeError\u001b[0m: 'str' object cannot be interpreted as an integer"
     ]
    }
   ],
   "source": [
    "import sys\n",
    "print(\"Your input: \")\n",
    "data = sys.stdin.readline(\"Default Value\")\n",
    "sys.stdout.write(data = \"Default Value\")\n"
   ]
  },
  {
   "cell_type": "code",
   "execution_count": 2,
   "metadata": {},
   "outputs": [
    {
     "name": "stdout",
     "output_type": "stream",
     "text": [
      "['C:\\\\Users\\\\ks\\\\AppData\\\\Roaming\\\\Python\\\\Python39\\\\site-packages\\\\ipykernel_launcher.py', '--ip=127.0.0.1', '--stdin=9038', '--control=9036', '--hb=9035', '--Session.signature_scheme=\"hmac-sha256\"', '--Session.key=b\"45873031-c786-4661-98cd-c61c51a24f4e\"', '--shell=9037', '--transport=\"tcp\"', '--iopub=9039', '--f=c:\\\\Users\\\\ks\\\\AppData\\\\Roaming\\\\jupyter\\\\runtime\\\\kernel-v2-10860UV5Nvwsd2Zaf.json']\n"
     ]
    }
   ],
   "source": [
    "import sys\n",
    "print(sys.argv)"
   ]
  },
  {
   "cell_type": "code",
   "execution_count": 3,
   "metadata": {},
   "outputs": [
    {
     "ename": "SystemExit",
     "evalue": "Age less than 18",
     "output_type": "error",
     "traceback": [
      "An exception has occurred, use %tb to see the full traceback.\n",
      "\u001b[1;31mSystemExit\u001b[0m\u001b[1;31m:\u001b[0m Age less than 18\n"
     ]
    },
    {
     "name": "stderr",
     "output_type": "stream",
     "text": [
      "C:\\Users\\ks\\AppData\\Roaming\\Python\\Python39\\site-packages\\IPython\\core\\interactiveshell.py:3386: UserWarning: To exit: use 'exit', 'quit', or Ctrl-D.\n",
      "  warn(\"To exit: use 'exit', 'quit', or Ctrl-D.\", stacklevel=1)\n"
     ]
    }
   ],
   "source": [
    "  \n",
    "  \n",
    "import sys \n",
    "age = 17\n",
    "if age < 18: \n",
    "    # exits the program \n",
    "    sys.exit(\"Age less than 18\") \n",
    "    print(\"Can't vote\")    \n",
    "else: \n",
    "    print(\"Age is not less than 18\") "
   ]
  },
  {
   "cell_type": "code",
   "execution_count": 4,
   "metadata": {},
   "outputs": [
    {
     "name": "stdout",
     "output_type": "stream",
     "text": [
      "3\n",
      "2\n",
      "3\n"
     ]
    }
   ],
   "source": [
    "import sys\n",
    "  \n",
    "a = [{\"first_name\": \"john\", \"last_name\": \"Doe\"}]\n",
    "b = [{\"first_name\": \"john\", \"last_name\": \"Doe\"}]\n",
    "c = a\n",
    "print(sys.getrefcount(a))\n",
    "print(sys.getrefcount(b))\n",
    "print(sys.getrefcount(c))"
   ]
  },
  {
   "cell_type": "markdown",
   "metadata": {},
   "source": [
    "# shutil\n",
    "- used for automating the process of copying and removal of files and directories\n"
   ]
  },
  {
   "cell_type": "code",
   "execution_count": 1,
   "metadata": {},
   "outputs": [
    {
     "data": {
      "text/plain": [
       "'data.txt'"
      ]
     },
     "execution_count": 1,
     "metadata": {},
     "output_type": "execute_result"
    }
   ],
   "source": [
    "import shutil\n",
    "shutil.copy('dummy.txt', 'data.txt')\n"
   ]
  },
  {
   "cell_type": "code",
   "execution_count": 2,
   "metadata": {},
   "outputs": [
    {
     "data": {
      "text/plain": [
       "'article.txt'"
      ]
     },
     "execution_count": 2,
     "metadata": {},
     "output_type": "execute_result"
    }
   ],
   "source": [
    "shutil.move('data.txt',\"article.txt\")\n"
   ]
  },
  {
   "cell_type": "markdown",
   "metadata": {},
   "source": [
    "# psutil\n",
    "used for system monitoring, profiling, limiting process resources, and the management of running processes.\n"
   ]
  },
  {
   "cell_type": "code",
   "execution_count": 9,
   "metadata": {},
   "outputs": [
    {
     "name": "stdout",
     "output_type": "stream",
     "text": [
      "scputimes(user=14884.343749999998, system=7003.28125, idle=134078.859375, interrupt=515.078125, dpc=333.4375)\n",
      "22.0\n",
      "12\n"
     ]
    }
   ],
   "source": [
    "\n",
    "import psutil\n",
    "print(psutil.cpu_times())\n",
    "print(psutil.cpu_percent(1))\n",
    "print(psutil.cpu_count())"
   ]
  },
  {
   "cell_type": "code",
   "execution_count": 10,
   "metadata": {},
   "outputs": [
    {
     "name": "stdout",
     "output_type": "stream",
     "text": [
      "svmem(total=17011662848, available=7957250048, percent=53.2, used=9054412800, free=7957250048)\n"
     ]
    }
   ],
   "source": [
    "print(psutil.virtual_memory())"
   ]
  },
  {
   "cell_type": "code",
   "execution_count": 11,
   "metadata": {},
   "outputs": [
    {
     "name": "stdout",
     "output_type": "stream",
     "text": [
      "snetio(bytes_sent=114551276, bytes_recv=461066835, packets_sent=453692, packets_recv=605691, errin=0, errout=0, dropin=0, dropout=0)\n"
     ]
    }
   ],
   "source": [
    "print(psutil.net_io_counters())"
   ]
  },
  {
   "cell_type": "code",
   "execution_count": 13,
   "metadata": {},
   "outputs": [
    {
     "name": "stdout",
     "output_type": "stream",
     "text": [
      "sbattery(percent=100, secsleft=<BatteryTime.POWER_TIME_UNLIMITED: -2>, power_plugged=True)\n"
     ]
    }
   ],
   "source": [
    "print(psutil.sensors_battery())"
   ]
  },
  {
   "cell_type": "markdown",
   "metadata": {},
   "source": [
    "# subprocess\n",
    "\n"
   ]
  }
 ],
 "metadata": {
  "kernelspec": {
   "display_name": "Python 3.9.6 64-bit",
   "language": "python",
   "name": "python3"
  },
  "language_info": {
   "codemirror_mode": {
    "name": "ipython",
    "version": 3
   },
   "file_extension": ".py",
   "mimetype": "text/x-python",
   "name": "python",
   "nbconvert_exporter": "python",
   "pygments_lexer": "ipython3",
   "version": "3.9.6"
  },
  "orig_nbformat": 4,
  "vscode": {
   "interpreter": {
    "hash": "81794d4967e6c3204c66dcd87b604927b115b27c00565d3d43f05ba2f3a2cb0d"
   }
  }
 },
 "nbformat": 4,
 "nbformat_minor": 2
}
