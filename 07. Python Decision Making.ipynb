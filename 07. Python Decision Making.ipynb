{
 "cells": [
  {
   "cell_type": "markdown",
   "metadata": {},
   "source": [
    "# IF statements\n",
    "Python relies on indentation (whitespace at the beginning of a line) to define scope in the code. Other programming languages often use curly-brackets for this purpose."
   ]
  },
  {
   "cell_type": "code",
   "execution_count": 1,
   "metadata": {},
   "outputs": [
    {
     "name": "stdout",
     "output_type": "stream",
     "text": [
      "b is greater than a\n"
     ]
    }
   ],
   "source": [
    "a = 33\n",
    "b = 200\n",
    "if b > a:\n",
    "  print(\"b is greater than a\")"
   ]
  },
  {
   "cell_type": "markdown",
   "metadata": {},
   "source": [
    "# IF...ELIF...ELSE Statements\n",
    "\n",
    "```if``` => if given condition is true then execute the code inside if block.\n",
    "\n",
    "```elif``` => if the previous conditions were not true, then try this condition.\n",
    "\n",
    "```else``` => catches anything which isn't caught by the preceding conditions."
   ]
  },
  {
   "cell_type": "code",
   "execution_count": 12,
   "metadata": {},
   "outputs": [
    {
     "name": "stdout",
     "output_type": "stream",
     "text": [
      "x is something else\n"
     ]
    }
   ],
   "source": [
    "import math\n",
    "# x = 10\n",
    "# x = 0\n",
    "# x = -10\n",
    "x = math.nan\n",
    "if x < 0:\n",
    "  print('x is negative')\n",
    "elif x > 0:\n",
    "  print('x is positive')\n",
    "elif x == 0:\n",
    "  print('x is zero')\n",
    "else:\n",
    "  print('x is something else')"
   ]
  },
  {
   "cell_type": "markdown",
   "metadata": {},
   "source": [
    "# Nested IF statements"
   ]
  },
  {
   "cell_type": "code",
   "execution_count": 13,
   "metadata": {},
   "outputs": [
    {
     "name": "stdout",
     "output_type": "stream",
     "text": [
      "x is positive\n",
      "and below 100.\n"
     ]
    }
   ],
   "source": [
    "x = 41\n",
    "\n",
    "if x > 0:\n",
    "  print(\"x is positive\")\n",
    "  if x > 100:\n",
    "    print(\"and above 100.\")\n",
    "  else:\n",
    "    print(\"and below 100.\")"
   ]
  }
 ],
 "metadata": {
  "kernelspec": {
   "display_name": "Python 3.9.6 64-bit",
   "language": "python",
   "name": "python3"
  },
  "language_info": {
   "codemirror_mode": {
    "name": "ipython",
    "version": 3
   },
   "file_extension": ".py",
   "mimetype": "text/x-python",
   "name": "python",
   "nbconvert_exporter": "python",
   "pygments_lexer": "ipython3",
   "version": "3.9.6"
  },
  "orig_nbformat": 4,
  "vscode": {
   "interpreter": {
    "hash": "81794d4967e6c3204c66dcd87b604927b115b27c00565d3d43f05ba2f3a2cb0d"
   }
  }
 },
 "nbformat": 4,
 "nbformat_minor": 2
}
