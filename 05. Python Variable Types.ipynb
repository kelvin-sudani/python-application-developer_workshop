{
 "cells": [
  {
   "cell_type": "markdown",
   "metadata": {},
   "source": [
    "# Assigning Values to Variables"
   ]
  },
  {
   "cell_type": "code",
   "execution_count": null,
   "metadata": {},
   "outputs": [],
   "source": [
    "n = 10\n",
    "print(n)\n",
    "s = \"abcdef\"\n",
    "print(s)"
   ]
  },
  {
   "cell_type": "code",
   "execution_count": null,
   "metadata": {},
   "outputs": [],
   "source": [
    "## variable name \"n\" is not same as \"N\"\n",
    "n = 10\n",
    "N = 2000\n",
    "print(n)\n",
    "print(N)"
   ]
  },
  {
   "cell_type": "code",
   "execution_count": null,
   "metadata": {},
   "outputs": [],
   "source": [
    "## variable values will be assigned after evaluation\n",
    "n = 100/3\n",
    "print(n)\n",
    "n = -0\n",
    "print(n)\n",
    "n = 3/0\n",
    "print(n)"
   ]
  },
  {
   "cell_type": "code",
   "execution_count": null,
   "metadata": {},
   "outputs": [],
   "source": [
    "## Access variable that does not exist\n",
    "print(2*k)"
   ]
  },
  {
   "cell_type": "code",
   "execution_count": null,
   "metadata": {},
   "outputs": [],
   "source": [
    "## multiple variables example\n",
    "a = 20\n",
    "b = 30\n",
    "sum =  a + b\n",
    "print(sum)\n",
    "a = 20\n",
    "b = 30\n",
    "diff =  a - b\n",
    "print(diff)\n",
    "a = 2\n",
    "b = 3\n",
    "print((a+b)**2)\n",
    "print(a**2 + 2*a*b + b**2)"
   ]
  },
  {
   "cell_type": "markdown",
   "metadata": {},
   "source": [
    "# Multiple Assignment"
   ]
  },
  {
   "cell_type": "code",
   "execution_count": null,
   "metadata": {},
   "outputs": [],
   "source": [
    "a = b = c = 0\n",
    "print(a)\n",
    "print(b)\n",
    "print(c)"
   ]
  },
  {
   "cell_type": "code",
   "execution_count": null,
   "metadata": {},
   "outputs": [],
   "source": [
    "a,b,c = 10,20,30\n",
    "print(a)\n",
    "print(b)\n",
    "print(c)\n",
    "\n",
    "a,b,c = [1,2,3]\n",
    "print(a)\n",
    "print(b)\n",
    "print(c)"
   ]
  },
  {
   "cell_type": "code",
   "execution_count": null,
   "metadata": {},
   "outputs": [],
   "source": [
    "# variable swap\n",
    "a = 10\n",
    "b = 20\n",
    "print(\"Before:\")\n",
    "print(\"a:{a}\".format(a = a))\n",
    "print(\"b:{b}\".format(b = b))\n",
    "\n",
    "a,b = b,a\n",
    "print(\"After:\")\n",
    "print(\"a:{a}\".format(a = a))\n",
    "print(\"b:{b}\".format(b = b))"
   ]
  },
  {
   "cell_type": "markdown",
   "metadata": {},
   "source": [
    "# Standard Data Types"
   ]
  },
  {
   "cell_type": "markdown",
   "metadata": {},
   "source": [
    "## Primitive Data Types\n",
    "- Integers\n",
    "- Float\n",
    "- Strings\n",
    "- Boolean"
   ]
  },
  {
   "cell_type": "code",
   "execution_count": 4,
   "metadata": {},
   "outputs": [
    {
     "name": "stdout",
     "output_type": "stream",
     "text": [
      "<class 'int'>\n",
      "<class 'int'>\n",
      "<class 'int'>\n",
      "<class 'int'>\n",
      "<class 'int'>\n",
      "Binary:  <class 'int'>\n",
      "Ocatal:  <class 'int'>\n",
      "Hexadecimal:  <class 'int'>\n"
     ]
    }
   ],
   "source": [
    "## integers\n",
    "print(type(-1))\n",
    "print(type(0))\n",
    "print(type(1))\n",
    "print(type(1_000_000))\n",
    "print(type(10000000000000000000000000000000))\n",
    "\n",
    "## Binary\n",
    "print(\"Binary: \",type(0b010101))\n",
    "## Octal\n",
    "print(\"Ocatal: \",type(0o27))\n",
    "## Hexadecimal\n",
    "print(\"Hexadecimal: \",type(0xDA5))\n",
    "\n",
    "\n"
   ]
  },
  {
   "cell_type": "code",
   "execution_count": 35,
   "metadata": {},
   "outputs": [
    {
     "name": "stdout",
     "output_type": "stream",
     "text": [
      "<class 'float'>\n",
      "<class 'float'>\n",
      "<class 'float'>\n",
      "<class 'float'>\n",
      "<class 'float'>\n",
      "<class 'float'>\n",
      "<class 'float'>\n",
      "<class 'float'>\n",
      "<class 'float'>\n",
      "<class 'float'>\n",
      "15\n",
      "1e-15\n",
      "1e-15\n",
      "inf\n",
      "-inf\n",
      "<class 'float'>\n",
      "<class 'float'>\n",
      "False\n",
      "False\n",
      "True\n"
     ]
    }
   ],
   "source": [
    "# floats\n",
    "print(type(1.0))\n",
    "print(type(0.0))\n",
    "print(type(-0.0))\n",
    "print(type(-1.0))\n",
    "print(type(.0))\n",
    "print(type(0.))\n",
    "print(type(1.))\n",
    "print(type(1e0))\n",
    "print(type(1.e0))\n",
    "print(type(1.0e0))\n",
    "\n",
    "##  typically 53 bits of precision on modern platforms.\n",
    "## exact values for the given platform can be found using sys.float_info:\n",
    "import sys\n",
    "print(sys.float_info.dig)\n",
    "print(0.000000000000001)\n",
    "print(0.000000000000001)\n",
    "## inf stands for infinity, and it just means that the number you’ve tried to create is beyond the maximum floating-point value allowed on your computer.\n",
    "print(2e400)\n",
    "print(-2e400)\n",
    "print(type(2e400))\n",
    "print(type(-2e400))\n",
    "\n",
    "\n",
    "print( 0.1 + 0.2 == 0.3)\n",
    "print( 0.1 + 0.2 <= 0.3)\n",
    "print(round(.1 + .1 + .1, 10) == round(.3, 10))\n",
    "\n",
    "## read more here:\n",
    "## https://davidamos.dev/the-right-way-to-compare-floats-in-python/\n"
   ]
  },
  {
   "cell_type": "code",
   "execution_count": 34,
   "metadata": {},
   "outputs": [
    {
     "name": "stdout",
     "output_type": "stream",
     "text": [
      "<class 'str'>\n",
      "<class 'str'>\n",
      "<class 'str'>\n",
      "<class 'str'>\n",
      "<class 'str'>\n"
     ]
    }
   ],
   "source": [
    "## strings\n",
    "print(type('abcdef'))\n",
    "print(type(\"abcdef\"))\n",
    "print(type(\"1234\"))\n",
    "print(type(\"-1234\"))\n",
    "print(type(\"\"))"
   ]
  },
  {
   "cell_type": "code",
   "execution_count": 40,
   "metadata": {},
   "outputs": [
    {
     "name": "stdout",
     "output_type": "stream",
     "text": [
      "<class 'bool'>\n",
      "<class 'bool'>\n",
      "<class 'NoneType'>\n"
     ]
    }
   ],
   "source": [
    "## boolean\n",
    "print(type(True))\n",
    "print(type(False))"
   ]
  },
  {
   "cell_type": "markdown",
   "metadata": {},
   "source": [
    "## Non-Primitive Data Types\n",
    "- Lists\n",
    "- Tuples\n",
    "- Dictionary\n",
    "- Sets\n"
   ]
  },
  {
   "cell_type": "code",
   "execution_count": 45,
   "metadata": {},
   "outputs": [
    {
     "name": "stdout",
     "output_type": "stream",
     "text": [
      "<class 'list'>\n",
      "<class 'tuple'>\n",
      "<class 'dict'>\n",
      "<class 'set'>\n"
     ]
    }
   ],
   "source": [
    "#List: ordered and changeable. Allows duplicate members.\n",
    "print(type([1,2,\"a\",True]))\n",
    "\n",
    "\n",
    "#Tuple: ordered, unchangeable, and allow duplicate values.\n",
    "print(type((\"abc\", 34, True, 40, \"male\")))\n",
    "\n",
    "#Dictionary: which is ordered** (Python 3.6 and earlier, dictionaries are unordered) and changeable. No duplicate members.\n",
    "print(type({\n",
    "  \"brand\": \"Ford\",\n",
    "  \"model\": \"Mustang\",\n",
    "  \"year\": 2022,\n",
    "  \"isOut\": True\n",
    "}))\n",
    "\n",
    "#Set: unordered, unchangeable* (you can remove and/or add items ), and unindexed. No duplicate members.\n",
    "print(type({\"a\",\"b\",1,2,True}))\n"
   ]
  },
  {
   "cell_type": "markdown",
   "metadata": {},
   "source": [
    "# Data Type Conversion"
   ]
  },
  {
   "cell_type": "markdown",
   "metadata": {},
   "source": [
    "## Implicit Type Conversion"
   ]
  },
  {
   "cell_type": "code",
   "execution_count": null,
   "metadata": {},
   "outputs": [],
   "source": [
    "## int to float\n",
    "a_int = 123\n",
    "b_float = 1.23\n",
    "\n",
    "result = a_int + b_float\n",
    "\n",
    "print(\"datatype of a_int:\",type(a_int))\n",
    "print(\"datatype of b_float:\",type(b_float))\n",
    "\n",
    "print(\"Value of result:\",result)\n",
    "print(\"datatype of result:\",type(result))"
   ]
  },
  {
   "cell_type": "code",
   "execution_count": null,
   "metadata": {},
   "outputs": [],
   "source": [
    "\"abc\"+123 ## won't work"
   ]
  },
  {
   "cell_type": "code",
   "execution_count": null,
   "metadata": {},
   "outputs": [],
   "source": [
    "print(1+True)\n",
    "print(1+False)\n",
    "print(10.0+True)\n",
    "print(10.0+False)\n"
   ]
  },
  {
   "cell_type": "code",
   "execution_count": null,
   "metadata": {},
   "outputs": [],
   "source": [
    "print(\"10\"+10)"
   ]
  },
  {
   "cell_type": "code",
   "execution_count": null,
   "metadata": {},
   "outputs": [],
   "source": [
    "print(\"10\"+10.0)"
   ]
  },
  {
   "cell_type": "code",
   "execution_count": null,
   "metadata": {},
   "outputs": [],
   "source": [
    "print(\"10\"+True)"
   ]
  },
  {
   "cell_type": "code",
   "execution_count": null,
   "metadata": {},
   "outputs": [],
   "source": [
    "print(\"10\"+False)"
   ]
  },
  {
   "cell_type": "markdown",
   "metadata": {},
   "source": [
    "## Explicit Type Conversion"
   ]
  },
  {
   "cell_type": "markdown",
   "metadata": {},
   "source": [
    "### Convert to string"
   ]
  },
  {
   "cell_type": "code",
   "execution_count": null,
   "metadata": {},
   "outputs": [],
   "source": [
    "\"abc\" + str(1234)"
   ]
  },
  {
   "cell_type": "markdown",
   "metadata": {},
   "source": [
    "### Convert to int"
   ]
  },
  {
   "cell_type": "code",
   "execution_count": null,
   "metadata": {},
   "outputs": [],
   "source": [
    "int(\"120\")+120"
   ]
  },
  {
   "cell_type": "code",
   "execution_count": 44,
   "metadata": {},
   "outputs": [
    {
     "name": "stdout",
     "output_type": "stream",
     "text": [
      "6\n",
      "35\n",
      "0\n",
      "1\n",
      "100\n",
      "100\n"
     ]
    },
    {
     "ename": "ValueError",
     "evalue": "invalid literal for int() with base 10: '00100.002'",
     "output_type": "error",
     "traceback": [
      "\u001b[1;31m---------------------------------------------------------------------------\u001b[0m",
      "\u001b[1;31mValueError\u001b[0m                                Traceback (most recent call last)",
      "Cell \u001b[1;32mIn [44], line 7\u001b[0m\n\u001b[0;32m      5\u001b[0m \u001b[39mprint\u001b[39m(\u001b[39mint\u001b[39m(\u001b[39m\"\u001b[39m\u001b[39m100\u001b[39m\u001b[39m\"\u001b[39m))\n\u001b[0;32m      6\u001b[0m \u001b[39mprint\u001b[39m(\u001b[39mint\u001b[39m(\u001b[39m\"\u001b[39m\u001b[39m00100\u001b[39m\u001b[39m\"\u001b[39m))\n\u001b[1;32m----> 7\u001b[0m \u001b[39mprint\u001b[39m(\u001b[39mint\u001b[39;49m(\u001b[39m\"\u001b[39;49m\u001b[39m00100.002\u001b[39;49m\u001b[39m\"\u001b[39;49m))\n",
      "\u001b[1;31mValueError\u001b[0m: invalid literal for int() with base 10: '00100.002'"
     ]
    }
   ],
   "source": [
    "print(int(10/3)+3)\n",
    "print(int(0x0023))\n",
    "print(int(False))\n",
    "print(int(True))\n",
    "print(int(\"100\"))\n",
    "print(int(\"00100\"))\n",
    "print(int(\"00100.002\"))\n"
   ]
  },
  {
   "cell_type": "markdown",
   "metadata": {},
   "source": [
    "### Convert to float"
   ]
  },
  {
   "cell_type": "code",
   "execution_count": null,
   "metadata": {},
   "outputs": [],
   "source": [
    "float(\"3.333\") + 10"
   ]
  },
  {
   "cell_type": "code",
   "execution_count": null,
   "metadata": {},
   "outputs": [],
   "source": [
    "print(float(10/2))\n",
    "print(float(20))\n",
    "print(float(0x0023))\n",
    "print(float(\"abc\"))\n",
    "print(float(None))\n",
    "print(float(\"10/2\"))"
   ]
  },
  {
   "cell_type": "markdown",
   "metadata": {},
   "source": [
    "### Convert to boolean"
   ]
  },
  {
   "cell_type": "code",
   "execution_count": 50,
   "metadata": {},
   "outputs": [
    {
     "name": "stdout",
     "output_type": "stream",
     "text": [
      "False\n",
      "True\n",
      "True\n",
      "None:  False\n",
      "[]:  False\n",
      "\"\":  False\n",
      "True\n",
      "True\n",
      "True\n"
     ]
    }
   ],
   "source": [
    "print(bool(0))\n",
    "print(bool(10))\n",
    "print(bool(-1))\n",
    "print(\"None: \",bool(None))\n",
    "print(\"[]: \",bool([]))\n",
    "print('\"\": ',bool(\"\"))\n",
    "print(bool(\"0\"))\n",
    "print(bool(\"1\"))\n",
    "print(bool(\"100\"))"
   ]
  },
  {
   "cell_type": "markdown",
   "metadata": {},
   "source": [
    "### Convert to Binary, Octal, Hexadecimal"
   ]
  },
  {
   "cell_type": "code",
   "execution_count": 53,
   "metadata": {},
   "outputs": [
    {
     "name": "stdout",
     "output_type": "stream",
     "text": [
      "0b10\n",
      "0b10100\n",
      "0b11001000\n"
     ]
    }
   ],
   "source": [
    "print(bin(2))\n",
    "print(bin(20))\n",
    "print(bin(200))"
   ]
  },
  {
   "cell_type": "code",
   "execution_count": 54,
   "metadata": {},
   "outputs": [
    {
     "name": "stdout",
     "output_type": "stream",
     "text": [
      "0o2\n",
      "0o24\n",
      "0o310\n"
     ]
    }
   ],
   "source": [
    "print(oct(2))\n",
    "print(oct(20))\n",
    "print(oct(200))"
   ]
  },
  {
   "cell_type": "code",
   "execution_count": 55,
   "metadata": {},
   "outputs": [
    {
     "name": "stdout",
     "output_type": "stream",
     "text": [
      "0x2\n",
      "0x14\n",
      "0xc8\n"
     ]
    }
   ],
   "source": [
    "print(hex(2))\n",
    "print(hex(20))\n",
    "print(hex(200))"
   ]
  }
 ],
 "metadata": {
  "kernelspec": {
   "display_name": "Python 3.9.6 64-bit",
   "language": "python",
   "name": "python3"
  },
  "language_info": {
   "codemirror_mode": {
    "name": "ipython",
    "version": 3
   },
   "file_extension": ".py",
   "mimetype": "text/x-python",
   "name": "python",
   "nbconvert_exporter": "python",
   "pygments_lexer": "ipython3",
   "version": "3.9.6"
  },
  "orig_nbformat": 4,
  "vscode": {
   "interpreter": {
    "hash": "81794d4967e6c3204c66dcd87b604927b115b27c00565d3d43f05ba2f3a2cb0d"
   }
  }
 },
 "nbformat": 4,
 "nbformat_minor": 2
}
