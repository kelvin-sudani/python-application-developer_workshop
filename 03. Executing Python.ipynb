{
 "cells": [
  {
   "cell_type": "markdown",
   "metadata": {},
   "source": [
    "# Interactive Mode\n",
    "in this mode, each command you type is interpreted and executed immediately, and you see the results each time you press ENTER. The interactive mode is the default mode if you don't pass a filename to the interpreter."
   ]
  },
  {
   "cell_type": "markdown",
   "metadata": {},
   "source": [
    "# Scripting Mode\n",
    "in script mode, you put a set of Python statements into a text file with a .py extension. You then run the python interpreter and point it at the file. The program is executed line by line, and the output is displayed. There is no compilation step"
   ]
  },
  {
   "cell_type": "markdown",
   "metadata": {},
   "source": [
    "# Integrated Development Environment\n",
    "- Microsoft VSCode\n",
    "- JetBrains PyCharm\n",
    "- Spyder\n"
   ]
  },
  {
   "cell_type": "code",
   "execution_count": null,
   "metadata": {},
   "outputs": [],
   "source": []
  }
 ],
 "metadata": {
  "kernelspec": {
   "display_name": "Python 3.9.6 64-bit",
   "language": "python",
   "name": "python3"
  },
  "language_info": {
   "name": "python",
   "version": "3.9.6"
  },
  "orig_nbformat": 4,
  "vscode": {
   "interpreter": {
    "hash": "81794d4967e6c3204c66dcd87b604927b115b27c00565d3d43f05ba2f3a2cb0d"
   }
  }
 },
 "nbformat": 4,
 "nbformat_minor": 2
}
