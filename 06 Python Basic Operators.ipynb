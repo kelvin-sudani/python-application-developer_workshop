{
 "cells": [
  {
   "cell_type": "markdown",
   "metadata": {},
   "source": [
    "# Operators in Python:\n",
    "\n",
    "<!-- TODO : Add Examples-->\n"
   ]
  },
  {
   "cell_type": "markdown",
   "metadata": {},
   "source": [
    "# Arithmetic Operators:\n",
    "\n",
    "used with numeric values to perform common mathematical operations\n",
    "\n",
    "| Operator | Type           | Expression |\n",
    "| -------- | -------------- | ---------- |\n",
    "| +        | Addition       | x + y      |\n",
    "| -        | Subtraction    | x - y      |\n",
    "| \\_       | Multiplication | x \\_ y     |\n",
    "| /        | Division       | x / y      |\n",
    "| %        | Modulus        | x % y      |\n",
    "| \\*\\*     | Exponentiation | x \\*\\* y   |\n",
    "| //       | Floor division | x // y     |\n"
   ]
  },
  {
   "cell_type": "markdown",
   "metadata": {},
   "source": [
    "# Comparison Operators:\n",
    "\n",
    "used to compare two values\n",
    "\n",
    "| Operator | Name                     | Example |\n",
    "| -------- | ------------------------ | ------- |\n",
    "| ==       | Equal                    | x == y  |\n",
    "| !=       | Not equal                | x != y  |\n",
    "| >        | Greater than             | x > y   |\n",
    "| <        | Less than                | x < y   |\n",
    "| >=       | Greater than or equal to | x >= y  |\n",
    "| <=       | Less than or equal to    | x <= y  |\n"
   ]
  },
  {
   "cell_type": "markdown",
   "metadata": {},
   "source": [
    "# Assignment Operators:\n",
    "\n",
    "used to assign values to variables\n",
    "\n",
    "| Operator | Example   | Same As      |\n",
    "| -------- | --------- | ------------ |\n",
    "| =        | x = 5     | x = 5        |\n",
    "| +=       | x += 3    | x = x + 3    |\n",
    "| -=       | x -= 3    | x = x - 3    |\n",
    "| \\*=      | x \\*= 3   | x = x \\* 3   |\n",
    "| /=       | x /= 3    | x = x / 3    |\n",
    "| %=       | x %= 3    | x = x % 3    |\n",
    "| //=      | x //= 3   | x = x // 3   |\n",
    "| \\*\\*=    | x \\*\\*= 3 | x = x \\*\\* 3 |\n",
    "| &=       | x &= 3    | x = x & 3    |\n",
    "| \\|=      | x \\|= 3   | x = x \\| 3   |\n",
    "| ^=       | x ^= 3    | x = x ^ 3    |\n",
    "| >>=      | x >>= 3   | x = x >> 3   |\n",
    "| <<=      | x <<= 3   | x = x << 3   |\n"
   ]
  },
  {
   "cell_type": "markdown",
   "metadata": {},
   "source": [
    "# Bitwise Operators:\n",
    "\n",
    "are used to compare (binary) numbers\n",
    "|Operator |Type | Description|\n",
    "--- | --- | ---|\n",
    "| & | AND | Sets each bit to 1 if both bits are 1|\n",
    "| \\| | OR | Sets each bit to 1 if one of two bits is 1|\n",
    "| ^ | XOR | Sets each bit to 1 if only one of two bits is 1|\n",
    "| ~ | NOT | Inverts all the bits|\n",
    "| << | Zero fill left shift | Shift left by pushing zeros in from the right and let the leftmost bits fall off|\n",
    "| >> | Signed right shift | Shift right by pushing copies of the leftmost bit in from the left, and let the rightmost bits fall off|\n"
   ]
  },
  {
   "cell_type": "markdown",
   "metadata": {},
   "source": [
    "# Logical Operators:\n",
    "\n",
    "used to combine conditional statements\n",
    "\n",
    "| Operator | Type                                                    | Example               |\n",
    "| -------- | ------------------------------------------------------- | --------------------- |\n",
    "| and      | Returns True if both statements are true                | x < 5 and x < 10      |\n",
    "| or       | Returns True if one of the statements is true           | x < 5 or x < 4        |\n",
    "| not      | Reverse the result, returns False if the result is true | not(x < 5 and x < 10) |\n"
   ]
  },
  {
   "cell_type": "markdown",
   "metadata": {},
   "source": [
    "# Membership Operators:\n",
    "\n",
    "used to test if a sequence is presented in an object\n",
    "| Operator | Description | Example|\n",
    "--- | --- | ---|\n",
    "| in | Returns True if a sequence with the specified value is present in the object | x in y |\n",
    "| not in | Returns True if a sequence with the specified value is not present in the object | x not in y|\n"
   ]
  },
  {
   "cell_type": "markdown",
   "metadata": {},
   "source": [
    "# Identity Operators:\n",
    "\n",
    "used to compare the objects, not if they are equal, but if they are actually the same object, with the same memory location\n",
    "|Operator |Description | Example|\n",
    "--- | --- | ---|\n",
    "|is |Returns True if both variables are the same object |x is y|\n",
    "|is not |Returns True if both variables are not the same object |x is not y|\n"
   ]
  },
  {
   "cell_type": "markdown",
   "metadata": {},
   "source": [
    "# Operators Precedence\n",
    "\n",
    "It is in descending order and from left to right\n",
    "\n",
    "|Operators\t|Meaning|\n",
    " --- | ---|\n",
    "|()\t|Parentheses|\n",
    "|**\t|Exponent|\n",
    "|+x, -x, ~x\t|Unary plus, Unary minus, Bitwise NOT|\n",
    "|*, /, //, %\t|Multiplication, Division, Floor division, Modulus|\n",
    "|+, -\t|Addition, Subtraction|\n",
    "|<<, >>\t|Bitwise shift operators|\n",
    "|&\t|Bitwise AND|\n",
    "|^\t|Bitwise XOR|\n",
    "|\\|\t|Bitwise OR|\n",
    "|==, !=, >, >=, <, <=, |is, is not, in, not in\tComparisons, Identity, Membership operators|\n",
    "|not\t|Logical NOT|\n",
    "|and\t|Logical AND|\n",
    "|or\t|Logical OR|"
   ]
  }
 ],
 "metadata": {
  "kernelspec": {
   "display_name": "Python 3.9.6 64-bit",
   "language": "python",
   "name": "python3"
  },
  "language_info": {
   "name": "python",
   "version": "3.9.6"
  },
  "orig_nbformat": 4,
  "vscode": {
   "interpreter": {
    "hash": "81794d4967e6c3204c66dcd87b604927b115b27c00565d3d43f05ba2f3a2cb0d"
   }
  }
 },
 "nbformat": 4,
 "nbformat_minor": 2
}
