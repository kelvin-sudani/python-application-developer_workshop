{
 "cells": [
  {
   "cell_type": "markdown",
   "metadata": {},
   "source": [
    "# Operators in Python:\n"
   ]
  },
  {
   "cell_type": "markdown",
   "metadata": {},
   "source": [
    "# Arithmetic Operators:\n",
    "\n",
    "used with numeric values to perform common mathematical operations\n",
    "\n",
    "| Operator | Type           | Expression |\n",
    "| -------- | -------------- | ---------- |\n",
    "| +        | Addition       | x + y      |\n",
    "| -        | Subtraction    | x - y      |\n",
    "| *        | Multiplication | x * y      |\n",
    "| /        | Division       | x / y      |\n",
    "| %        | Modulus        | x % y      |\n",
    "| \\*\\*     | Exponentiation | x \\*\\* y   |\n",
    "| //       | Floor division | x // y     |\n"
   ]
  },
  {
   "cell_type": "code",
   "execution_count": 3,
   "metadata": {},
   "outputs": [
    {
     "name": "stdout",
     "output_type": "stream",
     "text": [
      "13\n",
      "7\n",
      "103\n",
      "30\n",
      "3.3333333333333335\n",
      "3\n",
      "1\n",
      "1000\n"
     ]
    }
   ],
   "source": [
    "print(10+3)\n",
    "print(10-3)\n",
    "print(10_3)\n",
    "print(10*3)\n",
    "print(10/3)\n",
    "print(10//3)\n",
    "print(10%3)\n",
    "print(10**3)\n"
   ]
  },
  {
   "cell_type": "markdown",
   "metadata": {},
   "source": [
    "# Comparison Operators:\n",
    "\n",
    "used to compare two values\n",
    "\n",
    "| Operator | Name                     | Example |\n",
    "| -------- | ------------------------ | ------- |\n",
    "| ==       | Equal                    | x == y  |\n",
    "| !=       | Not equal                | x != y  |\n",
    "| >        | Greater than             | x > y   |\n",
    "| <        | Less than                | x < y   |\n",
    "| >=       | Greater than or equal to | x >= y  |\n",
    "| <=       | Less than or equal to    | x <= y  |\n"
   ]
  },
  {
   "cell_type": "code",
   "execution_count": 8,
   "metadata": {},
   "outputs": [
    {
     "name": "stdout",
     "output_type": "stream",
     "text": [
      "False\n",
      "True\n",
      "True\n",
      "True\n"
     ]
    }
   ],
   "source": [
    "print(10 == 3)\n",
    "print([10] == [10])\n",
    "print({'a':'a'} == {'a':'a'})\n",
    "print((1,2) == (1,2))\n"
   ]
  },
  {
   "cell_type": "code",
   "execution_count": 10,
   "metadata": {},
   "outputs": [
    {
     "name": "stdout",
     "output_type": "stream",
     "text": [
      "True\n",
      "False\n",
      "False\n",
      "False\n"
     ]
    }
   ],
   "source": [
    "print(10 != 3)\n",
    "print([10] != [10])\n",
    "print({'a':'a'} != {'a':'a'})\n",
    "print((1,2) != (1,2))\n"
   ]
  },
  {
   "cell_type": "code",
   "execution_count": 9,
   "metadata": {},
   "outputs": [
    {
     "name": "stdout",
     "output_type": "stream",
     "text": [
      "True\n",
      "False\n",
      "False\n"
     ]
    },
    {
     "ename": "TypeError",
     "evalue": "'>' not supported between instances of 'dict' and 'dict'",
     "output_type": "error",
     "traceback": [
      "\u001b[1;31m---------------------------------------------------------------------------\u001b[0m",
      "\u001b[1;31mTypeError\u001b[0m                                 Traceback (most recent call last)",
      "Cell \u001b[1;32mIn [9], line 4\u001b[0m\n\u001b[0;32m      2\u001b[0m \u001b[39mprint\u001b[39m([\u001b[39m10\u001b[39m] \u001b[39m>\u001b[39m [\u001b[39m10\u001b[39m])\n\u001b[0;32m      3\u001b[0m \u001b[39mprint\u001b[39m((\u001b[39m1\u001b[39m,\u001b[39m2\u001b[39m) \u001b[39m>\u001b[39m (\u001b[39m1\u001b[39m,\u001b[39m2\u001b[39m))\n\u001b[1;32m----> 4\u001b[0m \u001b[39mprint\u001b[39m({\u001b[39m'\u001b[39;49m\u001b[39ma\u001b[39;49m\u001b[39m'\u001b[39;49m:\u001b[39m'\u001b[39;49m\u001b[39ma\u001b[39;49m\u001b[39m'\u001b[39;49m} \u001b[39m>\u001b[39;49m {\u001b[39m'\u001b[39;49m\u001b[39ma\u001b[39;49m\u001b[39m'\u001b[39;49m:\u001b[39m'\u001b[39;49m\u001b[39ma\u001b[39;49m\u001b[39m'\u001b[39;49m})\n",
      "\u001b[1;31mTypeError\u001b[0m: '>' not supported between instances of 'dict' and 'dict'"
     ]
    }
   ],
   "source": [
    "print(10 > 3)\n",
    "print([10] > [10])\n",
    "print((1,2) > (1,2))\n",
    "print({'a':'a'} > {'a':'a'})"
   ]
  },
  {
   "cell_type": "markdown",
   "metadata": {},
   "source": [
    "# Assignment Operators:\n",
    "\n",
    "used to assign values to variables\n",
    "\n",
    "| Operator | Example   | Same As      |\n",
    "| -------- | --------- | ------------ |\n",
    "| =        | x = 5     | x = 5        |\n",
    "| +=       | x += 3    | x = x + 3    |\n",
    "| -=       | x -= 3    | x = x - 3    |\n",
    "| \\*=      | x \\*= 3   | x = x \\* 3   |\n",
    "| /=       | x /= 3    | x = x / 3    |\n",
    "| %=       | x %= 3    | x = x % 3    |\n",
    "| //=      | x //= 3   | x = x // 3   |\n",
    "| \\*\\*=    | x \\*\\*= 3 | x = x \\*\\* 3 |\n",
    "| &=       | x &= 3    | x = x & 3    |\n",
    "| \\|=      | x \\|= 3   | x = x \\| 3   |\n",
    "| ^=       | x ^= 3    | x = x ^ 3    |\n",
    "| >>=      | x >>= 3   | x = x >> 3   |\n",
    "| <<=      | x <<= 3   | x = x << 3   |\n"
   ]
  },
  {
   "cell_type": "code",
   "execution_count": 1,
   "metadata": {},
   "outputs": [
    {
     "name": "stdout",
     "output_type": "stream",
     "text": [
      "110\n",
      "100\n",
      "200\n",
      "0\n"
     ]
    }
   ],
   "source": [
    "num1 = 100\n",
    "num1 = num1 + 10\n",
    "print(num1)\n",
    "num1 -= 10\n",
    "print(num1)\n",
    "num1 *= 2\n",
    "print(num1)\n",
    "num1 %= 2\n",
    "print(num1)\n"
   ]
  },
  {
   "cell_type": "markdown",
   "metadata": {},
   "source": [
    "# Bitwise Operators:\n",
    "<!-- TODO : Add Examples-->\n",
    "\n",
    "are used to compare (binary) numbers\n",
    "|Operator |Type | Description|\n",
    "--- | --- | ---|\n",
    "| & | AND | Sets each bit to 1 if both bits are 1|\n",
    "| \\| | OR | Sets each bit to 1 if one of two bits is 1|\n",
    "| ^ | XOR | Sets each bit to 1 if only one of two bits is 1|\n",
    "| ~ | NOT | Inverts all the bits|\n",
    "| << | Zero fill left shift | Shift left by pushing zeros in from the right and let the leftmost bits fall off|\n",
    "| >> | Signed right shift | Shift right by pushing copies of the leftmost bit in from the left, and let the rightmost bits fall off|\n",
    "\n",
    "\n"
   ]
  },
  {
   "cell_type": "markdown",
   "metadata": {},
   "source": [
    "# Logical Operators:\n",
    "<!-- TODO : Add Examples-->\n",
    "\n",
    "used to combine conditional statements\n",
    "\n",
    "| Operator | Type                                                    | Example               |\n",
    "| -------- | ------------------------------------------------------- | --------------------- |\n",
    "| and      | Returns True if both statements are true                | x < 5 and x < 10      |\n",
    "| or       | Returns True if one of the statements is true           | x < 5 or x < 4        |\n",
    "| not      | Reverse the result, returns False if the result is true | not(x < 5 and x < 10) |\n"
   ]
  },
  {
   "cell_type": "markdown",
   "metadata": {},
   "source": [
    "# Membership Operators:\n",
    "\n",
    "used to test if a sequence is presented in an object\n",
    "| Operator | Description | Example|\n",
    "--- | --- | ---|\n",
    "| in | Returns True if a sequence with the specified value is present in the object | x in y |\n",
    "| not in | Returns True if a sequence with the specified value is not present in the object | x not in y|\n"
   ]
  },
  {
   "cell_type": "code",
   "execution_count": 15,
   "metadata": {},
   "outputs": [
    {
     "name": "stdout",
     "output_type": "stream",
     "text": [
      "True\n",
      "False\n",
      "True\n",
      "True\n",
      "True\n"
     ]
    }
   ],
   "source": [
    "print(10 in [1,2,3,10])\n",
    "print(10 in [1,2,3,4])\n",
    "print(10 not in [1,2,3,4])\n",
    "print(\"name\" in {\"name\": \"John\"})\n",
    "print(10 in {1,3,5,10}) # Set"
   ]
  },
  {
   "cell_type": "markdown",
   "metadata": {},
   "source": [
    "# Identity Operators:\n",
    "\n",
    "used to compare the objects, not if they are equal, but if they are actually the same object, with the same memory location\n",
    "|Operator |Description | Example|\n",
    "--- | --- | ---|\n",
    "|is |Returns True if both variables are the same object |x is y|\n",
    "|is not |Returns True if both variables are not the same object |x is not y|\n"
   ]
  },
  {
   "cell_type": "code",
   "execution_count": 23,
   "metadata": {},
   "outputs": [
    {
     "name": "stdout",
     "output_type": "stream",
     "text": [
      "True\n",
      "False\n",
      "True\n",
      "False\n",
      "True\n",
      "False\n"
     ]
    }
   ],
   "source": [
    "print([1,2,3] == [1,2,3])\n",
    "print([1,2,3] is [1,2,3])\n",
    "\n",
    "print([1,2,[[[3]]]] == [1,2,[[[3]]]])\n",
    "print([1,2,[[[3]]]] is [1,2,[[[3]]]])\n",
    "\n",
    "print([{},[{},[{}]]] == [{},[{},[{}]]])\n",
    "print([{},[{},[{}]]] is [{},[{},[{}]]])\n"
   ]
  },
  {
   "cell_type": "markdown",
   "metadata": {},
   "source": [
    "# Operators Precedence\n",
    "\n",
    "It is in descending order and from left to right\n",
    "\n",
    "|Operators\t|Meaning|\n",
    " --- | ---|\n",
    "|()\t|Parentheses|\n",
    "|**\t|Exponent|\n",
    "|+x, -x, ~x\t|Unary plus, Unary minus, Bitwise NOT|\n",
    "|*, /, //, %\t|Multiplication, Division, Floor division, Modulus|\n",
    "|+, -\t|Addition, Subtraction|\n",
    "|<<, >>\t|Bitwise shift operators|\n",
    "|&\t|Bitwise AND|\n",
    "|^\t|Bitwise XOR|\n",
    "|\\|\t|Bitwise OR|\n",
    "|==, !=, >, >=, <, <=, |is, is not, in, not in\tComparisons, Identity, Membership operators|\n",
    "|not\t|Logical NOT|\n",
    "|and\t|Logical AND|\n",
    "|or\t|Logical OR|"
   ]
  },
  {
   "cell_type": "code",
   "execution_count": 27,
   "metadata": {},
   "outputs": [
    {
     "name": "stdout",
     "output_type": "stream",
     "text": [
      "610\n",
      "900\n",
      "True\n",
      "False\n",
      "True\n"
     ]
    }
   ],
   "source": [
    "print(10 + 20 * 30)\n",
    "print((10 + 20) * 30)\n",
    "print(True or False and False) ## and > or\n",
    "print((True or False) and False)\n",
    "print(True or (False and False))"
   ]
  }
 ],
 "metadata": {
  "kernelspec": {
   "display_name": "Python 3.9.6 64-bit",
   "language": "python",
   "name": "python3"
  },
  "language_info": {
   "codemirror_mode": {
    "name": "ipython",
    "version": 3
   },
   "file_extension": ".py",
   "mimetype": "text/x-python",
   "name": "python",
   "nbconvert_exporter": "python",
   "pygments_lexer": "ipython3",
   "version": "3.9.6"
  },
  "orig_nbformat": 4,
  "vscode": {
   "interpreter": {
    "hash": "81794d4967e6c3204c66dcd87b604927b115b27c00565d3d43f05ba2f3a2cb0d"
   }
  }
 },
 "nbformat": 4,
 "nbformat_minor": 2
}
