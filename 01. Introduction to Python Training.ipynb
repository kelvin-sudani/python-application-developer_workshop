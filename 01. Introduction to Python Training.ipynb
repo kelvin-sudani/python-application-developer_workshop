{
 "cells": [
  {
   "cell_type": "markdown",
   "metadata": {},
   "source": [
    "# Introduction to Python\n",
    "- a general-purpose programming language\n",
    "- first version came out in 1994\n",
    "- Python 2.0 was released October 2000. Python 2 reached the end of its life on January 1, 2020\n",
    "- Python 3.0 was released on December 3, 2008.\n",
    "- Python 3.0 broke backward compatibility, and much Python 2 code does not run unmodified on Python 3. (https://peps.python.org/pep-3000/#compatibility-and-transition)"
   ]
  },
  {
   "cell_type": "markdown",
   "metadata": {},
   "source": [
    "# Useful Python Resources\n",
    "https://wiki.python.org/moin/BeginnersGuide\n",
    "\n",
    "https://docs.python-guide.org/\n",
    "\n",
    "https://developers.google.com/edu/python\n",
    "\n",
    "https://pyvideo.org/\n",
    "\n",
    "\n",
    "Recommended talks to watch:\n",
    "https://www.youtube.com/watch?v=x-kB2o8sd5c\n",
    "https://www.youtube.com/watch?v=OSGv2VnC0go\n",
    "\n"
   ]
  },
  {
   "cell_type": "markdown",
   "metadata": {},
   "source": [
    "# Python Tools and Utilities\n",
    "\n",
    "When people speak of Python they often mean not just the language but also the CPython implementation. Python is actually a specification for a language that can be implemented in many different ways.\n",
    "\n",
    "- CPython, the reference implementation: The most popular is the reference implementation (CPython), available from the Python website.\n",
    " - CPython is the reference implementation of Python, written in C. It compiles Python code to intermediate bytecode which is then interpreted by a virtual machine. \n",
    " - CPython is commonly used for web development, application development, and scripting. There are install packages for Windows and macOS. Linux users can install Python using built-in package managers such as apt, yum, and Zypper. There is also an online playground where you can try Python statements right on the website. Finally, the complete source code is available, allowing you to build your own version of the interpreter.\n",
    " - All versions of the Python language are implemented in C because CPython is the reference implementation.\n",
    "\n",
    "There are several other implementations available as well:\n",
    "\n",
    "- IronPython (Python running on .NET): It is an implementation of Python for the .NET framework. It can use both Python and .NET framework libraries, and can also expose Python code to other languages in the .NET framework.\n",
    "- Jython (Python running on the Java Virtual Machine): It compiles Python code to Java bytecode which is then executed by the JVM (Java Virtual Machine). Currently only supports Python 2.\n",
    "- PyPy (A fast python implementation with a JIT compiler), Currently it is 4.8 times faster than CPython (https://speed.pypy.org/)\n",
    "- Stackless Python (Branch of CPython supporting microthreads)\n",
    "- MicroPython (Python running on micro controllers)\n",
    "- Anaconda: Anaconda is a specialized Python distribution tailored for scientific programming tasks, such as data science and machine learning. Check out more details on Anaconda here.\n",
    "  \n",
    "- Jupyter Notebook: Jupyter Notebook is a web-based interactive programming environment that supports various programming languages, including Python. Jupyter Notebooks are widely used in research and academia for mathematical modeling, machine learning, statistical analysis, and for teaching and learning how to code. Install Jupyter notebooks."
   ]
  },
  {
   "cell_type": "markdown",
   "metadata": {},
   "source": [
    "# Python Features\n",
    "- Python is an interpreted, interactive, object-oriented programming language. It incorporates modules, exceptions, dynamic typing, very high level dynamic data types, and classes. \n",
    "- It supports multiple programming paradigms beyond object-oriented programming, such as procedural and functional programming. \n",
    "- Python combines remarkable power with very clear syntax.\n",
    "- It has interfaces to many system calls and libraries, as well as to various window systems, and is extensible in C or C++. \n",
    "- It is also usable as an extension language for applications that need a programmable interface. \n",
    "- Finally, Python is portable: it runs on many Unix variants including Linux and macOS, and on Windows."
   ]
  },
  {
   "cell_type": "markdown",
   "metadata": {},
   "source": [
    "## What is Python good for ?\n",
    "Python is a high-level general-purpose programming language that can be applied to many different classes of problems.\n",
    "\n",
    "The language comes with a large standard library that covers areas such as \n",
    "- string processing (regular expressions, Unicode, calculating differences between files), \n",
    "- internet protocols (HTTP, FTP, SMTP, XML-RPC, POP, IMAP, CGI programming), \n",
    "- software engineering (unit testing, logging, profiling, parsing Python code), \n",
    "- operating system interfaces (system calls, filesystems, TCP/IP sockets)."
   ]
  },
  {
   "cell_type": "markdown",
   "metadata": {},
   "source": [
    "#### Python in production:\n",
    "Check out:\n",
    "[https://www.python.org/about/success/](https://www.python.org/about/success/)"
   ]
  }
 ],
 "metadata": {
  "kernelspec": {
   "display_name": "Python 3.9.6 64-bit",
   "language": "python",
   "name": "python3"
  },
  "language_info": {
   "name": "python",
   "version": "3.9.6"
  },
  "orig_nbformat": 4,
  "vscode": {
   "interpreter": {
    "hash": "81794d4967e6c3204c66dcd87b604927b115b27c00565d3d43f05ba2f3a2cb0d"
   }
  }
 },
 "nbformat": 4,
 "nbformat_minor": 2
}
