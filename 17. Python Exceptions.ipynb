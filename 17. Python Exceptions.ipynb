{
 "cells": [
  {
   "cell_type": "markdown",
   "metadata": {},
   "source": [
    "# The except clause with multiple exceptions"
   ]
  },
  {
   "cell_type": "markdown",
   "metadata": {},
   "source": [
    "When a syntactically correct code encounters an error and stops running, these errors are commonly know as exceptions.\n",
    "\n",
    "List of exceptions in python:\n",
    "https://docs.python.org/3/library/exceptions.html#exception-hierarchy\n"
   ]
  },
  {
   "cell_type": "code",
   "execution_count": 14,
   "metadata": {},
   "outputs": [
    {
     "name": "stdout",
     "output_type": "stream",
     "text": [
      "You can't divide by zero!\n",
      "You can't divide by zero!\n"
     ]
    },
    {
     "ename": "ValueError",
     "evalue": "could not convert string to float: ''",
     "output_type": "error",
     "traceback": [
      "\u001b[1;31m---------------------------------------------------------------------------\u001b[0m",
      "\u001b[1;31mValueError\u001b[0m                                Traceback (most recent call last)",
      "Cell \u001b[1;32mIn [14], line 3\u001b[0m\n\u001b[0;32m      1\u001b[0m \u001b[39mwhile\u001b[39;00m \u001b[39mTrue\u001b[39;00m:\n\u001b[0;32m      2\u001b[0m     \u001b[39mtry\u001b[39;00m:\n\u001b[1;32m----> 3\u001b[0m         x  \u001b[39m=\u001b[39m \u001b[39mfloat\u001b[39;49m(\u001b[39minput\u001b[39;49m(\u001b[39m\"\u001b[39;49m\u001b[39mEnter the first value:\u001b[39;49m\u001b[39m\"\u001b[39;49m))\n\u001b[0;32m      4\u001b[0m         y  \u001b[39m=\u001b[39m \u001b[39mfloat\u001b[39m(\u001b[39minput\u001b[39m(\u001b[39m\"\u001b[39m\u001b[39mEnter the second value:\u001b[39m\u001b[39m\"\u001b[39m))\n\u001b[0;32m      5\u001b[0m         \u001b[39mprint\u001b[39m(x\u001b[39m/\u001b[39my)\n",
      "\u001b[1;31mValueError\u001b[0m: could not convert string to float: ''"
     ]
    }
   ],
   "source": [
    "## Single exception\n",
    "while True:\n",
    "    try:\n",
    "        x  = float(input(\"Enter the first value:\"))\n",
    "        y  = float(input(\"Enter the second value:\"))\n",
    "        print(x/y)\n",
    "        break\n",
    "    except ZeroDivisionError:\n",
    "        print(\"You can't divide by zero!\")\n"
   ]
  },
  {
   "cell_type": "code",
   "execution_count": 15,
   "metadata": {},
   "outputs": [
    {
     "name": "stdout",
     "output_type": "stream",
     "text": [
      "Invalid value type\n",
      "Invalid value type\n",
      "You can't divide by zero!\n",
      "5.0\n"
     ]
    }
   ],
   "source": [
    "## Multiple exceptions\n",
    "while True:\n",
    "    try:\n",
    "        x  = float(input(\"Enter the first value:\"))\n",
    "        y  = float(input(\"Enter the second value:\"))\n",
    "        print(x/y)\n",
    "        break\n",
    "    except ZeroDivisionError:\n",
    "        print(\"You can't divide by zero!\")\n",
    "    except ValueError:\n",
    "        print(\"Invalid input value type\")"
   ]
  },
  {
   "cell_type": "markdown",
   "metadata": {},
   "source": [
    "# Raising an exceptions\n"
   ]
  },
  {
   "cell_type": "code",
   "execution_count": 9,
   "metadata": {},
   "outputs": [
    {
     "name": "stdout",
     "output_type": "stream",
     "text": [
      "Something went wrong => could not convert string to float: 'ten'\n",
      "Something went wrong => could not convert string to float: 'twenty'\n",
      "Something went wrong =>  Only +,-,*,/ are allowed\n",
      "answer:  30.0\n"
     ]
    }
   ],
   "source": [
    "import calculator as cl\n",
    "\n",
    "while True:\n",
    "    try:\n",
    "        value_one = float(input(\"enter the first value:\"))\n",
    "        value_two = float(input(\"enter the second value:\"))\n",
    "        operation = str(input(\"select the operation: +, -, *, /\"))\n",
    "        break\n",
    "    except Exception as e:\n",
    "        print(\"Something went wrong =>\", e)\n",
    "\n",
    "if (operation == \"+\"):\n",
    "    print(\"answer: \", cl.sum(value_one, value_two))\n",
    "elif (operation == \"-\"):\n",
    "    print(\"answer: \", cl.diff(value_one, value_two))\n",
    "elif (operation == \"*\"):\n",
    "    print(\"answer: \", cl.mult(value_one, value_two))\n",
    "elif (operation == \"/\"):\n",
    "    print(\"answer: \", cl.div(value_one, value_two))\n",
    "else:\n",
    "    print(\"Invalid operation input\")\n"
   ]
  },
  {
   "cell_type": "code",
   "execution_count": 10,
   "metadata": {},
   "outputs": [
    {
     "name": "stdout",
     "output_type": "stream",
     "text": [
      "Only numbers are allowed => could not convert string to float: 'ten'\n",
      "Only numbers are allowed => could not convert string to float: 'ten'\n",
      "Something went wrong :  Only +,-,*,/ are allowed\n",
      "answer:  -10.0\n"
     ]
    }
   ],
   "source": [
    "from multiprocessing.dummy import Value\n",
    "import calculator as cl\n",
    "\n",
    "while True:\n",
    "    try:\n",
    "        value_one = float(input(\"enter the first value:\"))\n",
    "        value_two = float(input(\"enter the second value:\"))\n",
    "        operation = str(input(\"select the operation: +, -, *, /\"))\n",
    "        #### handle the invalid operation input by raising an exception\n",
    "        if (operation not in [\"+\", \"-\", \"*\", \"/\"]):\n",
    "            raise Exception(\" Only +,-,*,/ are allowed\")\n",
    "        break\n",
    "    ### handling different types of exceptions separately\n",
    "    except ValueError as e:\n",
    "        print(\"Only numbers are allowed =>\", e)\n",
    "    except Exception as e:\n",
    "        print(\"Something went wrong :\", e)\n",
    "\n",
    "if (operation == \"+\"):\n",
    "    print(\"answer: \", cl.sum(value_one, value_two))\n",
    "elif (operation == \"-\"):\n",
    "    print(\"answer: \", cl.diff(value_one, value_two))\n",
    "elif (operation == \"*\"):\n",
    "    print(\"answer: \", cl.mult(value_one, value_two))\n",
    "elif (operation == \"/\"):\n",
    "    print(\"answer: \", cl.div(value_one, value_two))\n",
    "else:\n",
    "    print(\"Invalid operation input\")\n"
   ]
  },
  {
   "cell_type": "markdown",
   "metadata": {},
   "source": [
    "# The try-finally clause\n"
   ]
  },
  {
   "cell_type": "code",
   "execution_count": 17,
   "metadata": {},
   "outputs": [
    {
     "name": "stdout",
     "output_type": "stream",
     "text": [
      "Invalid input value type\n",
      "Invalid input value type\n",
      "You can't divide by zero!\n",
      "0.5\n",
      "All Good! No errors... \n"
     ]
    }
   ],
   "source": [
    "while True:\n",
    "    try:\n",
    "        x = float(input(\"Enter the first value:\"))\n",
    "        y = float(input(\"Enter the second value:\"))\n",
    "        print(x/y)\n",
    "    except ZeroDivisionError:\n",
    "        print(\"You can't divide by zero!\")\n",
    "    except ValueError:\n",
    "        print(\"Invalid input value type\")\n",
    "    else:\n",
    "        print(\"All Good! No errors... \")\n",
    "        break\n"
   ]
  },
  {
   "cell_type": "markdown",
   "metadata": {},
   "source": [
    "# Argument of an Exception\n"
   ]
  },
  {
   "cell_type": "markdown",
   "metadata": {},
   "source": [
    "# User-Defined Exceptions\n"
   ]
  },
  {
   "cell_type": "code",
   "execution_count": null,
   "metadata": {},
   "outputs": [],
   "source": []
  }
 ],
 "metadata": {
  "kernelspec": {
   "display_name": "Python 3.9.6 64-bit",
   "language": "python",
   "name": "python3"
  },
  "language_info": {
   "codemirror_mode": {
    "name": "ipython",
    "version": 3
   },
   "file_extension": ".py",
   "mimetype": "text/x-python",
   "name": "python",
   "nbconvert_exporter": "python",
   "pygments_lexer": "ipython3",
   "version": "3.9.6"
  },
  "orig_nbformat": 4,
  "vscode": {
   "interpreter": {
    "hash": "81794d4967e6c3204c66dcd87b604927b115b27c00565d3d43f05ba2f3a2cb0d"
   }
  }
 },
 "nbformat": 4,
 "nbformat_minor": 2
}
