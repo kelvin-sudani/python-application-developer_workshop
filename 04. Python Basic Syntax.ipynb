{
 "cells": [
  {
   "cell_type": "markdown",
   "metadata": {},
   "source": [
    "# Python Identifiers\n",
    "\n",
    "An identifier is a name used to specify a variable, function, class, module, or other object. An identifier starts with a letter (any character that Unicode classifies as a letter) or an underscore (_), followed by zero or more letters, underscores, digits or other characters that Unicode classifies as digits or combining marks\n",
    "\n",
    "Case is significant: lowercase and uppercase letters are distinct. Punctuation characters such as @, $, and ! are not allowed in identifiers.\n",
    "\n",
    "Normal Python style is to start class names with an uppercase letter, and other identifiers with a lowercase letter."
   ]
  },
  {
   "cell_type": "markdown",
   "metadata": {},
   "source": [
    "# Reserved Words/ Keywords\n",
    "Keywords are identifiers that Python reserves for special syntactic uses.\n",
    "You cannot use keywords as regular identifiers (thus, they’re sometimes known as “reserved words”). "
   ]
  },
  {
   "cell_type": "code",
   "execution_count": 3,
   "metadata": {},
   "outputs": [
    {
     "data": {
      "text/plain": [
       "['False',\n",
       " 'None',\n",
       " 'True',\n",
       " '__peg_parser__',\n",
       " 'and',\n",
       " 'as',\n",
       " 'assert',\n",
       " 'async',\n",
       " 'await',\n",
       " 'break',\n",
       " 'class',\n",
       " 'continue',\n",
       " 'def',\n",
       " 'del',\n",
       " 'elif',\n",
       " 'else',\n",
       " 'except',\n",
       " 'finally',\n",
       " 'for',\n",
       " 'from',\n",
       " 'global',\n",
       " 'if',\n",
       " 'import',\n",
       " 'in',\n",
       " 'is',\n",
       " 'lambda',\n",
       " 'nonlocal',\n",
       " 'not',\n",
       " 'or',\n",
       " 'pass',\n",
       " 'raise',\n",
       " 'return',\n",
       " 'try',\n",
       " 'while',\n",
       " 'with',\n",
       " 'yield']"
      ]
     },
     "execution_count": 3,
     "metadata": {},
     "output_type": "execute_result"
    }
   ],
   "source": [
    "import keyword\n",
    "keyword.kwlist\n"
   ]
  },
  {
   "cell_type": "code",
   "execution_count": 8,
   "metadata": {},
   "outputs": [
    {
     "name": "stdout",
     "output_type": "stream",
     "text": [
      "True\n",
      "True\n",
      "True\n",
      "True\n",
      "False\n",
      "False\n",
      "False\n",
      "False\n",
      "False\n"
     ]
    }
   ],
   "source": [
    "print(keyword.iskeyword(\"class\"))\n",
    "print(keyword.iskeyword(\"def\"))\n",
    "print(keyword.iskeyword(\"for\"))\n",
    "print(keyword.iskeyword(\"while\"))\n",
    "print(keyword.iskeyword(\"str\"))\n",
    "print(keyword.iskeyword(\"string\"))\n",
    "print(keyword.iskeyword(\"null\"))\n",
    "print(keyword.iskeyword(\"void\"))\n",
    "print(keyword.iskeyword(\"int\"))"
   ]
  },
  {
   "cell_type": "markdown",
   "metadata": {},
   "source": [
    "### Value Keywords: True, False, None\n",
    "```True``` and ```False``` represents boolean values.\n",
    "```None``` represents no value or absence of a value. Similar to ```null``` in other programming languages."
   ]
  },
  {
   "cell_type": "markdown",
   "metadata": {},
   "source": [
    "### Operator Keywords: and, or, not, in, is\n",
    "| Math        | Other Languages     | Python Keyword |\n",
    "|-------------|---------------------|------------|\n",
    "| AND, ∧      |  ```&&```           | ```and```    |\n",
    "| OR, ∨       |  ```\\|\\|```         | ```or```     |\n",
    "| NOT, ¬\t  | ```!```\t            | ```not```    |  \n",
    "| CONTAINS, ∈ | \t   N/A          | ```in```     |  \n",
    "| IDENTITY    | \t   ===          | ```is```     |  "
   ]
  },
  {
   "cell_type": "markdown",
   "metadata": {},
   "source": [
    "### Control Flow Keywords: if, elif, else\n",
    "```if, elif, else``` represents conditional statements."
   ]
  },
  {
   "cell_type": "markdown",
   "metadata": {},
   "source": [
    "### Iteration Keywords: for, while, break, continue, else\n",
    "``` for, while, break, continue, else ``` keywords are used to create and work with loops."
   ]
  },
  {
   "cell_type": "markdown",
   "metadata": {},
   "source": [
    "### Structure Keywords: def, class, with, as, pass, lambda\n",
    "```def``` is used to define a function or method of a class. \n",
    "```class``` to define a class."
   ]
  },
  {
   "cell_type": "markdown",
   "metadata": {},
   "source": [
    "# Lines and Indentations\n",
    "<!---\n",
    "TODO\n",
    "--->\n",
    "https://www.scaler.com/topics/python/indentation-in-python/\n",
    "\n"
   ]
  },
  {
   "cell_type": "code",
   "execution_count": null,
   "metadata": {},
   "outputs": [],
   "source": []
  }
 ],
 "metadata": {
  "kernelspec": {
   "display_name": "Python 3.9.6 64-bit",
   "language": "python",
   "name": "python3"
  },
  "language_info": {
   "codemirror_mode": {
    "name": "ipython",
    "version": 3
   },
   "file_extension": ".py",
   "mimetype": "text/x-python",
   "name": "python",
   "nbconvert_exporter": "python",
   "pygments_lexer": "ipython3",
   "version": "3.9.6"
  },
  "orig_nbformat": 4,
  "vscode": {
   "interpreter": {
    "hash": "81794d4967e6c3204c66dcd87b604927b115b27c00565d3d43f05ba2f3a2cb0d"
   }
  }
 },
 "nbformat": 4,
 "nbformat_minor": 2
}
