{
 "cells": [
  {
   "cell_type": "markdown",
   "metadata": {},
   "source": [
    "# Pdb\n",
    "<!-- Read this: https://realpython.com/python-debugging-pdb/\n",
    " -->\n",
    "\n",
    "\n",
    "pdb is part of Python’s standard library. It can be a life saver if you need to debug code in an environment where you don’t have access to the GUI debugger you’re familiar with."
   ]
  },
  {
   "cell_type": "code",
   "execution_count": 2,
   "metadata": {},
   "outputs": [],
   "source": [
    "import pdb\n",
    "\n",
    "## Checkout 23_Debbugging_Testing.py\n"
   ]
  },
  {
   "cell_type": "markdown",
   "metadata": {},
   "source": [
    "# breakpoints\n",
    "\n",
    "- use `breakpoint()` which acts same as pdb.set_trace()\n",
    "- pd commands:\n",
    "  - b => list breakpoints\n",
    "  - b 10 => set a breakpoint at line 10 \n",
    "\n"
   ]
  },
  {
   "cell_type": "code",
   "execution_count": null,
   "metadata": {},
   "outputs": [],
   "source": [
    "## Checkout 23_Debbugging_Testing.py\n"
   ]
  },
  {
   "cell_type": "markdown",
   "metadata": {},
   "source": [
    "# Testing using `pytest`"
   ]
  }
 ],
 "metadata": {
  "kernelspec": {
   "display_name": "Python 3.6.13 ('edyoda')",
   "language": "python",
   "name": "python3"
  },
  "language_info": {
   "codemirror_mode": {
    "name": "ipython",
    "version": 3
   },
   "file_extension": ".py",
   "mimetype": "text/x-python",
   "name": "python",
   "nbconvert_exporter": "python",
   "pygments_lexer": "ipython3",
   "version": "3.6.13"
  },
  "orig_nbformat": 4,
  "vscode": {
   "interpreter": {
    "hash": "5c863311c1a8a376b7e8a9bf2f689c65d1b170d771cbc05bede56695166a78b3"
   }
  }
 },
 "nbformat": 4,
 "nbformat_minor": 2
}
