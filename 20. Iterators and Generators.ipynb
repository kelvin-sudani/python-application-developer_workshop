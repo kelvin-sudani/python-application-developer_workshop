{
 "cells": [
  {
   "cell_type": "markdown",
   "metadata": {},
   "source": [
    "# Iterators\n",
    "- An iterator is an object representing a stream of data; this object returns the data one element at a time. \n",
    "- A Python iterator must support a method called __next__() that takes no arguments and always returns the next element of the stream. \n",
    "- If there are no more elements in the stream, __next__() must raise the StopIteration exception."
   ]
  },
  {
   "cell_type": "markdown",
   "metadata": {},
   "source": [
    "The built-in iter() function takes an arbitrary object and tries to return an iterator that will return the object’s contents or elements, raising TypeError if the object doesn’t support iteration. \n",
    "\n",
    "Several of Python’s built-in data types support iteration, the most common being lists and dictionaries. An object is called iterable if you can get an iterator for it."
   ]
  },
  {
   "cell_type": "code",
   "execution_count": null,
   "metadata": {},
   "outputs": [],
   "source": [
    "L = [1, 2, 3]\n",
    "it = iter(L)\n",
    "it\n",
    "\n",
    "print(it.__next__())  # same as next(it)\n",
    "\n",
    "print(next(it))\n",
    "\n",
    "print(next(it))\n",
    "\n",
    "print(next(it))\n"
   ]
  },
  {
   "cell_type": "markdown",
   "metadata": {},
   "source": [
    "# Generators\n"
   ]
  },
  {
   "cell_type": "markdown",
   "metadata": {},
   "source": [
    "##  Difference Between Generator Functions and Regular Functions\n",
    "- The main difference between a regular function and generator functions is that the state of generator functions are maintained through the use of the keyword yield and works much like using return, but it has some important differences. the difference is that yield saves the state of the function. The next time the function is called, execution continues from where it left off, with the same variable values it had before yielding, whereas the return statement terminates the function completely. \n",
    "- Another difference is that generator functions don’t even run a function, it only creates and returns a generator object. Lastly, the code in generator functions only execute when next() is called on the generator object.\n",
    "\n",
    "\n",
    "#### - return - returns only once\n",
    "#### - yield - returns multiple times"
   ]
  },
  {
   "cell_type": "code",
   "execution_count": 5,
   "metadata": {},
   "outputs": [
    {
     "name": "stdout",
     "output_type": "stream",
     "text": [
      "0\n"
     ]
    }
   ],
   "source": [
    "def infinite_counter():\n",
    "    count  = 0\n",
    "    while True:\n",
    "        return count\n",
    "        count+=1\n",
    "\n",
    "print(infinite_counter())"
   ]
  },
  {
   "cell_type": "code",
   "execution_count": 12,
   "metadata": {},
   "outputs": [
    {
     "name": "stdout",
     "output_type": "stream",
     "text": [
      "<generator object infinite_counter at 0x00000169F2048510>\n",
      "0\n",
      "1\n",
      "2\n",
      "3\n",
      "4\n",
      "5\n",
      "i: 0 count: 6\n",
      "i: 1 count: 7\n",
      "i: 2 count: 8\n",
      "i: 3 count: 9\n",
      "i: 4 count: 10\n",
      "i: 5 count: 11\n",
      "i: 6 count: 12\n",
      "i: 7 count: 13\n",
      "i: 8 count: 14\n",
      "i: 9 count: 15\n"
     ]
    }
   ],
   "source": [
    "def infinite_counter():\n",
    "    count = 0\n",
    "    while True:\n",
    "        yield count\n",
    "        count += 1\n",
    "\n",
    "print(infinite_counter())\n",
    "\n",
    "counter = infinite_counter()\n",
    "\n",
    "print(next(counter))\n",
    "print(next(counter))\n",
    "print(next(counter))\n",
    "print(next(counter))\n",
    "print(next(counter))\n",
    "print(next(counter))\n",
    "\n",
    "for i in range(10):\n",
    "    print(\"i:\",i,\"count:\",next(counter))\n"
   ]
  },
  {
   "cell_type": "code",
   "execution_count": 13,
   "metadata": {},
   "outputs": [
    {
     "name": "stdout",
     "output_type": "stream",
     "text": [
      "1\n",
      "2\n",
      "3\n",
      "i:  1\n",
      "i:  2\n",
      "i:  3\n",
      "i:  4\n"
     ]
    }
   ],
   "source": [
    "def finite_counter(n):\n",
    "    count = 1\n",
    "    while count < n:\n",
    "        yield count\n",
    "        count += 1 \n",
    "\n",
    "## calling a generator function will return a generator object which is an iterator itself\n",
    "# print(finite_counter(4))\n",
    "# help(finite_counter(10))\n",
    "\n",
    "itr = finite_counter(4)\n",
    "print(next(itr))\n",
    "print(next(itr))\n",
    "print(next(itr))\n",
    "# print(next(itr))\n",
    "\n",
    "\n",
    "c = finite_counter(5)\n",
    "for i in c:\n",
    "    print(\"i: \",i)\n"
   ]
  },
  {
   "cell_type": "markdown",
   "metadata": {},
   "source": [
    "# Decorators\n"
   ]
  },
  {
   "cell_type": "code",
   "execution_count": 21,
   "metadata": {},
   "outputs": [
    {
     "name": "stdout",
     "output_type": "stream",
     "text": [
      "I am ordinary\n",
      "==================================================\n",
      "I am ordinary\n",
      "==================================================\n"
     ]
    }
   ],
   "source": [
    "def make_pretty(func):\n",
    "    def inner():\n",
    "        print(\"=\" * 50)\n",
    "        func()\n",
    "        print(\"=\" * 50)\n",
    "    return inner\n",
    "\n",
    "\n",
    "def ordinary():\n",
    "    print(\"I am ordinary\")\n",
    "\n",
    "\n",
    "ordinary()\n",
    "pretty = make_pretty(ordinary)\n",
    "pretty()"
   ]
  },
  {
   "cell_type": "code",
   "execution_count": 22,
   "metadata": {},
   "outputs": [
    {
     "name": "stdout",
     "output_type": "stream",
     "text": [
      "==================================================\n",
      "**************************************************\n",
      "I am ordinary\n",
      "**************************************************\n",
      "==================================================\n"
     ]
    }
   ],
   "source": [
    "def add_boundaries(func):\n",
    "    def inner():\n",
    "        print(\"=\" * 50)\n",
    "        func()\n",
    "        print(\"=\" * 50)\n",
    "    return inner\n",
    "\n",
    "def add_stars(fn):\n",
    "    def inner():\n",
    "        print(\"*\"*50)\n",
    "        fn()\n",
    "        print(\"*\"*50)\n",
    "    return inner\n",
    "\n",
    "@make_pretty\n",
    "@add_stars\n",
    "def ordinary():\n",
    "    print(\"I am ordinary\")\n",
    "\n",
    "\n",
    "ordinary()\n"
   ]
  }
 ],
 "metadata": {
  "kernelspec": {
   "display_name": "Python 3.9.6 64-bit",
   "language": "python",
   "name": "python3"
  },
  "language_info": {
   "codemirror_mode": {
    "name": "ipython",
    "version": 3
   },
   "file_extension": ".py",
   "mimetype": "text/x-python",
   "name": "python",
   "nbconvert_exporter": "python",
   "pygments_lexer": "ipython3",
   "version": "3.9.6"
  },
  "orig_nbformat": 4,
  "vscode": {
   "interpreter": {
    "hash": "81794d4967e6c3204c66dcd87b604927b115b27c00565d3d43f05ba2f3a2cb0d"
   }
  }
 },
 "nbformat": 4,
 "nbformat_minor": 2
}
