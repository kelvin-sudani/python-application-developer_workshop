{
 "cells": [
  {
   "cell_type": "markdown",
   "metadata": {},
   "source": [
    "# Lambda\n"
   ]
  },
  {
   "cell_type": "code",
   "execution_count": null,
   "metadata": {},
   "outputs": [],
   "source": [
    "sum = lambda a,b:a+b\n",
    "print(sum(2,4))\n",
    "\n",
    "output = (lambda x,y:x*y)(3,4)\n",
    "print(output)"
   ]
  },
  {
   "cell_type": "markdown",
   "metadata": {},
   "source": [
    "# Filter\n",
    "Syntax: `filter(<f>, <iterable>)`\n",
    "- applies function <f> to each element of <iterable> and returns an iterator that yields all items for which <f> is truthy.\n"
   ]
  },
  {
   "cell_type": "code",
   "execution_count": 15,
   "metadata": {},
   "outputs": [
    {
     "name": "stdout",
     "output_type": "stream",
     "text": [
      "[0, 2, 4, 6, 8]\n",
      "[0, 2, 4, 6, 8]\n"
     ]
    }
   ],
   "source": [
    "def is_even(x):\n",
    "    return (x % 2) == 0\n",
    "\n",
    "\n",
    "print(list(filter(is_even, range(10))))\n",
    "\n",
    "## Same results as above line with list comprehension\n",
    "print(list(x for x in range(10) if is_even(x)))\n"
   ]
  },
  {
   "cell_type": "code",
   "execution_count": 11,
   "metadata": {},
   "outputs": [
    {
     "data": {
      "text/plain": [
       "[1, 111, 222, 3]"
      ]
     },
     "execution_count": 11,
     "metadata": {},
     "output_type": "execute_result"
    }
   ],
   "source": [
    "list(filter(lambda x: x>0, [1, 111, -2, 222, 3, -333]))\n"
   ]
  },
  {
   "cell_type": "markdown",
   "metadata": {},
   "source": [
    "# Map\n",
    "Syntax: `map(<f>, <iterable>)`\n",
    "- It returns an iterator that yields the results of applying function <f> to each element of <iterable>.\n",
    "- Since `map()` returns an iterator. We have to convert that into a list by ourselves.\n"
   ]
  },
  {
   "cell_type": "code",
   "execution_count": 5,
   "metadata": {},
   "outputs": [
    {
     "name": "stdout",
     "output_type": "stream",
     "text": [
      "[4, 6, 8, 10, 12]\n"
     ]
    }
   ],
   "source": [
    "\n",
    "arr = [2, 3, 4, 5, 6]\n",
    "output = map(lambda x: x * 2, arr)\n",
    "print(list(output))\n",
    "\n",
    "\n",
    "\n"
   ]
  },
  {
   "cell_type": "markdown",
   "metadata": {},
   "source": [
    "map() with multiple iterators:\n",
    "`map(f, iterA, iterB, ...)`"
   ]
  },
  {
   "cell_type": "code",
   "execution_count": 13,
   "metadata": {},
   "outputs": [
    {
     "name": "stdout",
     "output_type": "stream",
     "text": [
      "['SENTENCE', 'FRAGMENT']\n",
      "['SENTENCE', 'FRAGMENT']\n"
     ]
    }
   ],
   "source": [
    "def upper(s):\n",
    "    return s.upper()\n",
    "\n",
    "\n",
    "print(list(map(upper, ['sentence', 'fragment'])))\n",
    "## Same results as above line with list comprehension\n",
    "print([upper(s) for s in ['sentence', 'fragment']])\n"
   ]
  },
  {
   "cell_type": "markdown",
   "metadata": {},
   "source": [
    "# Functools\n",
    "- contains some higher-order functions. \n",
    "  - A higher-order function takes one or more functions as input and returns a new function."
   ]
  },
  {
   "cell_type": "markdown",
   "metadata": {},
   "source": [
    "### Reduce:\n",
    "reference: https://realpython.com/python-functional-programming/\n",
    "\n",
    "reduce() is no longer a built-in function. To use reduce(), you need to import it from a module called functools. \n",
    "\n",
    "Syntax: `reduce(<f>, <iterable>, <init>)`"
   ]
  },
  {
   "cell_type": "code",
   "execution_count": 9,
   "metadata": {},
   "outputs": [
    {
     "name": "stdout",
     "output_type": "stream",
     "text": [
      "15\n",
      "115\n"
     ]
    }
   ],
   "source": [
    "from functools import reduce\n",
    "\n",
    "def f(x, y):\n",
    "    return x + y\n",
    "\n",
    "a_list = [1, 2, 3, 4, 5]\n",
    "\n",
    "print(reduce(f, a_list))\n",
    "print(reduce(f, a_list,100))\n"
   ]
  },
  {
   "cell_type": "markdown",
   "metadata": {},
   "source": [
    "`reduce(f, [1, 2, 3, 4, 5])` works like this:\n",
    "![reduce(f, [1, 2, 3, 4, 5])](https://files.realpython.com/media/t.5446e98a36c1.png \"reduce\")"
   ]
  },
  {
   "cell_type": "markdown",
   "metadata": {},
   "source": [
    "`reduce(f, [1, 2, 3, 4, 5], 100)` works like this:\n",
    "![reduce(f, [1, 2, 3, 4, 5], 100)](https://files.realpython.com/media/t.4cc153eaaffb.png \"reduce\")"
   ]
  }
 ],
 "metadata": {
  "kernelspec": {
   "display_name": "Python 3.9.6 64-bit",
   "language": "python",
   "name": "python3"
  },
  "language_info": {
   "codemirror_mode": {
    "name": "ipython",
    "version": 3
   },
   "file_extension": ".py",
   "mimetype": "text/x-python",
   "name": "python",
   "nbconvert_exporter": "python",
   "pygments_lexer": "ipython3",
   "version": "3.9.6"
  },
  "orig_nbformat": 4,
  "vscode": {
   "interpreter": {
    "hash": "81794d4967e6c3204c66dcd87b604927b115b27c00565d3d43f05ba2f3a2cb0d"
   }
  }
 },
 "nbformat": 4,
 "nbformat_minor": 2
}
