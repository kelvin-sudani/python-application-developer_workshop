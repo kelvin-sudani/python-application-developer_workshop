{
 "cells": [
  {
   "cell_type": "markdown",
   "id": "5b5bc5d8",
   "metadata": {},
   "source": [
    "# Numbers"
   ]
  },
  {
   "cell_type": "markdown",
   "id": "2fd3c58b",
   "metadata": {},
   "source": [
    "There are two types on numbers in python: ```int``` and ```float (the ones with a fractional part)```"
   ]
  },
  {
   "cell_type": "code",
   "execution_count": 21,
   "id": "682cbf3d",
   "metadata": {},
   "outputs": [
    {
     "name": "stdout",
     "output_type": "stream",
     "text": [
      "2\n",
      "1000000000000000000000000\n",
      "-3000000\n",
      "0\n",
      "0\n"
     ]
    }
   ],
   "source": [
    "## int\n",
    "print(2)\n",
    "print(1000000000000000000000000)\n",
    "print(-3000000)\n",
    "print(0)\n",
    "print(-0)"
   ]
  },
  {
   "cell_type": "code",
   "execution_count": 27,
   "id": "29a654fa",
   "metadata": {},
   "outputs": [
    {
     "name": "stdout",
     "output_type": "stream",
     "text": [
      "2.0\n",
      "1e+24\n",
      "-3000000.00005\n",
      "0.0\n",
      "-0.0\n",
      "-0.05\n"
     ]
    }
   ],
   "source": [
    "## float\n",
    "print(2.0)\n",
    "print(1000000000000000000000000.00003)\n",
    "print(-3000000.00005)\n",
    "print(0.0)\n",
    "print(-0.0)\n",
    "print(-0.05)"
   ]
  },
  {
   "cell_type": "markdown",
   "id": "25fe3408",
   "metadata": {},
   "source": [
    "## Addition"
   ]
  },
  {
   "cell_type": "code",
   "execution_count": 25,
   "id": "00b88608",
   "metadata": {},
   "outputs": [
    {
     "data": {
      "text/plain": [
       "202"
      ]
     },
     "execution_count": 25,
     "metadata": {},
     "output_type": "execute_result"
    }
   ],
   "source": [
    "2+200"
   ]
  },
  {
   "cell_type": "markdown",
   "id": "04b9a0f5",
   "metadata": {},
   "source": [
    "## Multiplication"
   ]
  },
  {
   "cell_type": "code",
   "execution_count": 11,
   "id": "61905b8f",
   "metadata": {
    "scrolled": true
   },
   "outputs": [
    {
     "data": {
      "text/plain": [
       "400"
      ]
     },
     "execution_count": 11,
     "metadata": {},
     "output_type": "execute_result"
    }
   ],
   "source": [
    "2*200"
   ]
  },
  {
   "cell_type": "code",
   "execution_count": 16,
   "id": "07f21130",
   "metadata": {},
   "outputs": [
    {
     "data": {
      "text/plain": [
       "200.0"
      ]
     },
     "execution_count": 16,
     "metadata": {},
     "output_type": "execute_result"
    }
   ],
   "source": [
    "200 * 1.0"
   ]
  },
  {
   "cell_type": "markdown",
   "id": "e06a6bca",
   "metadata": {},
   "source": [
    "## Subtraction"
   ]
  },
  {
   "cell_type": "code",
   "execution_count": 12,
   "id": "5930c29c",
   "metadata": {},
   "outputs": [
    {
     "data": {
      "text/plain": [
       "190"
      ]
     },
     "execution_count": 12,
     "metadata": {},
     "output_type": "execute_result"
    }
   ],
   "source": [
    "200-10"
   ]
  },
  {
   "cell_type": "markdown",
   "id": "309bda07",
   "metadata": {},
   "source": [
    "## Division"
   ]
  },
  {
   "cell_type": "code",
   "execution_count": 2,
   "id": "f6e74458",
   "metadata": {},
   "outputs": [
    {
     "data": {
      "text/plain": [
       "1.0"
      ]
     },
     "execution_count": 2,
     "metadata": {},
     "output_type": "execute_result"
    }
   ],
   "source": [
    "2/2 ## by default you will get float even if the answer is an integer value"
   ]
  },
  {
   "cell_type": "code",
   "execution_count": 4,
   "id": "a218447d",
   "metadata": {},
   "outputs": [
    {
     "data": {
      "text/plain": [
       "3.3333333333333335"
      ]
     },
     "execution_count": 4,
     "metadata": {},
     "output_type": "execute_result"
    }
   ],
   "source": [
    "10/3"
   ]
  },
  {
   "cell_type": "markdown",
   "id": "b29723b1",
   "metadata": {},
   "source": [
    "#### How to get floor division and discards the fractional part\n",
    "use ```//``` operator"
   ]
  },
  {
   "cell_type": "code",
   "execution_count": 30,
   "id": "ca26185d",
   "metadata": {},
   "outputs": [
    {
     "data": {
      "text/plain": [
       "3"
      ]
     },
     "execution_count": 30,
     "metadata": {},
     "output_type": "execute_result"
    }
   ],
   "source": [
    "10 // 3"
   ]
  },
  {
   "cell_type": "markdown",
   "id": "59ae55e8",
   "metadata": {},
   "source": [
    "### Division by zero"
   ]
  },
  {
   "cell_type": "code",
   "execution_count": 5,
   "id": "bc881078",
   "metadata": {
    "scrolled": true
   },
   "outputs": [
    {
     "ename": "ZeroDivisionError",
     "evalue": "division by zero",
     "output_type": "error",
     "traceback": [
      "\u001b[1;31m---------------------------------------------------------------------------\u001b[0m",
      "\u001b[1;31mZeroDivisionError\u001b[0m                         Traceback (most recent call last)",
      "\u001b[1;32m~\\AppData\\Local\\Temp\\ipykernel_14524\\530406163.py\u001b[0m in \u001b[0;36m<module>\u001b[1;34m\u001b[0m\n\u001b[1;32m----> 1\u001b[1;33m \u001b[1;36m10\u001b[0m\u001b[1;33m/\u001b[0m\u001b[1;36m0\u001b[0m\u001b[1;33m\u001b[0m\u001b[1;33m\u001b[0m\u001b[0m\n\u001b[0m",
      "\u001b[1;31mZeroDivisionError\u001b[0m: division by zero"
     ]
    }
   ],
   "source": [
    "10/0"
   ]
  },
  {
   "cell_type": "markdown",
   "id": "0141bb17",
   "metadata": {},
   "source": [
    "## Modulo\n",
    "the ```%``` operator returns the remainder of the division"
   ]
  },
  {
   "cell_type": "code",
   "execution_count": 31,
   "id": "bdd03db5",
   "metadata": {},
   "outputs": [
    {
     "data": {
      "text/plain": [
       "2"
      ]
     },
     "execution_count": 31,
     "metadata": {},
     "output_type": "execute_result"
    }
   ],
   "source": [
    "17 % 3"
   ]
  },
  {
   "cell_type": "markdown",
   "id": "e1cfc15e",
   "metadata": {},
   "source": [
    "## Power\n",
    "Note: if one of the operands is a float value then you will get result as a float number"
   ]
  },
  {
   "cell_type": "code",
   "execution_count": 32,
   "id": "3be5fdb7",
   "metadata": {
    "collapsed": true
   },
   "outputs": [
    {
     "data": {
      "text/plain": [
       "100"
      ]
     },
     "execution_count": 32,
     "metadata": {},
     "output_type": "execute_result"
    }
   ],
   "source": [
    "10 ** 2"
   ]
  },
  {
   "cell_type": "code",
   "execution_count": 33,
   "id": "9b35c529",
   "metadata": {},
   "outputs": [
    {
     "data": {
      "text/plain": [
       "10.0"
      ]
     },
     "execution_count": 33,
     "metadata": {},
     "output_type": "execute_result"
    }
   ],
   "source": [
    "100 ** 0.5"
   ]
  },
  {
   "cell_type": "code",
   "execution_count": 35,
   "id": "8c37ba4f",
   "metadata": {},
   "outputs": [
    {
     "data": {
      "text/plain": [
       "200.0"
      ]
     },
     "execution_count": 35,
     "metadata": {},
     "output_type": "execute_result"
    }
   ],
   "source": [
    "200 ** 1.0"
   ]
  },
  {
   "cell_type": "code",
   "execution_count": 39,
   "id": "0d9a0eff",
   "metadata": {},
   "outputs": [
    {
     "data": {
      "text/plain": [
       "200.0"
      ]
     },
     "execution_count": 39,
     "metadata": {},
     "output_type": "execute_result"
    }
   ],
   "source": [
    "200.0 ** 1"
   ]
  },
  {
   "cell_type": "markdown",
   "id": "0c1e64b2",
   "metadata": {},
   "source": [
    "## Grouping using parenthesis"
   ]
  },
  {
   "cell_type": "code",
   "execution_count": 7,
   "id": "952798f6",
   "metadata": {},
   "outputs": [
    {
     "data": {
      "text/plain": [
       "105"
      ]
     },
     "execution_count": 7,
     "metadata": {},
     "output_type": "execute_result"
    }
   ],
   "source": [
    "## Without parentheses\n",
    "2+10*10+3"
   ]
  },
  {
   "cell_type": "code",
   "execution_count": 28,
   "id": "0d7495aa",
   "metadata": {},
   "outputs": [
    {
     "data": {
      "text/plain": [
       "156"
      ]
     },
     "execution_count": 28,
     "metadata": {},
     "output_type": "execute_result"
    }
   ],
   "source": [
    "## With parentheses\n",
    "(2+10)*(10+3)"
   ]
  },
  {
   "cell_type": "code",
   "execution_count": 9,
   "id": "88b2815d",
   "metadata": {},
   "outputs": [
    {
     "data": {
      "text/plain": [
       "5.0"
      ]
     },
     "execution_count": 9,
     "metadata": {},
     "output_type": "execute_result"
    }
   ],
   "source": [
    "(50 - 5*6) / 4"
   ]
  },
  {
   "cell_type": "markdown",
   "id": "09688409",
   "metadata": {},
   "source": [
    "# Mathematical function"
   ]
  },
  {
   "cell_type": "markdown",
   "id": "e56b36b7",
   "metadata": {},
   "source": [
    "# Random number function"
   ]
  },
  {
   "cell_type": "markdown",
   "id": "a2e480de",
   "metadata": {},
   "source": [
    "# Trigonometric function"
   ]
  }
 ],
 "metadata": {
  "kernelspec": {
   "display_name": "Python 3.9.6 64-bit",
   "language": "python",
   "name": "python3"
  },
  "language_info": {
   "codemirror_mode": {
    "name": "ipython",
    "version": 3
   },
   "file_extension": ".py",
   "mimetype": "text/x-python",
   "name": "python",
   "nbconvert_exporter": "python",
   "pygments_lexer": "ipython3",
   "version": "3.9.6"
  },
  "vscode": {
   "interpreter": {
    "hash": "81794d4967e6c3204c66dcd87b604927b115b27c00565d3d43f05ba2f3a2cb0d"
   }
  }
 },
 "nbformat": 4,
 "nbformat_minor": 5
}
