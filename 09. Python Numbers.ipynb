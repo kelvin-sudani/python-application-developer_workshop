{
 "cells": [
  {
   "cell_type": "markdown",
   "id": "5b5bc5d8",
   "metadata": {},
   "source": [
    "# Numbers\n",
    "https://realpython.com/python-fractions/"
   ]
  },
  {
   "cell_type": "markdown",
   "id": "2fd3c58b",
   "metadata": {},
   "source": [
    "The two most types of numbers in python: ```int``` and ```float (the ones with a fractional part)```.\n",
    "There is also a complex number type."
   ]
  },
  {
   "cell_type": "code",
   "execution_count": 21,
   "id": "682cbf3d",
   "metadata": {},
   "outputs": [
    {
     "name": "stdout",
     "output_type": "stream",
     "text": [
      "2\n",
      "1000000000000000000000000\n",
      "-3000000\n",
      "0\n",
      "0\n"
     ]
    }
   ],
   "source": [
    "## int\n",
    "print(2)\n",
    "print(1000000000000000000000000)\n",
    "print(-3000000)\n",
    "print(0)\n",
    "print(-0)"
   ]
  },
  {
   "cell_type": "code",
   "execution_count": 27,
   "id": "29a654fa",
   "metadata": {},
   "outputs": [
    {
     "name": "stdout",
     "output_type": "stream",
     "text": [
      "2.0\n",
      "1e+24\n",
      "-3000000.00005\n",
      "0.0\n",
      "-0.0\n",
      "-0.05\n"
     ]
    }
   ],
   "source": [
    "## float\n",
    "print(2.0)\n",
    "print(1000000000000000000000000.00003)\n",
    "print(-3000000.00005)\n",
    "print(0.0)\n",
    "print(-0.0)\n",
    "print(-0.05)"
   ]
  },
  {
   "cell_type": "code",
   "execution_count": 1,
   "id": "26507cdc",
   "metadata": {},
   "outputs": [
    {
     "name": "stdout",
     "output_type": "stream",
     "text": [
      "<class 'complex'>\n",
      "<class 'complex'>\n",
      "<class 'complex'>\n"
     ]
    }
   ],
   "source": [
    "## Complex Numbers\n",
    "x = 3+5j\n",
    "y = 5j\n",
    "z = -5j\n",
    "\n",
    "print(type(x))\n",
    "print(type(y))\n",
    "print(type(z))"
   ]
  },
  {
   "cell_type": "markdown",
   "id": "25fe3408",
   "metadata": {},
   "source": [
    "## Addition"
   ]
  },
  {
   "cell_type": "code",
   "execution_count": 25,
   "id": "00b88608",
   "metadata": {},
   "outputs": [
    {
     "data": {
      "text/plain": [
       "202"
      ]
     },
     "execution_count": 25,
     "metadata": {},
     "output_type": "execute_result"
    }
   ],
   "source": [
    "2+200"
   ]
  },
  {
   "cell_type": "markdown",
   "id": "04b9a0f5",
   "metadata": {},
   "source": [
    "## Multiplication"
   ]
  },
  {
   "cell_type": "code",
   "execution_count": 11,
   "id": "61905b8f",
   "metadata": {
    "scrolled": true
   },
   "outputs": [
    {
     "data": {
      "text/plain": [
       "400"
      ]
     },
     "execution_count": 11,
     "metadata": {},
     "output_type": "execute_result"
    }
   ],
   "source": [
    "2*200"
   ]
  },
  {
   "cell_type": "code",
   "execution_count": 16,
   "id": "07f21130",
   "metadata": {},
   "outputs": [
    {
     "data": {
      "text/plain": [
       "200.0"
      ]
     },
     "execution_count": 16,
     "metadata": {},
     "output_type": "execute_result"
    }
   ],
   "source": [
    "200 * 1.0"
   ]
  },
  {
   "cell_type": "markdown",
   "id": "e06a6bca",
   "metadata": {},
   "source": [
    "## Subtraction"
   ]
  },
  {
   "cell_type": "code",
   "execution_count": 12,
   "id": "5930c29c",
   "metadata": {},
   "outputs": [
    {
     "data": {
      "text/plain": [
       "190"
      ]
     },
     "execution_count": 12,
     "metadata": {},
     "output_type": "execute_result"
    }
   ],
   "source": [
    "200-10"
   ]
  },
  {
   "cell_type": "markdown",
   "id": "309bda07",
   "metadata": {},
   "source": [
    "## Division"
   ]
  },
  {
   "cell_type": "code",
   "execution_count": 2,
   "id": "f6e74458",
   "metadata": {},
   "outputs": [
    {
     "data": {
      "text/plain": [
       "1.0"
      ]
     },
     "execution_count": 2,
     "metadata": {},
     "output_type": "execute_result"
    }
   ],
   "source": [
    "2/2 ## by default you will get float even if the answer is an integer value"
   ]
  },
  {
   "cell_type": "code",
   "execution_count": 4,
   "id": "a218447d",
   "metadata": {},
   "outputs": [
    {
     "data": {
      "text/plain": [
       "3.3333333333333335"
      ]
     },
     "execution_count": 4,
     "metadata": {},
     "output_type": "execute_result"
    }
   ],
   "source": [
    "10/3"
   ]
  },
  {
   "cell_type": "markdown",
   "id": "b29723b1",
   "metadata": {},
   "source": [
    "#### How to get floor division and discards the fractional part\n",
    "use ```//``` operator"
   ]
  },
  {
   "cell_type": "code",
   "execution_count": 30,
   "id": "ca26185d",
   "metadata": {},
   "outputs": [
    {
     "data": {
      "text/plain": [
       "3"
      ]
     },
     "execution_count": 30,
     "metadata": {},
     "output_type": "execute_result"
    }
   ],
   "source": [
    "10 // 3"
   ]
  },
  {
   "cell_type": "markdown",
   "id": "59ae55e8",
   "metadata": {},
   "source": [
    "### Division by zero"
   ]
  },
  {
   "cell_type": "code",
   "execution_count": 5,
   "id": "bc881078",
   "metadata": {
    "scrolled": true
   },
   "outputs": [
    {
     "ename": "ZeroDivisionError",
     "evalue": "division by zero",
     "output_type": "error",
     "traceback": [
      "\u001b[1;31m---------------------------------------------------------------------------\u001b[0m",
      "\u001b[1;31mZeroDivisionError\u001b[0m                         Traceback (most recent call last)",
      "\u001b[1;32m~\\AppData\\Local\\Temp\\ipykernel_14524\\530406163.py\u001b[0m in \u001b[0;36m<module>\u001b[1;34m\u001b[0m\n\u001b[1;32m----> 1\u001b[1;33m \u001b[1;36m10\u001b[0m\u001b[1;33m/\u001b[0m\u001b[1;36m0\u001b[0m\u001b[1;33m\u001b[0m\u001b[1;33m\u001b[0m\u001b[0m\n\u001b[0m",
      "\u001b[1;31mZeroDivisionError\u001b[0m: division by zero"
     ]
    }
   ],
   "source": [
    "10/0"
   ]
  },
  {
   "cell_type": "markdown",
   "id": "0141bb17",
   "metadata": {},
   "source": [
    "## Modulo\n",
    "the ```%``` operator returns the remainder of the division"
   ]
  },
  {
   "cell_type": "code",
   "execution_count": 31,
   "id": "bdd03db5",
   "metadata": {},
   "outputs": [
    {
     "data": {
      "text/plain": [
       "2"
      ]
     },
     "execution_count": 31,
     "metadata": {},
     "output_type": "execute_result"
    }
   ],
   "source": [
    "17 % 3"
   ]
  },
  {
   "cell_type": "markdown",
   "id": "e1cfc15e",
   "metadata": {},
   "source": [
    "## Power\n",
    "Note: if one of the operands is a float value then you will get result as a float number"
   ]
  },
  {
   "cell_type": "code",
   "execution_count": 32,
   "id": "3be5fdb7",
   "metadata": {
    "collapsed": true
   },
   "outputs": [
    {
     "data": {
      "text/plain": [
       "100"
      ]
     },
     "execution_count": 32,
     "metadata": {},
     "output_type": "execute_result"
    }
   ],
   "source": [
    "10 ** 2"
   ]
  },
  {
   "cell_type": "code",
   "execution_count": 33,
   "id": "9b35c529",
   "metadata": {},
   "outputs": [
    {
     "data": {
      "text/plain": [
       "10.0"
      ]
     },
     "execution_count": 33,
     "metadata": {},
     "output_type": "execute_result"
    }
   ],
   "source": [
    "100 ** 0.5"
   ]
  },
  {
   "cell_type": "code",
   "execution_count": 35,
   "id": "8c37ba4f",
   "metadata": {},
   "outputs": [
    {
     "data": {
      "text/plain": [
       "200.0"
      ]
     },
     "execution_count": 35,
     "metadata": {},
     "output_type": "execute_result"
    }
   ],
   "source": [
    "200 ** 1.0"
   ]
  },
  {
   "cell_type": "code",
   "execution_count": 39,
   "id": "0d9a0eff",
   "metadata": {},
   "outputs": [
    {
     "data": {
      "text/plain": [
       "200.0"
      ]
     },
     "execution_count": 39,
     "metadata": {},
     "output_type": "execute_result"
    }
   ],
   "source": [
    "200.0 ** 1"
   ]
  },
  {
   "cell_type": "markdown",
   "id": "0c1e64b2",
   "metadata": {},
   "source": [
    "## Grouping using parenthesis"
   ]
  },
  {
   "cell_type": "code",
   "execution_count": 7,
   "id": "952798f6",
   "metadata": {},
   "outputs": [
    {
     "data": {
      "text/plain": [
       "105"
      ]
     },
     "execution_count": 7,
     "metadata": {},
     "output_type": "execute_result"
    }
   ],
   "source": [
    "## Without parentheses\n",
    "2+10*10+3"
   ]
  },
  {
   "cell_type": "code",
   "execution_count": 28,
   "id": "0d7495aa",
   "metadata": {},
   "outputs": [
    {
     "data": {
      "text/plain": [
       "156"
      ]
     },
     "execution_count": 28,
     "metadata": {},
     "output_type": "execute_result"
    }
   ],
   "source": [
    "## With parentheses\n",
    "(2+10)*(10+3)"
   ]
  },
  {
   "cell_type": "code",
   "execution_count": 9,
   "id": "88b2815d",
   "metadata": {},
   "outputs": [
    {
     "data": {
      "text/plain": [
       "5.0"
      ]
     },
     "execution_count": 9,
     "metadata": {},
     "output_type": "execute_result"
    }
   ],
   "source": [
    "(50 - 5*6) / 4"
   ]
  },
  {
   "cell_type": "markdown",
   "id": "09688409",
   "metadata": {},
   "source": [
    "# Mathematical function"
   ]
  },
  {
   "cell_type": "code",
   "execution_count": 3,
   "id": "e7c8556c",
   "metadata": {},
   "outputs": [
    {
     "name": "stdout",
     "output_type": "stream",
     "text": [
      "False\n",
      "False\n",
      "False\n",
      "False\n",
      "True\n",
      "False\n",
      "False\n",
      "True\n"
     ]
    }
   ],
   "source": [
    "# isNaN\n",
    "\n",
    "## Import math Library\n",
    "import math\n",
    "\n",
    "## Check whether some values are NaN or not\n",
    "print (math.isnan (56))\n",
    "print (math.isnan (-45.34))\n",
    "print (math.isnan (+45.34))\n",
    "print (math.isnan (math.inf))\n",
    "print (math.isnan (float(\"nan\")))\n",
    "print (math.isnan (float(\"inf\")))\n",
    "print (math.isnan (float(\"-inf\")))\n",
    "print (math.isnan (math.nan))"
   ]
  },
  {
   "cell_type": "code",
   "execution_count": 15,
   "id": "7aa1574a",
   "metadata": {},
   "outputs": [
    {
     "name": "stdout",
     "output_type": "stream",
     "text": [
      "66.43\n",
      "7.0\n",
      "66.43\n",
      "7\n"
     ]
    }
   ],
   "source": [
    "# math.fabs()\n",
    "\n",
    "# Print absolute float values from numbers\n",
    "print(math.fabs(-66.43))\n",
    "print(math.fabs(-7)) ## ints will be converted to floats\n",
    "\n",
    "# there is builtin function for absolute value:\n",
    "print(abs(-66.43))\n",
    "print(abs(-7)) ## ints will stay as ints"
   ]
  },
  {
   "cell_type": "code",
   "execution_count": 12,
   "id": "60f971fe",
   "metadata": {},
   "outputs": [
    {
     "name": "stdout",
     "output_type": "stream",
     "text": [
      "1\n",
      "0\n",
      "1\n",
      "0\n",
      "2\n",
      "-1\n",
      "6\n",
      "-5\n",
      "23\n",
      "-22\n",
      "10\n",
      "-10\n"
     ]
    }
   ],
   "source": [
    "# math.ceil => the least integer greater than or equal to x\n",
    "## math.ceil(x) >= x\n",
    "print(math.ceil(0.5))\n",
    "print(math.ceil(-0.5))\n",
    "print(math.ceil(0.6))\n",
    "print(math.ceil(-0.6))\n",
    "print(math.ceil(1.4))\n",
    "print(math.ceil(-1.4))\n",
    "print(math.ceil(5.3))\n",
    "print(math.ceil(-5.3))\n",
    "print(math.ceil(22.6))\n",
    "print(math.ceil(-22.6))\n",
    "print(math.ceil(10.0))\n",
    "print(math.ceil(-10.0))"
   ]
  },
  {
   "cell_type": "code",
   "execution_count": 13,
   "id": "2b3a388d",
   "metadata": {},
   "outputs": [
    {
     "name": "stdout",
     "output_type": "stream",
     "text": [
      "0\n",
      "-1\n",
      "0\n",
      "-1\n",
      "1\n",
      "-2\n",
      "5\n",
      "-6\n",
      "22\n",
      "-23\n",
      "10\n",
      "-10\n"
     ]
    }
   ],
   "source": [
    "# math.floor() => the greatest integer less than or equal to x\n",
    "## math.floor(x) <= x\n",
    "print(math.floor(0.5))\n",
    "print(math.floor(-0.5))\n",
    "print(math.floor(0.6))\n",
    "print(math.floor(-0.6))\n",
    "print(math.floor(1.4))\n",
    "print(math.floor(-1.4))\n",
    "print(math.floor(5.3))\n",
    "print(math.floor(-5.3))\n",
    "print(math.floor(22.6))\n",
    "print(math.floor(-22.6))\n",
    "print(math.floor(10.0))\n",
    "print(math.floor(-10.0))"
   ]
  },
  {
   "cell_type": "markdown",
   "id": "981e1e8e",
   "metadata": {},
   "source": [
    "## Math Constants"
   ]
  },
  {
   "cell_type": "code",
   "execution_count": 4,
   "id": "a3870b8a",
   "metadata": {},
   "outputs": [
    {
     "name": "stdout",
     "output_type": "stream",
     "text": [
      "2.718281828459045\n",
      "inf\n",
      "nan\n",
      "3.141592653589793\n",
      "6.283185307179586\n"
     ]
    }
   ],
   "source": [
    "import math\n",
    "\n",
    "print(math.e) # Returns Euler's number (2.7182...)\n",
    "print(math.inf) # Returns a floating-point positive infinity\n",
    "print(math.nan) # Returns a floating-point NaN (Not a Number) value\n",
    "print(math.pi)\n",
    "print(math.tau) # Returns tau (6.2831...) => the ratio of the circumference to the radius of a circle"
   ]
  },
  {
   "cell_type": "markdown",
   "id": "e56b36b7",
   "metadata": {},
   "source": [
    "# Random number function"
   ]
  },
  {
   "cell_type": "code",
   "execution_count": 2,
   "id": "993c063a",
   "metadata": {},
   "outputs": [
    {
     "name": "stdout",
     "output_type": "stream",
     "text": [
      "8\n"
     ]
    }
   ],
   "source": [
    "import random\n",
    "### display a random number between 1 and 9:\n",
    "print(random.randrange(1, 10))"
   ]
  },
  {
   "cell_type": "markdown",
   "id": "a2e480de",
   "metadata": {},
   "source": [
    "# Trigonometric function"
   ]
  },
  {
   "cell_type": "code",
   "execution_count": 16,
   "id": "a837c16f",
   "metadata": {},
   "outputs": [
    {
     "name": "stdout",
     "output_type": "stream",
     "text": [
      "1.0\n",
      "0.0\n",
      "3.7621956910836314\n",
      "0.0\n",
      "0.0\n",
      "4051.54190208279\n",
      "1.5574077246549023\n",
      "0.0\n",
      "1.1071487177940904\n",
      "0.7615941559557649\n"
     ]
    }
   ],
   "source": [
    "## all return values are in radians\n",
    "print(math.cos(0.00)) ## A float value, from -1 to 1, representing the cosine of an angle\n",
    "print(math.acos(1)) ## A float value, representing the arc cosine of a number\n",
    "print(math.cosh(2)) ## Returns the hyperbolic cosine of a number\n",
    "print(math.sin(0)) ## Returns the sine of a number\n",
    "print(math.asin(0)) ## Returns the arc sine of a number\n",
    "print(math.sinh(9)) ## \tReturns the hyperbolic sine of a number\n",
    "print(math.tan(1)) ## Returns the hyperbolic tangent of a number\n",
    "print(math.atan(0)) ## Returns the arc tangent of a number in radians\n",
    "print(math.atan2(20,10)) ## Returns the arc tangent of y/x in radians which is between PI and -PI\n",
    "print(math.tanh(1)) ## Returns the hyperbolic tangent of a number"
   ]
  }
 ],
 "metadata": {
  "kernelspec": {
   "display_name": "Python 3.9.6 64-bit",
   "language": "python",
   "name": "python3"
  },
  "language_info": {
   "codemirror_mode": {
    "name": "ipython",
    "version": 3
   },
   "file_extension": ".py",
   "mimetype": "text/x-python",
   "name": "python",
   "nbconvert_exporter": "python",
   "pygments_lexer": "ipython3",
   "version": "3.9.6"
  },
  "vscode": {
   "interpreter": {
    "hash": "81794d4967e6c3204c66dcd87b604927b115b27c00565d3d43f05ba2f3a2cb0d"
   }
  }
 },
 "nbformat": 4,
 "nbformat_minor": 5
}
